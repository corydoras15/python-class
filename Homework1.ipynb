{
  "nbformat": 4,
  "nbformat_minor": 0,
  "metadata": {
    "colab": {
      "provenance": [],
      "toc_visible": true,
      "authorship_tag": "ABX9TyNx6ELmWZdk88O7dKsn6kmO",
      "include_colab_link": true
    },
    "kernelspec": {
      "name": "python3",
      "display_name": "Python 3"
    },
    "language_info": {
      "name": "python"
    }
  },
  "cells": [
    {
      "cell_type": "markdown",
      "metadata": {
        "id": "view-in-github",
        "colab_type": "text"
      },
      "source": [
        "<a href=\"https://colab.research.google.com/github/corydoras15/python-class/blob/main/Homework1.ipynb\" target=\"_parent\"><img src=\"https://colab.research.google.com/assets/colab-badge.svg\" alt=\"Open In Colab\"/></a>"
      ]
    },
    {
      "cell_type": "code",
      "execution_count": null,
      "metadata": {
        "colab": {
          "base_uri": "https://localhost:8080/"
        },
        "id": "ZnZf99ZR0utg",
        "outputId": "e12ce702-5e3e-4706-e35d-dea4a47d3425"
      },
      "outputs": [
        {
          "output_type": "stream",
          "name": "stdout",
          "text": [
            "hello world\n"
          ]
        }
      ],
      "source": [
        "# 001 \n",
        "a = (\"hello world\")\n",
        "print(a)"
      ]
    },
    {
      "cell_type": "code",
      "source": [
        "# 002\n",
        "a = (\"Mary's cosmetics\")\n",
        "print(a)"
      ],
      "metadata": {
        "colab": {
          "base_uri": "https://localhost:8080/"
        },
        "id": "lkYvF3Ae1VS_",
        "outputId": "6baab3f4-45e3-4129-ae93-c7951e0ba3d5"
      },
      "execution_count": null,
      "outputs": [
        {
          "output_type": "stream",
          "name": "stdout",
          "text": [
            "Mary's cosmetics\n"
          ]
        }
      ]
    },
    {
      "cell_type": "code",
      "source": [
        "# 003\n",
        "a = ('신씨가 소리질렀다. \"도둑이야\".')\n",
        "print(a)"
      ],
      "metadata": {
        "colab": {
          "base_uri": "https://localhost:8080/"
        },
        "id": "ay5e0b3k1ynH",
        "outputId": "835a5c3d-8e34-4dac-aaf2-85db710a9f40"
      },
      "execution_count": null,
      "outputs": [
        {
          "output_type": "stream",
          "name": "stdout",
          "text": [
            "신씨가 소리질렀다. \"도둑이야\".\n"
          ]
        }
      ]
    },
    {
      "cell_type": "code",
      "source": [
        "# 004\n",
        "a =('\"c:/windows\"')\n",
        "print(a)"
      ],
      "metadata": {
        "colab": {
          "base_uri": "https://localhost:8080/"
        },
        "id": "78csF8DO2NuP",
        "outputId": "e92ec6a4-8702-4be7-82fb-f0610081cdab"
      },
      "execution_count": null,
      "outputs": [
        {
          "output_type": "stream",
          "name": "stdout",
          "text": [
            "\"c:/windows\"\n"
          ]
        }
      ]
    },
    {
      "cell_type": "code",
      "source": [
        "# 005\n",
        "print(\"안녕하세요.\\n만나서\\t\\t반갑습니다.\") #\\n 은 줄바꿈  \\t는 일정간격 띄우기"
      ],
      "metadata": {
        "colab": {
          "base_uri": "https://localhost:8080/"
        },
        "id": "lp9LPZb52iJu",
        "outputId": "7d1906f5-8ae3-48fe-fb6e-f1867042d2fa"
      },
      "execution_count": null,
      "outputs": [
        {
          "output_type": "stream",
          "name": "stdout",
          "text": [
            "안녕하세요.\n",
            "만나서\t\t반갑습니다.\n"
          ]
        }
      ]
    },
    {
      "cell_type": "code",
      "source": [
        "# 006\n",
        "print(\"오늘은\",\"일요일\")"
      ],
      "metadata": {
        "colab": {
          "base_uri": "https://localhost:8080/"
        },
        "id": "1J01iPQUi3ir",
        "outputId": "83d90acc-25e3-444a-8c60-b902b26876b0"
      },
      "execution_count": null,
      "outputs": [
        {
          "output_type": "stream",
          "name": "stdout",
          "text": [
            "오늘은 일요일\n"
          ]
        }
      ]
    },
    {
      "cell_type": "code",
      "source": [
        "# 007\n",
        "print(\"naver;kakao;sk;samsung\")"
      ],
      "metadata": {
        "colab": {
          "base_uri": "https://localhost:8080/"
        },
        "id": "IAWqD3s9jMn3",
        "outputId": "9069c294-30ab-431a-bc1e-251c52af91da"
      },
      "execution_count": null,
      "outputs": [
        {
          "output_type": "stream",
          "name": "stdout",
          "text": [
            "naver;kakao;sk;samsung\n"
          ]
        }
      ]
    },
    {
      "cell_type": "code",
      "source": [
        "#008\n",
        "print(\"naver/kakao/sk/samsung\")"
      ],
      "metadata": {
        "colab": {
          "base_uri": "https://localhost:8080/"
        },
        "id": "xkp6J7GQjfgD",
        "outputId": "5783fc65-bb12-4627-e7a3-a74db3d08a31"
      },
      "execution_count": null,
      "outputs": [
        {
          "output_type": "stream",
          "name": "stdout",
          "text": [
            "naver/kakao/sk/samsung\n"
          ]
        }
      ]
    },
    {
      "cell_type": "code",
      "source": [
        "# 009\n",
        "print(\"frist\");print(\"second\")\n",
        "print(\"frist\", end=\"second\")\n",
        "print(\"frist\", end=\"\");print(\"second\")"
      ],
      "metadata": {
        "colab": {
          "base_uri": "https://localhost:8080/"
        },
        "id": "Y2Bj7HmOjtoc",
        "outputId": "27582c2d-a7e0-4c52-b0dc-993edad4ee9a"
      },
      "execution_count": null,
      "outputs": [
        {
          "output_type": "stream",
          "name": "stdout",
          "text": [
            "frist\n",
            "second\n",
            "fristsecondfristsecond\n"
          ]
        }
      ]
    },
    {
      "cell_type": "code",
      "source": [
        "# 010\n",
        "a = (5)\n",
        "b = (3)\n",
        "print(a/b)"
      ],
      "metadata": {
        "colab": {
          "base_uri": "https://localhost:8080/"
        },
        "id": "CvnnnLDIk28W",
        "outputId": "747ef276-4e18-45e6-9382-05d41b04180f"
      },
      "execution_count": null,
      "outputs": [
        {
          "output_type": "stream",
          "name": "stdout",
          "text": [
            "1.6666666666666667\n"
          ]
        }
      ]
    },
    {
      "cell_type": "code",
      "source": [
        "# 011\n",
        "삼성전자 = (50000)\n",
        "print(삼성전자  * 10)"
      ],
      "metadata": {
        "colab": {
          "base_uri": "https://localhost:8080/"
        },
        "id": "JGgDfMbklRjH",
        "outputId": "93d25d58-2735-4b2a-df16-ccec7c80feb9"
      },
      "execution_count": null,
      "outputs": [
        {
          "output_type": "stream",
          "name": "stdout",
          "text": [
            "500000\n",
            "500000\n"
          ]
        }
      ]
    },
    {
      "cell_type": "code",
      "source": [
        "# 012\n",
        "시가총액 = (\"298조\")\n",
        "현재가 = (\"50,000원\")\n",
        "PER = (15.79)\n",
        "\n",
        "print(시가총액, 현재가, PER)"
      ],
      "metadata": {
        "colab": {
          "base_uri": "https://localhost:8080/"
        },
        "id": "yuBLpREonv5Z",
        "outputId": "0e6afb2f-5043-41c4-d962-942c7003fff6"
      },
      "execution_count": null,
      "outputs": [
        {
          "output_type": "stream",
          "name": "stdout",
          "text": [
            "298조 50,000원 15.79\n"
          ]
        }
      ]
    },
    {
      "cell_type": "code",
      "source": [
        "# 013\n",
        "s = (\"hello\")\n",
        "t = (\"python\")\n",
        "a = (\"!\\t\")\n",
        "\n",
        "print(s,t, sep=\"!\")\n",
        "print(s,a,t)\n",
        "print(s,end = a);print(t)\n",
        "print(s+\"!\",t)"
      ],
      "metadata": {
        "colab": {
          "base_uri": "https://localhost:8080/"
        },
        "id": "tzNhMbdxokt_",
        "outputId": "d7f6a1fe-d5d4-43cb-f76f-903f7812a623"
      },
      "execution_count": null,
      "outputs": [
        {
          "output_type": "stream",
          "name": "stdout",
          "text": [
            "hello!python\n",
            "hello !\t python\n",
            "hello!\tpython\n",
            "hello! python\n"
          ]
        }
      ]
    },
    {
      "cell_type": "code",
      "source": [
        "# 014\n",
        "print(2 + 2 * 3)"
      ],
      "metadata": {
        "colab": {
          "base_uri": "https://localhost:8080/"
        },
        "id": "56YdKRU8p34p",
        "outputId": "1631ee6d-6352-442e-c8bd-97c15e9695c0"
      },
      "execution_count": null,
      "outputs": [
        {
          "output_type": "stream",
          "name": "stdout",
          "text": [
            "8\n"
          ]
        }
      ]
    },
    {
      "cell_type": "code",
      "source": [
        "# 015\n",
        "a = 132\n",
        "print(type(a))"
      ],
      "metadata": {
        "colab": {
          "base_uri": "https://localhost:8080/"
        },
        "id": "dQ9M7OFOqEmm",
        "outputId": "52936c4d-84d4-474a-db7c-6b2e679e2a43"
      },
      "execution_count": null,
      "outputs": [
        {
          "output_type": "stream",
          "name": "stdout",
          "text": [
            "<class 'int'>\n"
          ]
        }
      ]
    },
    {
      "cell_type": "code",
      "source": [
        "from re import A\n",
        "# 016\n",
        "num = \"720\"\n",
        "print(num, type(num))\n",
        "\n",
        "a = int(num)\n",
        "print(a, type(a))"
      ],
      "metadata": {
        "colab": {
          "base_uri": "https://localhost:8080/"
        },
        "id": "ZJ3ATnZxqPiK",
        "outputId": "2dec754b-4548-4710-efe0-f21afebff377"
      },
      "execution_count": null,
      "outputs": [
        {
          "output_type": "stream",
          "name": "stdout",
          "text": [
            "720 <class 'str'>\n",
            "720 <class 'int'>\n"
          ]
        }
      ]
    },
    {
      "cell_type": "code",
      "source": [
        "# 017\n",
        "num = 100\n",
        "print(num, type(num))\n",
        "\n",
        "a = str(num)\n",
        "print(a, type(a))"
      ],
      "metadata": {
        "colab": {
          "base_uri": "https://localhost:8080/"
        },
        "id": "URiVuW8Vq1gw",
        "outputId": "7c2fb4b7-8ce5-43e2-ecac-310308bb9fe5"
      },
      "execution_count": null,
      "outputs": [
        {
          "output_type": "stream",
          "name": "stdout",
          "text": [
            "100 <class 'int'>\n",
            "100 <class 'str'>\n"
          ]
        }
      ]
    },
    {
      "cell_type": "code",
      "source": [
        "# 018\n",
        "a = \"15.79\"\n",
        "print(a, type(a))\n",
        "\n",
        "b = float(a)\n",
        "print(b, type(b))"
      ],
      "metadata": {
        "colab": {
          "base_uri": "https://localhost:8080/"
        },
        "id": "7NdkeaCkrCJF",
        "outputId": "d242696e-dc70-4c9c-b624-a0f6aebe5680"
      },
      "execution_count": null,
      "outputs": [
        {
          "output_type": "stream",
          "name": "stdout",
          "text": [
            "15.79 <class 'str'>\n",
            "15.79 <class 'float'>\n"
          ]
        }
      ]
    },
    {
      "cell_type": "code",
      "source": [
        "# 019\n",
        "year = \"2020\"\n",
        "print(year, type(year))\n",
        "\n",
        "a = int(year)\n",
        "print(a, type(a))\n",
        "print(a-2, a-1, a)"
      ],
      "metadata": {
        "colab": {
          "base_uri": "https://localhost:8080/"
        },
        "id": "2TMoLgf-rIdu",
        "outputId": "3ace309d-979a-4923-9f29-0eed13e85fb7"
      },
      "execution_count": null,
      "outputs": [
        {
          "output_type": "stream",
          "name": "stdout",
          "text": [
            "2020 <class 'str'>\n",
            "2020 <class 'int'>\n",
            "2018 2019 2020\n"
          ]
        }
      ]
    },
    {
      "cell_type": "code",
      "source": [
        "# 020\n",
        "a = (48584)\n",
        "b = (36)\n",
        "c = (a * b)\n",
        "\n",
        "print(c)\n",
        "print(a * b)"
      ],
      "metadata": {
        "colab": {
          "base_uri": "https://localhost:8080/"
        },
        "id": "MGiVtf7OrSSW",
        "outputId": "73829798-766e-4247-f07f-6cbd9e4ea3ec"
      },
      "execution_count": null,
      "outputs": [
        {
          "output_type": "stream",
          "name": "stdout",
          "text": [
            "1749024\n",
            "1749024\n"
          ]
        }
      ]
    }
  ]
}