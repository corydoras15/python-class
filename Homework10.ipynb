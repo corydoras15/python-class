{
  "nbformat": 4,
  "nbformat_minor": 0,
  "metadata": {
    "colab": {
      "provenance": [],
      "authorship_tag": "ABX9TyPDbFVpOlX1XfgHqfxYaTIP",
      "include_colab_link": true
    },
    "kernelspec": {
      "name": "python3",
      "display_name": "Python 3"
    },
    "language_info": {
      "name": "python"
    }
  },
  "cells": [
    {
      "cell_type": "markdown",
      "metadata": {
        "id": "view-in-github",
        "colab_type": "text"
      },
      "source": [
        "<a href=\"https://colab.research.google.com/github/corydoras15/python-class/blob/main/Homework10.ipynb\" target=\"_parent\"><img src=\"https://colab.research.google.com/assets/colab-badge.svg\" alt=\"Open In Colab\"/></a>"
      ]
    },
    {
      "cell_type": "code",
      "execution_count": null,
      "metadata": {
        "colab": {
          "base_uri": "https://localhost:8080/"
        },
        "id": "bWro4A-7CgM5",
        "outputId": "6defb6f4-d3cb-4568-b4a5-7b575d01e756"
      },
      "outputs": [
        {
          "output_type": "stream",
          "name": "stdout",
          "text": [
            "Enter a number :10\n",
            "Enter a number :30\n",
            "10 30\n"
          ]
        }
      ],
      "source": [
        "# 012\n",
        "a = input(\"Enter a number :\")\n",
        "b = input(\"Enter a number :\")\n",
        "if a > b:\n",
        "  print(b, a)\n",
        "elif b > a:\n",
        "  print(a, b)"
      ]
    },
    {
      "cell_type": "code",
      "source": [
        "# 013\n",
        "a = int(input(\"Enter a number under 20 :\"))\n",
        "if a >= 20:\n",
        "  print(\"Too high\")\n",
        "else:\n",
        "  print(\"Thank you\")"
      ],
      "metadata": {
        "colab": {
          "base_uri": "https://localhost:8080/"
        },
        "id": "CPZAjSCLEbkh",
        "outputId": "b8ff9a41-8995-486f-ef68-bf0325a5c1c1"
      },
      "execution_count": null,
      "outputs": [
        {
          "output_type": "stream",
          "name": "stdout",
          "text": [
            "Enter a number under 20 :10\n",
            "Thank you\n"
          ]
        }
      ]
    },
    {
      "cell_type": "code",
      "source": [
        "# 014\n",
        "a = int(input(\"Enter number between 10 and 20 :\"))\n",
        "if a >= 10 and a <= 20:\n",
        "  print(\"Thank you\")\n",
        "else:\n",
        "  print(\"Incorrect answer\")"
      ],
      "metadata": {
        "colab": {
          "base_uri": "https://localhost:8080/"
        },
        "id": "2tkgAPY9FbUY",
        "outputId": "c2bbe333-886b-4b02-b5fe-485735c552a5"
      },
      "execution_count": null,
      "outputs": [
        {
          "output_type": "stream",
          "name": "stdout",
          "text": [
            "Enter number between 10 and 20 :22\n",
            "Incorrect answer\n"
          ]
        }
      ]
    },
    {
      "cell_type": "code",
      "source": [
        "# 015\n",
        "a = input(\"Enter favourite colour :\")\n",
        "if a == 'red' or a == 'RED' or a == 'Red':\n",
        "  print(\"I like red too\")\n",
        "else:\n",
        "  print(\"I don't like\", a +\", I prefer red\")"
      ],
      "metadata": {
        "colab": {
          "base_uri": "https://localhost:8080/"
        },
        "id": "355CZi_MGb0W",
        "outputId": "060b60a1-9bd4-4157-9c76-0182695386c0"
      },
      "execution_count": null,
      "outputs": [
        {
          "output_type": "stream",
          "name": "stdout",
          "text": [
            "Enter favourite colour :orange\n",
            "I don't like orange, I prefer red\n"
          ]
        }
      ]
    },
    {
      "cell_type": "code",
      "source": [
        "# 016\n",
        "a = input(\"It is raining :\")\n",
        "a = a.lower()\n",
        "if a == \"yes\":\n",
        "   b = input(\"It is windy :\")\n",
        "   b = b.lower()\n",
        "   if b == \"yes\":\n",
        "    print(\"It is too windy for an umbrella\")\n",
        "   else:\n",
        "    print(\"Take an umbrella\")\n",
        "else:\n",
        "  print(\"Enjoy your day\")\n"
      ],
      "metadata": {
        "colab": {
          "base_uri": "https://localhost:8080/"
        },
        "id": "BdH0eQMQIqqK",
        "outputId": "ecf67dc9-b452-4c76-fa57-b695ffa2bd0f"
      },
      "execution_count": null,
      "outputs": [
        {
          "output_type": "stream",
          "name": "stdout",
          "text": [
            "It is raining :yes\n",
            "It is windy :no\n",
            "Take an umbrella\n"
          ]
        }
      ]
    },
    {
      "cell_type": "code",
      "source": [
        "# 017\n",
        "a = int(input(\"Enter your age :\"))\n",
        "if a >= 18:\n",
        "  print(\"You can vote\")\n",
        "elif a == 17:\n",
        "  print(\"You can learn to drive\")\n",
        "elif a == 16:\n",
        "  print(\"You can buy a lottery ticket\")\n",
        "else:\n",
        "  print(\"You can go Trick-or-Treating\")"
      ],
      "metadata": {
        "colab": {
          "base_uri": "https://localhost:8080/"
        },
        "id": "GEEOjHDhJuqa",
        "outputId": "a7208b1f-dc79-4fd9-8613-ec371926cac1"
      },
      "execution_count": null,
      "outputs": [
        {
          "output_type": "stream",
          "name": "stdout",
          "text": [
            "Enter your age :16\n",
            "You can buy a lottery ticket\n"
          ]
        }
      ]
    },
    {
      "cell_type": "code",
      "source": [
        "# 018\n",
        "a = int(input(\"Enter number :\"))\n",
        "if a < 10:\n",
        "  print(\"Too low\")\n",
        "elif a >= 10 and a <=20:\n",
        "  print(\"Correct\")\n",
        "else:\n",
        "  print(\"Too hihg\")"
      ],
      "metadata": {
        "colab": {
          "base_uri": "https://localhost:8080/"
        },
        "id": "-hLorCZdLDyR",
        "outputId": "27f445df-d780-4ef0-c903-753fa23b00e7"
      },
      "execution_count": null,
      "outputs": [
        {
          "output_type": "stream",
          "name": "stdout",
          "text": [
            "Enter number :15\n",
            "Correct\n"
          ]
        }
      ]
    },
    {
      "cell_type": "code",
      "source": [
        "# 019\n",
        "a = int(input(\"Enter a number 1, 2 or 3 :\"))\n",
        "if a == 1:\n",
        "  print(\"Thank you\")\n",
        "elif a == 2:\n",
        "  print(\"Well done\")\n",
        "elif a == 3:\n",
        "  print(\"Correct\")\n",
        "else:\n",
        "  print(\"Error message\")"
      ],
      "metadata": {
        "colab": {
          "base_uri": "https://localhost:8080/"
        },
        "id": "R7ktQgNVLx3X",
        "outputId": "c0bc931a-6c62-42d3-f50c-2a967a70274a"
      },
      "execution_count": null,
      "outputs": [
        {
          "output_type": "stream",
          "name": "stdout",
          "text": [
            "Enter a number 1, 2 or 3 :5\n",
            "Error message\n"
          ]
        }
      ]
    }
  ]
}