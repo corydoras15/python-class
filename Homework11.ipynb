{
  "nbformat": 4,
  "nbformat_minor": 0,
  "metadata": {
    "colab": {
      "provenance": [],
      "authorship_tag": "ABX9TyMUKngwfbE+3/eboHtWhmJS",
      "include_colab_link": true
    },
    "kernelspec": {
      "name": "python3",
      "display_name": "Python 3"
    },
    "language_info": {
      "name": "python"
    }
  },
  "cells": [
    {
      "cell_type": "markdown",
      "metadata": {
        "id": "view-in-github",
        "colab_type": "text"
      },
      "source": [
        "<a href=\"https://colab.research.google.com/github/corydoras15/python-class/blob/main/Homework11.ipynb\" target=\"_parent\"><img src=\"https://colab.research.google.com/assets/colab-badge.svg\" alt=\"Open In Colab\"/></a>"
      ]
    },
    {
      "cell_type": "code",
      "execution_count": null,
      "metadata": {
        "colab": {
          "base_uri": "https://localhost:8080/"
        },
        "id": "ZwGBdOnPPd2p",
        "outputId": "a7c562c7-e880-494b-cf72-536843dc8b34"
      },
      "outputs": [
        {
          "output_type": "stream",
          "name": "stdout",
          "text": [
            "32100\n",
            "32150\n",
            "32000\n",
            "32500\n"
          ]
        }
      ],
      "source": [
        "# 171\n",
        "price_list = [32100, 32150, 32000, 32500]\n",
        "for i in range(4):\n",
        "  print(price_list[i])"
      ]
    },
    {
      "cell_type": "code",
      "source": [
        "# 172\n",
        "price_list = [32100, 32150, 32000, 32500]\n",
        "for i in range(4):\n",
        "  print(i, price_list[i])"
      ],
      "metadata": {
        "colab": {
          "base_uri": "https://localhost:8080/"
        },
        "id": "zJFd3qHsUgBU",
        "outputId": "99ae0a38-ab84-4704-f95c-24cd80ecc730"
      },
      "execution_count": null,
      "outputs": [
        {
          "output_type": "stream",
          "name": "stdout",
          "text": [
            "0 32100\n",
            "1 32150\n",
            "2 32000\n",
            "3 32500\n"
          ]
        }
      ]
    },
    {
      "cell_type": "code",
      "source": [
        "# 173\n",
        "a = 4\n",
        "price_list = [32100, 32150, 32000, 32500]\n",
        "for i in range(4):\n",
        "  a = a - 1\n",
        "  print(a, price_list[i])"
      ],
      "metadata": {
        "colab": {
          "base_uri": "https://localhost:8080/"
        },
        "id": "Fy7et345XGNj",
        "outputId": "677cbddc-1c03-4294-c9c9-b353853b8f45"
      },
      "execution_count": null,
      "outputs": [
        {
          "output_type": "stream",
          "name": "stdout",
          "text": [
            "3 32100\n",
            "2 32150\n",
            "1 32000\n",
            "0 32500\n"
          ]
        }
      ]
    },
    {
      "cell_type": "code",
      "source": [
        "# 174\n",
        "a = 90\n",
        "price_list = [32100, 32150, 32000, 32500]\n",
        "for i in range(1, 4):\n",
        "   a = a + 10\n",
        "   print(a, price_list[i])"
      ],
      "metadata": {
        "colab": {
          "base_uri": "https://localhost:8080/"
        },
        "id": "n4arjauza68T",
        "outputId": "0b98fb7b-7e9c-466a-f5ad-aedb7abf0b3c"
      },
      "execution_count": null,
      "outputs": [
        {
          "output_type": "stream",
          "name": "stdout",
          "text": [
            "100 32150\n",
            "110 32000\n",
            "120 32500\n"
          ]
        }
      ]
    },
    {
      "cell_type": "code",
      "source": [
        "# 175\n",
        "a = 0\n",
        "my_list = [\"가\", \"나\", \"다\", \"라\"]\n",
        "for i in range(0, 3):\n",
        "  a = a + 1\n",
        "  print(my_list[i], my_list[a])"
      ],
      "metadata": {
        "colab": {
          "base_uri": "https://localhost:8080/"
        },
        "id": "LOgE-fisdJXw",
        "outputId": "493e86c9-eda1-4911-e9cc-7358298b8d7f"
      },
      "execution_count": null,
      "outputs": [
        {
          "output_type": "stream",
          "name": "stdout",
          "text": [
            "가 나\n",
            "나 다\n",
            "다 라\n"
          ]
        }
      ]
    },
    {
      "cell_type": "code",
      "source": [
        "# 176\n",
        "a = 0\n",
        "b = 0\n",
        "my_list = [\"가\", \"나\", \"다\", \"라\", \"마\"]\n",
        "for i in range(3):\n",
        "  a = a + 1\n",
        "  b = a + 1\n",
        "  print(my_list[i], my_list[a], my_list[b])"
      ],
      "metadata": {
        "colab": {
          "base_uri": "https://localhost:8080/"
        },
        "id": "sc0Ju282jYvk",
        "outputId": "ce131f38-55a0-4593-b431-db688256a91f"
      },
      "execution_count": null,
      "outputs": [
        {
          "output_type": "stream",
          "name": "stdout",
          "text": [
            "가 나 다\n",
            "나 다 라\n",
            "다 라 마\n"
          ]
        }
      ]
    },
    {
      "cell_type": "code",
      "source": [
        "# 177\n",
        "a = 0\n",
        "b = 0\n",
        "my_list = [\"가\", \"나\", \"다\", \"라\"]\n",
        "for i in range(3):\n",
        "  a = a - 1\n",
        "  b = a - 1\n",
        "  print(my_list[a], my_list[b])"
      ],
      "metadata": {
        "colab": {
          "base_uri": "https://localhost:8080/"
        },
        "id": "8ltkVuzWkb6F",
        "outputId": "b44a0d68-d46a-4141-a711-5fed9cd91dd5"
      },
      "execution_count": null,
      "outputs": [
        {
          "output_type": "stream",
          "name": "stdout",
          "text": [
            "라 다\n",
            "다 나\n",
            "나 가\n"
          ]
        }
      ]
    },
    {
      "cell_type": "code",
      "source": [
        "# 178\n",
        "a = 0\n",
        "my_list = [100, 200, 400, 800]\n",
        "for i in range(3):\n",
        "  a = a + 1\n",
        "  print(my_list[a] - my_list[i])"
      ],
      "metadata": {
        "colab": {
          "base_uri": "https://localhost:8080/"
        },
        "id": "zo60pVH0mGFL",
        "outputId": "48f7624d-6f62-4441-f632-35e5f560c1ec"
      },
      "execution_count": null,
      "outputs": [
        {
          "output_type": "stream",
          "name": "stdout",
          "text": [
            "100\n",
            "200\n",
            "400\n"
          ]
        }
      ]
    },
    {
      "cell_type": "code",
      "source": [
        "# 179\n",
        "a = 0\n",
        "b = 0\n",
        "my_list = [100, 200, 400, 800, 1000, 1300]\n",
        "for i in range(4):\n",
        "  a = a + 1\n",
        "  b = a + 1\n",
        "  c = (my_list[i] + my_list[a] + my_list[b]) / 3\n",
        "  print(c)"
      ],
      "metadata": {
        "colab": {
          "base_uri": "https://localhost:8080/"
        },
        "id": "YqnGwa2bp9JR",
        "outputId": "c12637ec-f8b7-470e-90b6-3ab760d761bc"
      },
      "execution_count": null,
      "outputs": [
        {
          "output_type": "stream",
          "name": "stdout",
          "text": [
            "233.33333333333334\n",
            "466.6666666666667\n",
            "733.3333333333334\n",
            "1033.3333333333333\n"
          ]
        }
      ]
    },
    {
      "cell_type": "code",
      "source": [
        "# 180\n",
        "low_prices  = [100, 200, 400, 800, 1000]\n",
        "high_prices = [150, 300, 430, 880, 1000]\n",
        "for i in range(5):\n",
        "  volatility = high_prices[i] - low_prices[i]\n",
        "  print(volatility)"
      ],
      "metadata": {
        "colab": {
          "base_uri": "https://localhost:8080/"
        },
        "id": "OtvOYMK-vR5C",
        "outputId": "2b0ca90f-29d8-4582-e93f-d83a8ff2fe2a"
      },
      "execution_count": null,
      "outputs": [
        {
          "output_type": "stream",
          "name": "stdout",
          "text": [
            "50\n",
            "100\n",
            "30\n",
            "80\n",
            "0\n"
          ]
        }
      ]
    },
    {
      "cell_type": "code",
      "source": [
        "# 181\n",
        "a = [\"101호\", \"102호\"]\n",
        "b = [\"201호\", \"202호\"]\n",
        "c = [\"301호\", \"302호\"]\n",
        "apart = [a, b, c]\n",
        "print(apart)"
      ],
      "metadata": {
        "colab": {
          "base_uri": "https://localhost:8080/"
        },
        "id": "STXt1S0u1RqN",
        "outputId": "4a9b0108-62e5-4b39-daed-422f61833a35"
      },
      "execution_count": null,
      "outputs": [
        {
          "output_type": "stream",
          "name": "stdout",
          "text": [
            "[['101호', '102호'], ['201호', '202호'], ['301호', '302호']]\n"
          ]
        }
      ]
    },
    {
      "cell_type": "code",
      "source": [
        "# 182\n",
        "시가 = [100, 200, 300]\n",
        "종가 = [80, 210, 330]\n",
        "stock = [시가, 종가]\n",
        "print(stock)"
      ],
      "metadata": {
        "colab": {
          "base_uri": "https://localhost:8080/"
        },
        "id": "3DwCXLNB2GLV",
        "outputId": "006e323d-e104-4eb3-83c2-e9465e344af0"
      },
      "execution_count": null,
      "outputs": [
        {
          "output_type": "stream",
          "name": "stdout",
          "text": [
            "[[100, 200, 300], [80, 210, 330]]\n"
          ]
        }
      ]
    },
    {
      "cell_type": "code",
      "source": [
        "# 183\n",
        "stock = {'시가': [100, 200, 300], '종가': [80, 210, 330]}\n",
        "print(stock)"
      ],
      "metadata": {
        "colab": {
          "base_uri": "https://localhost:8080/"
        },
        "id": "2Lzr77En2pqR",
        "outputId": "6b9f443a-4dd5-4625-aa0c-aa6bbe5f0aed"
      },
      "execution_count": null,
      "outputs": [
        {
          "output_type": "stream",
          "name": "stdout",
          "text": [
            "{'시가': [100, 200, 300], '종가': [80, 210, 330]}\n"
          ]
        }
      ]
    },
    {
      "cell_type": "code",
      "source": [
        "# 184\n",
        "stock = {\"10/10\": [80, 110, 70 ,90], \"10/11\":[210, 230, 190, 200]}\n",
        "print(stock)"
      ],
      "metadata": {
        "colab": {
          "base_uri": "https://localhost:8080/"
        },
        "id": "rVRDBoBu3mOm",
        "outputId": "8e2a05dd-17de-46b0-ee5b-eb74568be157"
      },
      "execution_count": null,
      "outputs": [
        {
          "output_type": "stream",
          "name": "stdout",
          "text": [
            "{'10/10': [80, 110, 70, 90], '10/11': [210, 230, 190, 200]}\n"
          ]
        }
      ]
    },
    {
      "cell_type": "code",
      "source": [
        "# 185\n",
        "\n",
        "apart = [ [101, 102], [201, 202], [301, 302] ]\n",
        "for i in apart:\n",
        "  for j in i:\n",
        "   print(j, \"호\")"
      ],
      "metadata": {
        "colab": {
          "base_uri": "https://localhost:8080/"
        },
        "id": "Tp5M0oYE4Gde",
        "outputId": "5879d087-4baa-4b4e-900d-363c303c9098"
      },
      "execution_count": null,
      "outputs": [
        {
          "output_type": "stream",
          "name": "stdout",
          "text": [
            "101 호\n",
            "102 호\n",
            "201 호\n",
            "202 호\n",
            "301 호\n",
            "302 호\n"
          ]
        }
      ]
    },
    {
      "cell_type": "code",
      "source": [
        "# 186\n",
        "apart = [ [101, 102], [201, 202], [301, 302] ]\n",
        "for i in apart[::-1]:\n",
        "  for j in i:\n",
        "    print(j, \"호\")"
      ],
      "metadata": {
        "colab": {
          "base_uri": "https://localhost:8080/"
        },
        "id": "CV5SrEFJCiT7",
        "outputId": "640a5dc3-b508-449d-d6bf-ef9ba13379fc"
      },
      "execution_count": null,
      "outputs": [
        {
          "output_type": "stream",
          "name": "stdout",
          "text": [
            "301 호\n",
            "302 호\n",
            "201 호\n",
            "202 호\n",
            "101 호\n",
            "102 호\n"
          ]
        }
      ]
    },
    {
      "cell_type": "code",
      "source": [
        "# 187\n",
        "apart = [ [101, 102], [201, 202], [301, 302] ]\n",
        "for i in apart[::-1]:\n",
        "  for j in i[::-1]:\n",
        "    print(j, \"호\")"
      ],
      "metadata": {
        "colab": {
          "base_uri": "https://localhost:8080/"
        },
        "id": "95yu3tqWC3i8",
        "outputId": "bb2e3b09-c778-4a80-b24a-0959a0f3f63b"
      },
      "execution_count": null,
      "outputs": [
        {
          "output_type": "stream",
          "name": "stdout",
          "text": [
            "302 호\n",
            "301 호\n",
            "202 호\n",
            "201 호\n",
            "102 호\n",
            "101 호\n"
          ]
        }
      ]
    },
    {
      "cell_type": "code",
      "source": [
        "# 188\n",
        "apart = [ [101, 102], [201, 202], [301, 302] ]\n",
        "for i in apart:\n",
        "  for j in i:\n",
        "   print(j, \"호\")\n",
        "   print(\"-----\", end = \"\")"
      ],
      "metadata": {
        "colab": {
          "base_uri": "https://localhost:8080/"
        },
        "id": "0sj-Ak4tDJ4F",
        "outputId": "30502f4c-17ee-4889-b312-b888e59d24ba"
      },
      "execution_count": null,
      "outputs": [
        {
          "output_type": "stream",
          "name": "stdout",
          "text": [
            "101 호\n",
            "----- 102 호\n",
            "----- 201 호\n",
            "----- 202 호\n",
            "----- 301 호\n",
            "----- 302 호\n",
            "----- "
          ]
        }
      ]
    },
    {
      "cell_type": "code",
      "source": [
        "# 189\n",
        "apart = [ [101, 102], [201, 202], [301, 302] ]\n",
        "for i in apart:\n",
        "  for j in i:\n",
        "   print(j, \"호\")\n",
        "  print(\"-----\")"
      ],
      "metadata": {
        "colab": {
          "base_uri": "https://localhost:8080/"
        },
        "id": "NFmvzahhDoPL",
        "outputId": "0be5de58-e41b-4bc7-fcd3-7113af12e89a"
      },
      "execution_count": null,
      "outputs": [
        {
          "output_type": "stream",
          "name": "stdout",
          "text": [
            "101 호\n",
            "102 호\n",
            "-----\n",
            "201 호\n",
            "202 호\n",
            "-----\n",
            "301 호\n",
            "302 호\n",
            "-----\n"
          ]
        }
      ]
    },
    {
      "cell_type": "code",
      "source": [
        "# 190\n",
        "apart = [ [101, 102], [201, 202], [301, 302] ]\n",
        "for i in apart:\n",
        "  for j in i:\n",
        "   print(j, \"호\")\n",
        "print(\"-----\")"
      ],
      "metadata": {
        "colab": {
          "base_uri": "https://localhost:8080/"
        },
        "id": "Y0akSbiIDwuP",
        "outputId": "89670eff-62d2-4e75-f28c-ef2c6000aa8d"
      },
      "execution_count": null,
      "outputs": [
        {
          "output_type": "stream",
          "name": "stdout",
          "text": [
            "101 호\n",
            "102 호\n",
            "201 호\n",
            "202 호\n",
            "301 호\n",
            "302 호\n",
            "-----\n"
          ]
        }
      ]
    }
  ]
}