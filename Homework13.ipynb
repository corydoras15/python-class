{
  "nbformat": 4,
  "nbformat_minor": 0,
  "metadata": {
    "colab": {
      "provenance": [],
      "authorship_tag": "ABX9TyPLGkCBPFGIxA2c4RnmdrCJ",
      "include_colab_link": true
    },
    "kernelspec": {
      "name": "python3",
      "display_name": "Python 3"
    },
    "language_info": {
      "name": "python"
    }
  },
  "cells": [
    {
      "cell_type": "markdown",
      "metadata": {
        "id": "view-in-github",
        "colab_type": "text"
      },
      "source": [
        "<a href=\"https://colab.research.google.com/github/corydoras15/python-class/blob/main/Homework13.ipynb\" target=\"_parent\"><img src=\"https://colab.research.google.com/assets/colab-badge.svg\" alt=\"Open In Colab\"/></a>"
      ]
    },
    {
      "cell_type": "code",
      "execution_count": 1,
      "metadata": {
        "colab": {
          "base_uri": "https://localhost:8080/"
        },
        "id": "Qxoolsah7lLr",
        "outputId": "07f99ab5-e4c7-48bc-826f-a239fe20d457"
      },
      "outputs": [
        {
          "output_type": "stream",
          "name": "stdout",
          "text": [
            "안녕\n",
            "Hi\n"
          ]
        }
      ],
      "source": [
        "# 211\n",
        "def 함수(문자열) :\n",
        "    print(문자열)\n",
        "\n",
        "함수(\"안녕\")\n",
        "함수(\"Hi\")\n",
        "# 안녕\n",
        "# Hi 출력"
      ]
    },
    {
      "cell_type": "code",
      "source": [
        "# 212\n",
        "def 함수(a, b) :\n",
        "    print(a + b)\n",
        "\n",
        "함수(3, 4)\n",
        "함수(7, 8)\n",
        "# 7\n",
        "# 15 출력"
      ],
      "metadata": {
        "colab": {
          "base_uri": "https://localhost:8080/"
        },
        "id": "Tk73FtDb79fV",
        "outputId": "5eba0b16-c8b2-4ba5-ed68-9a4ab5cd05f8"
      },
      "execution_count": 2,
      "outputs": [
        {
          "output_type": "stream",
          "name": "stdout",
          "text": [
            "7\n",
            "15\n"
          ]
        }
      ]
    },
    {
      "cell_type": "code",
      "source": [
        "# 213\n",
        "def 함수(문자열) :\n",
        "    print(문자열)\n",
        "\n",
        "\n",
        "함수() # 문자열이 없음"
      ],
      "metadata": {
        "colab": {
          "base_uri": "https://localhost:8080/",
          "height": 205
        },
        "id": "GXx7bglG8KM7",
        "outputId": "00593fa5-3d64-4b0d-b5d7-ac0cf31fd417"
      },
      "execution_count": 3,
      "outputs": [
        {
          "output_type": "error",
          "ename": "TypeError",
          "evalue": "ignored",
          "traceback": [
            "\u001b[0;31m---------------------------------------------------------------------------\u001b[0m",
            "\u001b[0;31mTypeError\u001b[0m                                 Traceback (most recent call last)",
            "\u001b[0;32m<ipython-input-3-d39859a0ed7e>\u001b[0m in \u001b[0;36m<module>\u001b[0;34m\u001b[0m\n\u001b[1;32m      4\u001b[0m \u001b[0;34m\u001b[0m\u001b[0m\n\u001b[1;32m      5\u001b[0m \u001b[0;34m\u001b[0m\u001b[0m\n\u001b[0;32m----> 6\u001b[0;31m \u001b[0m함수\u001b[0m\u001b[0;34m(\u001b[0m\u001b[0;34m)\u001b[0m \u001b[0;31m# 문자열이 없음\u001b[0m\u001b[0;34m\u001b[0m\u001b[0;34m\u001b[0m\u001b[0m\n\u001b[0m",
            "\u001b[0;31mTypeError\u001b[0m: 함수() missing 1 required positional argument: '문자열'"
          ]
        }
      ]
    },
    {
      "cell_type": "code",
      "source": [
        "# 214\n",
        "def 함수(a, b) :\n",
        "    print(a + b)\n",
        "\n",
        "함수(\"안녕\", 3) # str과 int가 혼용"
      ],
      "metadata": {
        "colab": {
          "base_uri": "https://localhost:8080/",
          "height": 330
        },
        "id": "ZWYrRNXr8XiI",
        "outputId": "4891f6d9-96df-4178-e366-cebeb98d4081"
      },
      "execution_count": 5,
      "outputs": [
        {
          "output_type": "error",
          "ename": "TypeError",
          "evalue": "ignored",
          "traceback": [
            "\u001b[0;31m---------------------------------------------------------------------------\u001b[0m",
            "\u001b[0;31mTypeError\u001b[0m                                 Traceback (most recent call last)",
            "\u001b[0;32m<ipython-input-5-8deb11df853f>\u001b[0m in \u001b[0;36m<module>\u001b[0;34m\u001b[0m\n\u001b[1;32m      3\u001b[0m     \u001b[0mprint\u001b[0m\u001b[0;34m(\u001b[0m\u001b[0ma\u001b[0m \u001b[0;34m+\u001b[0m \u001b[0mb\u001b[0m\u001b[0;34m)\u001b[0m\u001b[0;34m\u001b[0m\u001b[0;34m\u001b[0m\u001b[0m\n\u001b[1;32m      4\u001b[0m \u001b[0;34m\u001b[0m\u001b[0m\n\u001b[0;32m----> 5\u001b[0;31m \u001b[0m함수\u001b[0m\u001b[0;34m(\u001b[0m\u001b[0;34m\"안녕\"\u001b[0m\u001b[0;34m,\u001b[0m \u001b[0;36m3\u001b[0m\u001b[0;34m)\u001b[0m \u001b[0;31m# str과 int가 혼용\u001b[0m\u001b[0;34m\u001b[0m\u001b[0;34m\u001b[0m\u001b[0m\n\u001b[0m",
            "\u001b[0;32m<ipython-input-5-8deb11df853f>\u001b[0m in \u001b[0;36m함수\u001b[0;34m(a, b)\u001b[0m\n\u001b[1;32m      1\u001b[0m \u001b[0;31m# 214\u001b[0m\u001b[0;34m\u001b[0m\u001b[0;34m\u001b[0m\u001b[0;34m\u001b[0m\u001b[0m\n\u001b[1;32m      2\u001b[0m \u001b[0;32mdef\u001b[0m \u001b[0m함수\u001b[0m\u001b[0;34m(\u001b[0m\u001b[0ma\u001b[0m\u001b[0;34m,\u001b[0m \u001b[0mb\u001b[0m\u001b[0;34m)\u001b[0m \u001b[0;34m:\u001b[0m\u001b[0;34m\u001b[0m\u001b[0;34m\u001b[0m\u001b[0m\n\u001b[0;32m----> 3\u001b[0;31m     \u001b[0mprint\u001b[0m\u001b[0;34m(\u001b[0m\u001b[0ma\u001b[0m \u001b[0;34m+\u001b[0m \u001b[0mb\u001b[0m\u001b[0;34m)\u001b[0m\u001b[0;34m\u001b[0m\u001b[0;34m\u001b[0m\u001b[0m\n\u001b[0m\u001b[1;32m      4\u001b[0m \u001b[0;34m\u001b[0m\u001b[0m\n\u001b[1;32m      5\u001b[0m \u001b[0m함수\u001b[0m\u001b[0;34m(\u001b[0m\u001b[0;34m\"안녕\"\u001b[0m\u001b[0;34m,\u001b[0m \u001b[0;36m3\u001b[0m\u001b[0;34m)\u001b[0m \u001b[0;31m# str과 int가 혼용\u001b[0m\u001b[0;34m\u001b[0m\u001b[0;34m\u001b[0m\u001b[0m\n",
            "\u001b[0;31mTypeError\u001b[0m: can only concatenate str (not \"int\") to str"
          ]
        }
      ]
    },
    {
      "cell_type": "code",
      "source": [
        "# 215\n",
        "def print_with_smile():\n",
        "  a = input(\"문자를 입력하세요: \")\n",
        "  print(a, \":D\")\n",
        "print_with_smile()"
      ],
      "metadata": {
        "colab": {
          "base_uri": "https://localhost:8080/"
        },
        "id": "ZP0fVC_u8pKk",
        "outputId": "ec78cc03-42f1-44c6-d416-8815dc8dbbe3"
      },
      "execution_count": 12,
      "outputs": [
        {
          "output_type": "stream",
          "name": "stdout",
          "text": [
            "문자를 입력하세요: 안녕\n",
            "안녕 :D\n"
          ]
        }
      ]
    },
    {
      "cell_type": "code",
      "source": [
        "# 216\n",
        "print_with_smile()"
      ],
      "metadata": {
        "colab": {
          "base_uri": "https://localhost:8080/"
        },
        "id": "vXwvhuW2-LqV",
        "outputId": "11d7ed6b-e8a7-4e40-bc95-bb31c1a708f8"
      },
      "execution_count": 13,
      "outputs": [
        {
          "output_type": "stream",
          "name": "stdout",
          "text": [
            "문자를 입력하세요: 안녕하세요\n",
            "안녕하세요 :D\n"
          ]
        }
      ]
    },
    {
      "cell_type": "code",
      "source": [
        "# 217\n",
        "def print_upper_price():\n",
        "  a = int(input(\"가격을 입력하세요: \"))\n",
        "  print(\"상한가\", a + a * 0.3)\n",
        "print_upper_price()"
      ],
      "metadata": {
        "colab": {
          "base_uri": "https://localhost:8080/"
        },
        "id": "mmoROcck-XXX",
        "outputId": "b4c061e3-7ac9-4961-dc80-b90199243415"
      },
      "execution_count": 16,
      "outputs": [
        {
          "output_type": "stream",
          "name": "stdout",
          "text": [
            "가격을 입력하세요: 1000\n",
            "상한가 1300.0\n"
          ]
        }
      ]
    },
    {
      "cell_type": "code",
      "source": [
        "# 218\n",
        "def print_sum():\n",
        "  a = int(input(\"첫번째 숫자를 입력하세요: \"))\n",
        "  b = int(input(\"두번째 숫자를 입력하세요: \"))\n",
        "  print(a + b)\n",
        "print_sum()"
      ],
      "metadata": {
        "colab": {
          "base_uri": "https://localhost:8080/"
        },
        "id": "0VpT3eFk_XzO",
        "outputId": "4c88721c-0cde-4f21-8353-abbc4d01f4b7"
      },
      "execution_count": 17,
      "outputs": [
        {
          "output_type": "stream",
          "name": "stdout",
          "text": [
            "첫번째 숫자를 입력하세요: 10\n",
            "두번째 숫자를 입력하세요: 20\n",
            "30\n"
          ]
        }
      ]
    },
    {
      "cell_type": "code",
      "source": [
        "# 219\n",
        "def print_arithmetic_opration(a, b):\n",
        "#  a = int(input(\"첫번째 숫자를 입력하세요: \"))\n",
        "#  b = int(input(\"두번째 숫자를 입력하세요: \"))\n",
        "  print(a, \"+\", b, \"=\", a + b)\n",
        "  print(a, \"-\", b, \"=\", a - b)\n",
        "  print(a, \"*\", b, \"=\", a * b)\n",
        "  print(a, \"/\", b, \"=\", a / b)\n",
        "print_arithmetic_opration(3, 4)"
      ],
      "metadata": {
        "colab": {
          "base_uri": "https://localhost:8080/"
        },
        "id": "RyN7--EzAJ4t",
        "outputId": "4a719305-43cb-4edb-832f-6184cfab2119"
      },
      "execution_count": 22,
      "outputs": [
        {
          "output_type": "stream",
          "name": "stdout",
          "text": [
            "3 + 4 = 7\n",
            "3 - 4 = -1\n",
            "3 * 4 = 12\n",
            "3 / 4 = 0.75\n"
          ]
        }
      ]
    },
    {
      "cell_type": "code",
      "source": [
        "# 220\n",
        "def print_max(a, b, c):\n",
        "#  if a > b and a > c:\n",
        "#    print(a)\n",
        "#  elif b > a and b > c:\n",
        "#    print(b)\n",
        "#  else:\n",
        "#    print(c)\n",
        "  d = 0\n",
        "  if a > d:\n",
        "    d = a\n",
        "  if b > d:\n",
        "    d = b\n",
        "  if c > d:\n",
        "    d = c\n",
        "  print(d)    \n",
        "print_max(10, 20, 30)"
      ],
      "metadata": {
        "colab": {
          "base_uri": "https://localhost:8080/"
        },
        "id": "-IteSgmlCpZ9",
        "outputId": "21a5d28d-33c5-473f-98c0-e318268c5463"
      },
      "execution_count": 17,
      "outputs": [
        {
          "output_type": "stream",
          "name": "stdout",
          "text": [
            "30\n"
          ]
        }
      ]
    },
    {
      "cell_type": "code",
      "source": [
        "# 221\n",
        "def print_reverse(a):\n",
        "  print(a[::-1])\n",
        "print_reverse(\"python\")"
      ],
      "metadata": {
        "colab": {
          "base_uri": "https://localhost:8080/"
        },
        "id": "DZ1WksOyDdRV",
        "outputId": "eb733def-c2e8-428d-fab4-f39ad9643dd8"
      },
      "execution_count": 24,
      "outputs": [
        {
          "output_type": "stream",
          "name": "stdout",
          "text": [
            "nohtyp\n"
          ]
        }
      ]
    },
    {
      "cell_type": "code",
      "source": [
        "# 222\n",
        "def print_score(a):\n",
        "  print(sum(a) /len(a))\n",
        "print_score([1, 2, 3])"
      ],
      "metadata": {
        "colab": {
          "base_uri": "https://localhost:8080/"
        },
        "id": "6piGT08nD_tq",
        "outputId": "ced06e56-1456-40fb-ce9f-f26b473d96d0"
      },
      "execution_count": 1,
      "outputs": [
        {
          "output_type": "stream",
          "name": "stdout",
          "text": [
            "2.0\n"
          ]
        }
      ]
    },
    {
      "cell_type": "code",
      "source": [
        "# 223\n",
        "def print_even(a):\n",
        "  for i in a:\n",
        "    if i % 2 == 0:\n",
        "      print(i)\n",
        "print_even([1, 3, 2, 10, 12, 11, 15])"
      ],
      "metadata": {
        "colab": {
          "base_uri": "https://localhost:8080/"
        },
        "id": "YG7VcScNIVpr",
        "outputId": "248d94bd-21bf-4204-d793-8bc6868cad65"
      },
      "execution_count": 38,
      "outputs": [
        {
          "output_type": "stream",
          "name": "stdout",
          "text": [
            "2\n",
            "10\n",
            "12\n"
          ]
        }
      ]
    },
    {
      "cell_type": "code",
      "source": [
        "# 224\n",
        "def print_keys(a):\n",
        "  for i in a.keys():\n",
        "   print(i)\n",
        "print_keys ({\"이름\":\"김말똥\", \"나이\":30, \"성별\":0})"
      ],
      "metadata": {
        "colab": {
          "base_uri": "https://localhost:8080/"
        },
        "id": "VQ5repj3JcP1",
        "outputId": "9e029f4b-2dc0-4650-a4d5-885ed2c5efcd"
      },
      "execution_count": 45,
      "outputs": [
        {
          "output_type": "stream",
          "name": "stdout",
          "text": [
            "이름\n",
            "나이\n",
            "성별\n"
          ]
        }
      ]
    },
    {
      "cell_type": "code",
      "source": [
        "# 225\n",
        "my_dict = {\"10/26\" : [100, 130, 100, 100],\n",
        "           \"10/27\" : [10, 12, 10, 11]}\n",
        "def print_value_by_key(a, b):\n",
        "#  for i in my_dict.keys():\n",
        "#    if i == b:\n",
        "#      print(my_dict[b])\n",
        "    print(a[b])\n",
        "print_value_by_key  (my_dict, \"10/26\")"
      ],
      "metadata": {
        "colab": {
          "base_uri": "https://localhost:8080/"
        },
        "id": "jzAAznXcMFzU",
        "outputId": "53fdd2d9-04d5-4430-9a89-316340bb0b52"
      },
      "execution_count": 2,
      "outputs": [
        {
          "output_type": "stream",
          "name": "stdout",
          "text": [
            "[100, 130, 100, 100]\n"
          ]
        }
      ]
    },
    {
      "cell_type": "code",
      "source": [
        "# 226\n",
        "def print_5xn(a):\n",
        "  b = int(len(a) / 5)\n",
        "  for i in range(b + 1):\n",
        "   print(a[i * 5: i * 5 + 5])\n",
        "print_5xn(\"아이엠어보이유알어걸\")"
      ],
      "metadata": {
        "colab": {
          "base_uri": "https://localhost:8080/"
        },
        "id": "j6gChWTzNhar",
        "outputId": "773bd3cf-a46a-494f-a00a-eac0593605e6"
      },
      "execution_count": 14,
      "outputs": [
        {
          "output_type": "stream",
          "name": "stdout",
          "text": [
            "아이엠어보\n",
            "이유알어걸\n",
            "\n"
          ]
        }
      ]
    },
    {
      "cell_type": "code",
      "source": [
        "# 227\n",
        "def print_mxn(a, b):\n",
        "  c = int(len(a)/ b)\n",
        "  for i in range(c + 1):\n",
        "    print(a[i * b: i * b + b])\n",
        "print_mxn(\"아이엠어보이유알어걸\", 3)"
      ],
      "metadata": {
        "colab": {
          "base_uri": "https://localhost:8080/"
        },
        "id": "ybdtLRF3OqbE",
        "outputId": "7b245736-5867-4118-fe2e-34b18b0a4e77"
      },
      "execution_count": 16,
      "outputs": [
        {
          "output_type": "stream",
          "name": "stdout",
          "text": [
            "아이엠\n",
            "어보이\n",
            "유알어\n",
            "걸\n"
          ]
        }
      ]
    },
    {
      "cell_type": "code",
      "source": [
        "# 228\n",
        "def calc_monthly_salary(a):\n",
        "#  print(a // 12)\n",
        "   b = int(a / 12)\n",
        "   return b\n",
        "calc_monthly_salary(12000000)"
      ],
      "metadata": {
        "colab": {
          "base_uri": "https://localhost:8080/"
        },
        "id": "GP_PNthwOscM",
        "outputId": "3cab0b7f-65b3-4caa-f4a7-b772a24cc4b7"
      },
      "execution_count": 13,
      "outputs": [
        {
          "output_type": "execute_result",
          "data": {
            "text/plain": [
              "1000000"
            ]
          },
          "metadata": {},
          "execution_count": 13
        }
      ]
    },
    {
      "cell_type": "code",
      "source": [
        "# 229\n",
        "def my_print (a, b) :\n",
        "    print(\"왼쪽:\", a)\n",
        "    print(\"오른쪽:\", b)\n",
        "\n",
        "my_print(a=100, b=200)\n",
        "#왼쪽: 100\n",
        "#오른쪽: 200"
      ],
      "metadata": {
        "colab": {
          "base_uri": "https://localhost:8080/"
        },
        "id": "9-A5kuHmOtke",
        "outputId": "198cf9c7-7c83-42e4-a0d8-ca83fbaacd2e"
      },
      "execution_count": 48,
      "outputs": [
        {
          "output_type": "stream",
          "name": "stdout",
          "text": [
            "왼쪽: 100\n",
            "오른쪽: 200\n"
          ]
        }
      ]
    },
    {
      "cell_type": "code",
      "source": [
        "# 230\n",
        "def my_print (a, b) :\n",
        "    print(\"왼쪽:\", a)\n",
        "    print(\"오른쪽:\", b)\n",
        "\n",
        "my_print(b=100, a=200)\n",
        "#왼쪽: 200\n",
        "#오른쪽: 100"
      ],
      "metadata": {
        "colab": {
          "base_uri": "https://localhost:8080/"
        },
        "id": "gwKM1CzaOvpo",
        "outputId": "e2e1586e-bac3-4256-b4e0-d106f1c06081"
      },
      "execution_count": 47,
      "outputs": [
        {
          "output_type": "stream",
          "name": "stdout",
          "text": [
            "왼쪽: 200\n",
            "오른쪽: 100\n"
          ]
        }
      ]
    }
  ]
}