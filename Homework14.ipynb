{
  "nbformat": 4,
  "nbformat_minor": 0,
  "metadata": {
    "colab": {
      "provenance": [],
      "authorship_tag": "ABX9TyMl4M9yWEvVwF9ZDHfug2Yo",
      "include_colab_link": true
    },
    "kernelspec": {
      "name": "python3",
      "display_name": "Python 3"
    },
    "language_info": {
      "name": "python"
    }
  },
  "cells": [
    {
      "cell_type": "markdown",
      "metadata": {
        "id": "view-in-github",
        "colab_type": "text"
      },
      "source": [
        "<a href=\"https://colab.research.google.com/github/corydoras15/python-class/blob/main/Homework14.ipynb\" target=\"_parent\"><img src=\"https://colab.research.google.com/assets/colab-badge.svg\" alt=\"Open In Colab\"/></a>"
      ]
    },
    {
      "cell_type": "code",
      "execution_count": 2,
      "metadata": {
        "colab": {
          "base_uri": "https://localhost:8080/"
        },
        "id": "VmRLY7ci7J6M",
        "outputId": "cf90b831-3a3f-4c45-8644-9b8f9194e892"
      },
      "outputs": [
        {
          "output_type": "stream",
          "name": "stdout",
          "text": [
            "Enter your name: jinseok\n",
            "7\n"
          ]
        }
      ],
      "source": [
        "# 20\n",
        "a = input(\"Enter your name: \")\n",
        "print(len(a))"
      ]
    },
    {
      "cell_type": "code",
      "source": [
        "# 21\n",
        "a = input(\"Enter your first name: \")\n",
        "b = input(\"Enter your surname: \")\n",
        "c = a + \" \" + b\n",
        "print(c, len(c)-1)"
      ],
      "metadata": {
        "colab": {
          "base_uri": "https://localhost:8080/"
        },
        "id": "Qfui_EQm72WF",
        "outputId": "2501461c-8093-4603-94fd-f59676121084"
      },
      "execution_count": 24,
      "outputs": [
        {
          "output_type": "stream",
          "name": "stdout",
          "text": [
            "Enter your first name: jin\n",
            "Enter your surname: park\n",
            "jin park 7\n"
          ]
        }
      ]
    },
    {
      "cell_type": "code",
      "source": [
        "# 22\n",
        "a = input(\"Enter your first name: \")\n",
        "b = input(\"Enter your surname: \")\n",
        "a.lower()\n",
        "b.lower()\n",
        "result = a.title() + b\n",
        "print(result)"
      ],
      "metadata": {
        "colab": {
          "base_uri": "https://localhost:8080/"
        },
        "id": "VuoVC20e9B95",
        "outputId": "4da5dfd2-08f1-470a-8bcc-770eb4e93d09"
      },
      "execution_count": 25,
      "outputs": [
        {
          "output_type": "stream",
          "name": "stdout",
          "text": [
            "Enter your first name: jin\n",
            "Enter your surname: park\n",
            "Jinpark\n"
          ]
        }
      ]
    },
    {
      "cell_type": "code",
      "source": [
        "# 23\n",
        "a = input(\"Enter frist line of nursery rhyme: \")\n",
        "print(len(a))\n",
        "b = int(input(\"Enter start number: \"))\n",
        "c = int(input(\"Enter end number: \"))\n",
        "print(a[b-1 : c])"
      ],
      "metadata": {
        "colab": {
          "base_uri": "https://localhost:8080/"
        },
        "id": "kMCN7Q6kARS_",
        "outputId": "66ed8fd7-c76d-4962-9aa4-2fabcf7422a1"
      },
      "execution_count": 32,
      "outputs": [
        {
          "output_type": "stream",
          "name": "stdout",
          "text": [
            "Enter frist line of nursery rhyme: 엄마가섬그늘에\n",
            "7\n",
            "Enter start number: 2\n",
            "Enter end number: 5\n",
            "마가섬그\n"
          ]
        }
      ]
    },
    {
      "cell_type": "code",
      "source": [
        "# 24\n",
        "a = input(\"type any work: \")\n",
        "b = a.upper()\n",
        "print(b)"
      ],
      "metadata": {
        "colab": {
          "base_uri": "https://localhost:8080/"
        },
        "id": "HhmeNalQDU9S",
        "outputId": "00bf898b-5e77-4620-d821-6f3c7f8a8bbe"
      },
      "execution_count": 14,
      "outputs": [
        {
          "output_type": "stream",
          "name": "stdout",
          "text": [
            "type any work: home\n",
            "HOME\n"
          ]
        }
      ]
    },
    {
      "cell_type": "code",
      "source": [
        "# 25\n",
        "a = input(\"Enter your first name: \")\n",
        "if len(a) < 5:\n",
        " b = input(\"Enter your surname: \")\n",
        " c = a + b\n",
        " print(c.upper())\n",
        "else:\n",
        " print(a.lower())"
      ],
      "metadata": {
        "colab": {
          "base_uri": "https://localhost:8080/"
        },
        "id": "N1xw5RkVFmsX",
        "outputId": "61b7ab56-1f0a-4f30-feed-7472b2ce012a"
      },
      "execution_count": 16,
      "outputs": [
        {
          "output_type": "stream",
          "name": "stdout",
          "text": [
            "Enter your first name: jinseok\n",
            "jinseok\n"
          ]
        }
      ]
    },
    {
      "cell_type": "code",
      "source": [
        "# 26\n",
        "a = input(\"Enter word: \")\n",
        "b = [\"a\", \"e\", \"i\", \"o\", \"u\"]\n",
        "if a[0] in b:\n",
        "  c = a + \"way\"\n",
        "  print(c)\n",
        "else:\n",
        "  d = a + a[0]+\"ay\"\n",
        "  print(d[1:])"
      ],
      "metadata": {
        "colab": {
          "base_uri": "https://localhost:8080/"
        },
        "id": "57WYIk9aG_D1",
        "outputId": "fbe519a7-94d4-4b4f-d4bf-8d4abc66416f"
      },
      "execution_count": 55,
      "outputs": [
        {
          "output_type": "stream",
          "name": "stdout",
          "text": [
            "Enter word: aals\n",
            "aalsway\n"
          ]
        }
      ]
    }
  ]
}