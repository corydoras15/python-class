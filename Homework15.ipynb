{
  "nbformat": 4,
  "nbformat_minor": 0,
  "metadata": {
    "colab": {
      "provenance": [],
      "authorship_tag": "ABX9TyMlhnSEtyu2JDtUH1Jt+oM0",
      "include_colab_link": true
    },
    "kernelspec": {
      "name": "python3",
      "display_name": "Python 3"
    },
    "language_info": {
      "name": "python"
    }
  },
  "cells": [
    {
      "cell_type": "markdown",
      "metadata": {
        "id": "view-in-github",
        "colab_type": "text"
      },
      "source": [
        "<a href=\"https://colab.research.google.com/github/corydoras15/python-class/blob/main/Homework15.ipynb\" target=\"_parent\"><img src=\"https://colab.research.google.com/assets/colab-badge.svg\" alt=\"Open In Colab\"/></a>"
      ]
    },
    {
      "cell_type": "code",
      "execution_count": 2,
      "metadata": {
        "colab": {
          "base_uri": "https://localhost:8080/"
        },
        "id": "Bnzxdgwb4i96",
        "outputId": "a0cf4fac-7bcf-47fa-e4c7-f8c7ecabe0a5"
      },
      "outputs": [
        {
          "output_type": "stream",
          "name": "stdout",
          "text": [
            "Enter number:2.22\n",
            "4.44\n"
          ]
        }
      ],
      "source": [
        "# 27\n",
        "a = float(input(\"Enter number a number with lots of decimal places:\"))\n",
        "b = a * 2\n",
        "print(b)"
      ]
    },
    {
      "cell_type": "code",
      "source": [
        "# 28\n",
        "a = float(input(\"Enter number a number with lots of decimal places:\"))\n",
        "b = a * 2\n",
        "print(round(b,2))"
      ],
      "metadata": {
        "colab": {
          "base_uri": "https://localhost:8080/"
        },
        "id": "RI95MMRx5dTM",
        "outputId": "b94162f5-51a7-4270-c21e-c857f2dbbb4a"
      },
      "execution_count": 3,
      "outputs": [
        {
          "output_type": "stream",
          "name": "stdout",
          "text": [
            "Enter number:2.22\n",
            "4.44\n"
          ]
        }
      ]
    },
    {
      "cell_type": "code",
      "source": [
        "# 29\n",
        "a = float(input(\"Enter number over 500:\"))\n",
        "import math\n",
        "b = math.sqrt(a)\n",
        "print(round(b,2))"
      ],
      "metadata": {
        "colab": {
          "base_uri": "https://localhost:8080/"
        },
        "id": "S3rD3UyW93To",
        "outputId": "5257ec42-81ea-4f5b-b033-c798db6c4ec0"
      },
      "execution_count": 4,
      "outputs": [
        {
          "output_type": "stream",
          "name": "stdout",
          "text": [
            "Enter number:550\n",
            "23.45\n"
          ]
        }
      ]
    },
    {
      "cell_type": "code",
      "source": [
        "# 30\n",
        "import math\n",
        "a = math.pi\n",
        "print(round(a,2))"
      ],
      "metadata": {
        "colab": {
          "base_uri": "https://localhost:8080/"
        },
        "id": "2G33eHZx-8z8",
        "outputId": "8df5c960-7e0c-4061-f9d8-632bebbed179"
      },
      "execution_count": 5,
      "outputs": [
        {
          "output_type": "stream",
          "name": "stdout",
          "text": [
            "3.14\n"
          ]
        }
      ]
    },
    {
      "cell_type": "code",
      "source": [
        "# 31\n",
        "a = float(input(\"Enter radius of circle:\"))\n",
        "import math\n",
        "b = math.pi\n",
        "c = (a**2) * b\n",
        "print(round(c,2))"
      ],
      "metadata": {
        "colab": {
          "base_uri": "https://localhost:8080/"
        },
        "id": "sWRjCZbJ_YNJ",
        "outputId": "a17536c6-0428-4f7d-aac9-b3d95e1dae7d"
      },
      "execution_count": 6,
      "outputs": [
        {
          "output_type": "stream",
          "name": "stdout",
          "text": [
            "Enter number:20\n",
            "1256.64\n"
          ]
        }
      ]
    },
    {
      "cell_type": "code",
      "source": [
        "# 32\n",
        "a = float(input(\"Enter radius:\"))\n",
        "b = float(input(\"Enter depth of cylinder:\"))\n",
        "import math\n",
        "c = math.pi\n",
        "d = (a**2) * c\n",
        "f = c * b\n",
        "print(round(f, 3))"
      ],
      "metadata": {
        "colab": {
          "base_uri": "https://localhost:8080/"
        },
        "id": "4kd13BIsAYEx",
        "outputId": "62c67a14-ec51-4a39-9007-addc8f17735f"
      },
      "execution_count": 7,
      "outputs": [
        {
          "output_type": "stream",
          "name": "stdout",
          "text": [
            "Enter number:2\n",
            "Enter number:3\n",
            "9.425\n"
          ]
        }
      ]
    },
    {
      "cell_type": "code",
      "source": [
        "# 33\n",
        "a = int(input(\"Enter number:\"))\n",
        "b = int(input(\"Enter number:\"))\n",
        "c = a // b\n",
        "d = a % b\n",
        "print(a, \"divided by\", b ,\"is\", c, \"with\", d)"
      ],
      "metadata": {
        "colab": {
          "base_uri": "https://localhost:8080/"
        },
        "id": "mL8gP-I2BaGX",
        "outputId": "6ae81ce4-37be-4f1e-da2d-c870a4cdc160"
      },
      "execution_count": 10,
      "outputs": [
        {
          "output_type": "stream",
          "name": "stdout",
          "text": [
            "Enter number:7\n",
            "Enter number:2\n",
            "7 divided by 2 is 3 with 1\n"
          ]
        }
      ]
    },
    {
      "cell_type": "code",
      "source": [
        "# 34\n",
        "a = int(input(\"1) Square\\n2) Triangle\\n\\nEnter a number: \"))\n",
        "if a == 1:\n",
        "  b = int(input(\"Enter length:\"))\n",
        "  print(\"area :\", b * b )\n",
        "elif a == 2:\n",
        " c = int(input(\"Enter base:\")) \n",
        " c = int(input(\"Enter height:\"))\n",
        " print(\"area :\", c * d / 2) \n",
        "else:\n",
        "  print(\"error\")\n"
      ],
      "metadata": {
        "colab": {
          "base_uri": "https://localhost:8080/"
        },
        "id": "-twebwEGEhji",
        "outputId": "54f3a99a-bd47-4858-b1b0-100a7c313bfb"
      },
      "execution_count": 14,
      "outputs": [
        {
          "output_type": "stream",
          "name": "stdout",
          "text": [
            "1) Square\n",
            "2) Triangle\n",
            "\n",
            "Enter a number: 5\n",
            "error\n"
          ]
        }
      ]
    }
  ]
}