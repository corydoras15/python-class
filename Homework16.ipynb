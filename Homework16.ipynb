{
  "nbformat": 4,
  "nbformat_minor": 0,
  "metadata": {
    "colab": {
      "provenance": [],
      "authorship_tag": "ABX9TyNe1wacxpInq2tqgIHEK4zN",
      "include_colab_link": true
    },
    "kernelspec": {
      "name": "python3",
      "display_name": "Python 3"
    },
    "language_info": {
      "name": "python"
    }
  },
  "cells": [
    {
      "cell_type": "markdown",
      "metadata": {
        "id": "view-in-github",
        "colab_type": "text"
      },
      "source": [
        "<a href=\"https://colab.research.google.com/github/corydoras15/python-class/blob/main/Homework16.ipynb\" target=\"_parent\"><img src=\"https://colab.research.google.com/assets/colab-badge.svg\" alt=\"Open In Colab\"/></a>"
      ]
    },
    {
      "cell_type": "code",
      "execution_count": null,
      "metadata": {
        "colab": {
          "base_uri": "https://localhost:8080/",
          "height": 205
        },
        "id": "fD4vtUmJI0aa",
        "outputId": "bf79c613-ae89-44c3-aa49-939da8b806cc"
      },
      "outputs": [
        {
          "output_type": "error",
          "ename": "NameError",
          "evalue": "ignored",
          "traceback": [
            "\u001b[0;31m---------------------------------------------------------------------------\u001b[0m",
            "\u001b[0;31mNameError\u001b[0m                                 Traceback (most recent call last)",
            "\u001b[0;32m<ipython-input-4-dd3d222a1b1a>\u001b[0m in \u001b[0;36m<module>\u001b[0;34m\u001b[0m\n\u001b[1;32m      4\u001b[0m \u001b[0;34m\u001b[0m\u001b[0m\n\u001b[1;32m      5\u001b[0m \u001b[0mn_plus_1\u001b[0m\u001b[0;34m(\u001b[0m\u001b[0;36m3\u001b[0m\u001b[0;34m)\u001b[0m\u001b[0;34m\u001b[0m\u001b[0;34m\u001b[0m\u001b[0m\n\u001b[0;32m----> 6\u001b[0;31m \u001b[0mprint\u001b[0m \u001b[0;34m(\u001b[0m\u001b[0mresult\u001b[0m\u001b[0;34m)\u001b[0m  \u001b[0;31m#4\u001b[0m\u001b[0;34m\u001b[0m\u001b[0;34m\u001b[0m\u001b[0m\n\u001b[0m",
            "\u001b[0;31mNameError\u001b[0m: name 'result' is not defined"
          ]
        }
      ],
      "source": [
        "# 231\n",
        "def n_plus_1 (n) :\n",
        "    result = n + 1\n",
        "\n",
        "n_plus_1(3)\n",
        "print (result) #함수 밖에 있다"
      ]
    },
    {
      "cell_type": "code",
      "source": [
        "# 232\n",
        "def make_url(a):\n",
        " return\"www.\"+a+\".com\"\n",
        "\n",
        "make_url(\"naver\")"
      ],
      "metadata": {
        "colab": {
          "base_uri": "https://localhost:8080/",
          "height": 36
        },
        "id": "eomxK9lIKE9J",
        "outputId": "d3985ee1-8354-4226-a5e5-18882aa2cd26"
      },
      "execution_count": 1,
      "outputs": [
        {
          "output_type": "execute_result",
          "data": {
            "text/plain": [
              "'www.naver.com'"
            ],
            "application/vnd.google.colaboratory.intrinsic+json": {
              "type": "string"
            }
          },
          "metadata": {},
          "execution_count": 1
        }
      ]
    },
    {
      "cell_type": "code",
      "source": [
        "# 233\n",
        "def make_list(a):\n",
        "  return list(a)\n",
        "\n",
        "make_list(\"abcd\")"
      ],
      "metadata": {
        "colab": {
          "base_uri": "https://localhost:8080/"
        },
        "id": "BuoeZdc_K5a7",
        "outputId": "fee8996c-c613-4091-9349-83e32c0ca67c"
      },
      "execution_count": null,
      "outputs": [
        {
          "output_type": "execute_result",
          "data": {
            "text/plain": [
              "['a', 'b', 'c', 'd']"
            ]
          },
          "metadata": {},
          "execution_count": 14
        }
      ]
    },
    {
      "cell_type": "code",
      "source": [
        "# 234\n",
        "def pickup_even(a):\n",
        " b = []\n",
        " for i in a: \n",
        "   if i % 2 == 0:\n",
        "    b.append(i)\n",
        " return b\n",
        "\n",
        "pickup_even([3, 4, 5, 6, 7, 8])"
      ],
      "metadata": {
        "colab": {
          "base_uri": "https://localhost:8080/"
        },
        "id": "hEx-OHOfQSMf",
        "outputId": "fd558b41-ec38-4b47-daee-df53db1518b4"
      },
      "execution_count": 2,
      "outputs": [
        {
          "output_type": "execute_result",
          "data": {
            "text/plain": [
              "[4, 6, 8]"
            ]
          },
          "metadata": {},
          "execution_count": 2
        }
      ]
    },
    {
      "cell_type": "code",
      "source": [
        "# 235\n",
        "def convert_int(a):\n",
        " return int(a.replace(\",\", \"\"))\n",
        "\n",
        "convert_int(\"1,234,567\")"
      ],
      "metadata": {
        "colab": {
          "base_uri": "https://localhost:8080/"
        },
        "id": "1ynQb_e_SlSC",
        "outputId": "02d28c6a-d055-4a22-aca8-94c035e6279d"
      },
      "execution_count": 3,
      "outputs": [
        {
          "output_type": "execute_result",
          "data": {
            "text/plain": [
              "1234567"
            ]
          },
          "metadata": {},
          "execution_count": 3
        }
      ]
    },
    {
      "cell_type": "code",
      "source": [
        "# 236\n",
        "def 함수(num) :\n",
        "    return num + 4\n",
        "\n",
        "a = 함수(10) #14\n",
        "b = 함수(a)  #18\n",
        "c = 함수(b)  #22\n",
        "print(c)"
      ],
      "metadata": {
        "colab": {
          "base_uri": "https://localhost:8080/"
        },
        "id": "1TRx-wNpTwvD",
        "outputId": "e4e7dba8-a2d8-4a83-9e05-0484b2f10c48"
      },
      "execution_count": null,
      "outputs": [
        {
          "output_type": "stream",
          "name": "stdout",
          "text": [
            "22\n"
          ]
        }
      ]
    },
    {
      "cell_type": "code",
      "source": [
        "# 237\n",
        "def 함수(num) :\n",
        "    return num + 4\n",
        "\n",
        "c = 함수(함수(함수(10))) # 22 18 14\n",
        "print(c)"
      ],
      "metadata": {
        "colab": {
          "base_uri": "https://localhost:8080/"
        },
        "id": "GCf0tspYULRJ",
        "outputId": "629a0954-1032-498f-db80-ca801709f904"
      },
      "execution_count": null,
      "outputs": [
        {
          "output_type": "stream",
          "name": "stdout",
          "text": [
            "22\n"
          ]
        }
      ]
    },
    {
      "cell_type": "code",
      "source": [
        "# 238\n",
        "def 함수1(num) :\n",
        "    return num + 4\n",
        "\n",
        "def 함수2(num) :\n",
        "    return num * 10\n",
        "\n",
        "a = 함수1(10) #14\n",
        "c = 함수2(a) #140\n",
        "print(c)"
      ],
      "metadata": {
        "colab": {
          "base_uri": "https://localhost:8080/"
        },
        "id": "OYDK38McUbzd",
        "outputId": "7ceb0c1e-f66a-42e5-c307-6ed9654bb4fb"
      },
      "execution_count": null,
      "outputs": [
        {
          "output_type": "stream",
          "name": "stdout",
          "text": [
            "140\n"
          ]
        }
      ]
    },
    {
      "cell_type": "code",
      "source": [
        "# 239\n",
        "def 함수1(num) :\n",
        "    return num + 4\n",
        "\n",
        "def 함수2(num) :\n",
        "    num = num + 2\n",
        "    return 함수1(num)\n",
        "\n",
        "c = 함수2(10) # 12 16\n",
        "print(c)"
      ],
      "metadata": {
        "colab": {
          "base_uri": "https://localhost:8080/"
        },
        "id": "nZ51BIfwUpac",
        "outputId": "19b2acc2-e2f1-4189-f832-01c2bc83041d"
      },
      "execution_count": null,
      "outputs": [
        {
          "output_type": "stream",
          "name": "stdout",
          "text": [
            "16\n"
          ]
        }
      ]
    },
    {
      "cell_type": "code",
      "source": [
        "# 240\n",
        "def 함수0(num) :\n",
        "    return num * 2\n",
        "\n",
        "def 함수1(num) :\n",
        "    return 함수0(num + 2)\n",
        "\n",
        "def 함수2(num) :\n",
        "    num = num + 10\n",
        "    return 함수1(num)\n",
        "\n",
        "c = 함수2(2) # 12 14 28\n",
        "print(c)"
      ],
      "metadata": {
        "colab": {
          "base_uri": "https://localhost:8080/"
        },
        "id": "rboNBfJcVF23",
        "outputId": "255c03f0-cf08-4b54-99a1-51ae9033fc64"
      },
      "execution_count": null,
      "outputs": [
        {
          "output_type": "stream",
          "name": "stdout",
          "text": [
            "28\n"
          ]
        }
      ]
    },
    {
      "cell_type": "code",
      "source": [
        "# 241\n",
        "#import datetime\n",
        "#a = datetime.datetime.now()\n",
        "#print(a)\n",
        "\n",
        "from datetime import datetime\n",
        "a = datetime.now()\n",
        "print(a)"
      ],
      "metadata": {
        "colab": {
          "base_uri": "https://localhost:8080/"
        },
        "id": "AahpdGtSVgOh",
        "outputId": "87225a4d-0d11-4352-f692-d8c94d5bb407"
      },
      "execution_count": null,
      "outputs": [
        {
          "output_type": "stream",
          "name": "stdout",
          "text": [
            "2022-11-28 08:47:59.409957\n"
          ]
        }
      ]
    },
    {
      "cell_type": "code",
      "source": [
        "# 242\n",
        "from datetime import datetime\n",
        "a = datetime.now()\n",
        "print(type(a))"
      ],
      "metadata": {
        "colab": {
          "base_uri": "https://localhost:8080/"
        },
        "id": "vCzshB51X9oQ",
        "outputId": "0bc77529-905c-40ab-fbb8-b64b4dfd5e42"
      },
      "execution_count": null,
      "outputs": [
        {
          "output_type": "stream",
          "name": "stdout",
          "text": [
            "<class 'datetime.datetime'>\n"
          ]
        }
      ]
    },
    {
      "cell_type": "code",
      "source": [
        "# 243\n",
        "from datetime import datetime, timedelta\n",
        "a = datetime.now()\n",
        "for i in range(0, 6, 1):\n",
        " b = a + timedelta(-i)\n",
        " print(b)"
      ],
      "metadata": {
        "colab": {
          "base_uri": "https://localhost:8080/"
        },
        "id": "zLavCPGdYiuz",
        "outputId": "3cbdb1f2-bac4-446c-be36-16576b66dd5b"
      },
      "execution_count": null,
      "outputs": [
        {
          "output_type": "stream",
          "name": "stdout",
          "text": [
            "2022-11-28 09:26:00.648553\n",
            "2022-11-27 09:26:00.648553\n",
            "2022-11-26 09:26:00.648553\n",
            "2022-11-25 09:26:00.648553\n",
            "2022-11-24 09:26:00.648553\n",
            "2022-11-23 09:26:00.648553\n"
          ]
        }
      ]
    },
    {
      "cell_type": "code",
      "source": [
        "# 244\n",
        "from datetime import datetime\n",
        "a = datetime.now()\n",
        "b = a.strftime(\"%H : %M : %S\")\n",
        "print(b)"
      ],
      "metadata": {
        "colab": {
          "base_uri": "https://localhost:8080/"
        },
        "id": "IqBwk1-njuo2",
        "outputId": "ea73d451-b60b-477f-fdd4-bbd983f3e09d"
      },
      "execution_count": null,
      "outputs": [
        {
          "output_type": "stream",
          "name": "stdout",
          "text": [
            "09 : 40 : 02\n"
          ]
        }
      ]
    },
    {
      "cell_type": "code",
      "source": [
        "# 245\n",
        "import datetime\n",
        "a = \"2020-05-04\"\n",
        "b = datetime.datetime.strptime(a, \"%Y-%m-%d\")\n",
        "print(b, type(b))"
      ],
      "metadata": {
        "colab": {
          "base_uri": "https://localhost:8080/"
        },
        "id": "7HWO05IulYFU",
        "outputId": "ccea3c09-35d1-4d52-8dbf-e9aa6e01f591"
      },
      "execution_count": 22,
      "outputs": [
        {
          "output_type": "stream",
          "name": "stdout",
          "text": [
            "2020-05-04 00:00:00 <class 'datetime.datetime'>\n"
          ]
        }
      ]
    },
    {
      "cell_type": "code",
      "source": [
        "# 246\n",
        "import datetime\n",
        "import time\n",
        "while True:\n",
        "  a = datetime.datetime.now()\n",
        "  print(a)\n",
        "  time.sleep(1)"
      ],
      "metadata": {
        "colab": {
          "base_uri": "https://localhost:8080/",
          "height": 402
        },
        "id": "fvnlyBDRqWcf",
        "outputId": "3dea8142-f88f-4c10-fd03-a30ee04c3cb5"
      },
      "execution_count": 11,
      "outputs": [
        {
          "output_type": "stream",
          "name": "stdout",
          "text": [
            "2022-12-05 10:16:35.837545\n",
            "2022-12-05 10:16:36.840687\n",
            "2022-12-05 10:16:37.841914\n",
            "2022-12-05 10:16:38.843152\n",
            "2022-12-05 10:16:39.844446\n",
            "2022-12-05 10:16:40.845691\n",
            "2022-12-05 10:16:41.846928\n",
            "2022-12-05 10:16:42.848173\n",
            "2022-12-05 10:16:43.849412\n",
            "2022-12-05 10:16:44.850660\n",
            "2022-12-05 10:16:45.851905\n"
          ]
        },
        {
          "output_type": "error",
          "ename": "KeyboardInterrupt",
          "evalue": "ignored",
          "traceback": [
            "\u001b[0;31m---------------------------------------------------------------------------\u001b[0m",
            "\u001b[0;31mKeyboardInterrupt\u001b[0m                         Traceback (most recent call last)",
            "\u001b[0;32m<ipython-input-11-a114a3778d59>\u001b[0m in \u001b[0;36m<module>\u001b[0;34m\u001b[0m\n\u001b[1;32m      5\u001b[0m   \u001b[0ma\u001b[0m \u001b[0;34m=\u001b[0m \u001b[0mdatetime\u001b[0m\u001b[0;34m.\u001b[0m\u001b[0mdatetime\u001b[0m\u001b[0;34m.\u001b[0m\u001b[0mnow\u001b[0m\u001b[0;34m(\u001b[0m\u001b[0;34m)\u001b[0m\u001b[0;34m\u001b[0m\u001b[0;34m\u001b[0m\u001b[0m\n\u001b[1;32m      6\u001b[0m   \u001b[0mprint\u001b[0m\u001b[0;34m(\u001b[0m\u001b[0ma\u001b[0m\u001b[0;34m)\u001b[0m\u001b[0;34m\u001b[0m\u001b[0;34m\u001b[0m\u001b[0m\n\u001b[0;32m----> 7\u001b[0;31m   \u001b[0mtime\u001b[0m\u001b[0;34m.\u001b[0m\u001b[0msleep\u001b[0m\u001b[0;34m(\u001b[0m\u001b[0;36m1\u001b[0m\u001b[0;34m)\u001b[0m\u001b[0;34m\u001b[0m\u001b[0;34m\u001b[0m\u001b[0m\n\u001b[0m",
            "\u001b[0;31mKeyboardInterrupt\u001b[0m: "
          ]
        }
      ]
    },
    {
      "cell_type": "code",
      "source": [
        "# 247\n"
      ],
      "metadata": {
        "id": "kSGRKGwFqf6-"
      },
      "execution_count": null,
      "outputs": []
    },
    {
      "cell_type": "code",
      "source": [
        "# 248\n",
        "import os\n",
        "a = os.getcwd()\n",
        "print(a)"
      ],
      "metadata": {
        "colab": {
          "base_uri": "https://localhost:8080/"
        },
        "id": "CCtMEui_u9Zy",
        "outputId": "0cb24725-48fc-4691-e975-a95ade3cfe75"
      },
      "execution_count": null,
      "outputs": [
        {
          "output_type": "stream",
          "name": "stdout",
          "text": [
            "/content\n"
          ]
        }
      ]
    },
    {
      "cell_type": "code",
      "source": [
        "# 249\n",
        "import os\n",
        "os.rename(\"/content/수학.pdf\", \"/content/영어.pdf\")"
      ],
      "metadata": {
        "id": "uEqos4Ucvhbm"
      },
      "execution_count": 19,
      "outputs": []
    },
    {
      "cell_type": "code",
      "source": [
        "# 250\n",
        "import numpy\n",
        "for i in numpy.arange(0, 5.1, 0.1):\n",
        "    print(i)"
      ],
      "metadata": {
        "colab": {
          "base_uri": "https://localhost:8080/"
        },
        "id": "XOHzXXpRw8zN",
        "outputId": "c61b660d-3f70-4627-a4da-1fa92b15d7be"
      },
      "execution_count": 16,
      "outputs": [
        {
          "output_type": "stream",
          "name": "stdout",
          "text": [
            "0.0\n",
            "0.1\n",
            "0.2\n",
            "0.30000000000000004\n",
            "0.4\n",
            "0.5\n",
            "0.6000000000000001\n",
            "0.7000000000000001\n",
            "0.8\n",
            "0.9\n",
            "1.0\n",
            "1.1\n",
            "1.2000000000000002\n",
            "1.3\n",
            "1.4000000000000001\n",
            "1.5\n",
            "1.6\n",
            "1.7000000000000002\n",
            "1.8\n",
            "1.9000000000000001\n",
            "2.0\n",
            "2.1\n",
            "2.2\n",
            "2.3000000000000003\n",
            "2.4000000000000004\n",
            "2.5\n",
            "2.6\n",
            "2.7\n",
            "2.8000000000000003\n",
            "2.9000000000000004\n",
            "3.0\n",
            "3.1\n",
            "3.2\n",
            "3.3000000000000003\n",
            "3.4000000000000004\n",
            "3.5\n",
            "3.6\n",
            "3.7\n",
            "3.8000000000000003\n",
            "3.9000000000000004\n",
            "4.0\n",
            "4.1000000000000005\n",
            "4.2\n",
            "4.3\n",
            "4.4\n",
            "4.5\n",
            "4.6000000000000005\n",
            "4.7\n",
            "4.800000000000001\n",
            "4.9\n",
            "5.0\n"
          ]
        }
      ]
    }
  ]
}