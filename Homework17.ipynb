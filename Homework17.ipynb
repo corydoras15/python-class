{
  "nbformat": 4,
  "nbformat_minor": 0,
  "metadata": {
    "colab": {
      "provenance": [],
      "authorship_tag": "ABX9TyP3nSmK4iRt4AwtznLxC/22",
      "include_colab_link": true
    },
    "kernelspec": {
      "name": "python3",
      "display_name": "Python 3"
    },
    "language_info": {
      "name": "python"
    }
  },
  "cells": [
    {
      "cell_type": "markdown",
      "metadata": {
        "id": "view-in-github",
        "colab_type": "text"
      },
      "source": [
        "<a href=\"https://colab.research.google.com/github/corydoras15/python-class/blob/main/Homework17.ipynb\" target=\"_parent\"><img src=\"https://colab.research.google.com/assets/colab-badge.svg\" alt=\"Open In Colab\"/></a>"
      ]
    },
    {
      "cell_type": "code",
      "execution_count": null,
      "metadata": {
        "id": "dAoLsk2LkEqJ"
      },
      "outputs": [],
      "source": [
        "# 251\n"
      ]
    },
    {
      "cell_type": "code",
      "source": [
        "# 252\n",
        "class Human:\n",
        "  pass"
      ],
      "metadata": {
        "id": "1YTJDgWtl2dh"
      },
      "execution_count": null,
      "outputs": []
    },
    {
      "cell_type": "code",
      "source": [
        "# 253\n",
        "class Human:\n",
        "  pass\n",
        "areum = Human()"
      ],
      "metadata": {
        "id": "6gMkWH0Omqqx"
      },
      "execution_count": null,
      "outputs": []
    },
    {
      "cell_type": "code",
      "source": [
        "# 254\n",
        "class Human:\n",
        "  print(\"응애응애\")\n",
        "areum = Human()"
      ],
      "metadata": {
        "colab": {
          "base_uri": "https://localhost:8080/"
        },
        "id": "GUAU0oqznixU",
        "outputId": "e611a86a-0f9b-4bab-a6bd-5e460cab5763"
      },
      "execution_count": null,
      "outputs": [
        {
          "output_type": "stream",
          "name": "stdout",
          "text": [
            "응애응애\n"
          ]
        }
      ]
    },
    {
      "cell_type": "code",
      "source": [
        "# 255\n",
        "class Human:\n",
        "  def __init__(self, 이름, 나이, 성별):\n",
        "      self.이름 = 이름\n",
        "      self.나이 = 나이\n",
        "      self.성별 = 성별\n",
        "areum = Human(\"아름\", 25, \"여자\")\n",
        "print(areum.이름)  "
      ],
      "metadata": {
        "colab": {
          "base_uri": "https://localhost:8080/"
        },
        "id": "pI5vjf2an5IP",
        "outputId": "33767051-3d25-41f1-f39c-eef26a0368a7"
      },
      "execution_count": null,
      "outputs": [
        {
          "output_type": "stream",
          "name": "stdout",
          "text": [
            "아름\n"
          ]
        }
      ]
    },
    {
      "cell_type": "code",
      "source": [
        "# 256\n",
        "class Human:\n",
        "  def __init__(self, 이름, 나이, 성별):\n",
        "      self.이름 = 이름\n",
        "      self.나이 = 나이\n",
        "      self.성별 = 성별\n",
        "areum = Human(\"조아름\", 25, \"여자\")\n",
        "print(\"이름: \", areum.이름,\",\", \"나이: \", areum.나이,\",\", \"성별: \", areum.성별)  "
      ],
      "metadata": {
        "colab": {
          "base_uri": "https://localhost:8080/"
        },
        "id": "oKjNGuo8rlRE",
        "outputId": "19de6833-0c7a-4f58-923d-33c1f77f8ce1"
      },
      "execution_count": null,
      "outputs": [
        {
          "output_type": "stream",
          "name": "stdout",
          "text": [
            "이름:  조아름 , 나이:  25 , 성별:  여자\n"
          ]
        }
      ]
    },
    {
      "cell_type": "code",
      "source": [
        "# 257\n",
        "class Human:\n",
        "  def __init__(self, 이름, 나이, 성별):\n",
        "      self.이름 = 이름\n",
        "      self.나이 = 나이\n",
        "      self.성별 = 성별\n",
        "  def who(self):\n",
        "    print(\"이름: \", self.이름,\",\", \"나이: \", self.나이,\",\", \"성별: \", self.성별)\n",
        "\n",
        "areum = Human(\"조아름\", 25, \"여자\")\n",
        "areum.who()"
      ],
      "metadata": {
        "colab": {
          "base_uri": "https://localhost:8080/"
        },
        "id": "6JORmQ9NtT9a",
        "outputId": "c5c16b61-0cf7-47d9-8009-a2310860dd8b"
      },
      "execution_count": null,
      "outputs": [
        {
          "output_type": "stream",
          "name": "stdout",
          "text": [
            "이름:  조아름 , 나이:  25 , 성별:  여자\n"
          ]
        }
      ]
    },
    {
      "cell_type": "code",
      "source": [
        "# 258\n",
        "class Human:\n",
        "  def __init__(self, 이름, 나이, 성별):\n",
        "      self.이름 = 이름\n",
        "      self.나이 = 나이\n",
        "      self.성별 = 성별\n",
        "  def who(self):\n",
        "    print(\"이름: {} 나이: {} 성별: {}\".format(self.이름, self.나이, self.성별))\n",
        "  def setinfo(self,이름, 나이, 성별):\n",
        "      self.이름 = 이름\n",
        "      self.나이 = 나이\n",
        "      self.성별 = 성별\n",
        "\n",
        "areum = Human(\"모름\", 0, \"모름\")\n",
        "areum.who()\n",
        "areum.setinfo(\"아름\", 25, \"여자\")\n",
        "areum.who()"
      ],
      "metadata": {
        "colab": {
          "base_uri": "https://localhost:8080/"
        },
        "id": "bcKsR4VMu4HM",
        "outputId": "7edef5a5-a305-4189-dc07-b8d6ed66cdf0"
      },
      "execution_count": 1,
      "outputs": [
        {
          "output_type": "stream",
          "name": "stdout",
          "text": [
            "이름: 모름 나이: 0 성별: 모름\n",
            "이름: 아름 나이: 25 성별: 여자\n"
          ]
        }
      ]
    },
    {
      "cell_type": "code",
      "source": [
        "# 259\n",
        "class Human:\n",
        "  def __init__(self, 이름, 나이, 성별):\n",
        "      self.이름 = 이름\n",
        "      self.나이 = 나이\n",
        "      self.성별 = 성별\n",
        "  def who(self):\n",
        "    print(\"이름: \", self.이름,\",\", \"나이: \", self.나이,\",\", \"성별: \", self.성별)\n",
        "  def __del__(self):\n",
        "    print(\"나의 죽음을 알리지 말라\")\n",
        "\n",
        "areum = Human(\"조아름\", 25, \"여자\")\n",
        "del areum"
      ],
      "metadata": {
        "colab": {
          "base_uri": "https://localhost:8080/"
        },
        "id": "wdiTRbhkyHKx",
        "outputId": "ea0e5230-9a9e-4bcd-97c4-45e6070fcf27"
      },
      "execution_count": null,
      "outputs": [
        {
          "output_type": "stream",
          "name": "stdout",
          "text": [
            "나의 죽음을 알리지 말라\n"
          ]
        }
      ]
    },
    {
      "cell_type": "code",
      "source": [
        "# 260\n",
        "class OMG :\n",
        "    def print(self) :\n",
        "        print(\"Oh my god\")\n",
        "\n",
        "myStock = OMG()\n",
        "myStock.print()"
      ],
      "metadata": {
        "colab": {
          "base_uri": "https://localhost:8080/"
        },
        "id": "26xOBbHy0jLg",
        "outputId": "7b247c60-185f-4690-e8e5-800bba0ac3f9"
      },
      "execution_count": 2,
      "outputs": [
        {
          "output_type": "stream",
          "name": "stdout",
          "text": [
            "Oh my god\n"
          ]
        }
      ]
    },
    {
      "cell_type": "code",
      "source": [
        "# 261\n",
        "class Stock:\n",
        "  pass"
      ],
      "metadata": {
        "id": "MVlnWjO01NwU"
      },
      "execution_count": null,
      "outputs": []
    },
    {
      "cell_type": "code",
      "source": [
        "# 262\n",
        "class stock:\n",
        "  def __init__(self, 종목명, 종목코드):\n",
        "      self.종목명 = 종목명\n",
        "      self.종목코드 = 종목코드\n",
        "\n",
        "삼성 = stock(\"삼성전자\", \"005930\")\n",
        "삼성.종목명"
      ],
      "metadata": {
        "colab": {
          "base_uri": "https://localhost:8080/",
          "height": 36
        },
        "id": "ERQ6PYxI1oXS",
        "outputId": "7ec31849-5d06-436f-b3cb-f2483802bd78"
      },
      "execution_count": null,
      "outputs": [
        {
          "output_type": "execute_result",
          "data": {
            "text/plain": [
              "'삼성전자'"
            ],
            "application/vnd.google.colaboratory.intrinsic+json": {
              "type": "string"
            }
          },
          "metadata": {},
          "execution_count": 33
        }
      ]
    },
    {
      "cell_type": "code",
      "source": [
        "# 263\n",
        "class stock:\n",
        "  def __init__(self, 종목명, 종목코드):\n",
        "      self.종목명 = 종목명\n",
        "      self.종목코드 = 종목코드\n",
        "  def set_name(self, 종목명):\n",
        "      self.종목명 = 종목명\n",
        "\n",
        "a = stock(None,None)\n",
        "a.set_name(\"삼성전자\")\n",
        "a.종목명"
      ],
      "metadata": {
        "colab": {
          "base_uri": "https://localhost:8080/",
          "height": 36
        },
        "id": "YFqelxHu2pvC",
        "outputId": "48c02b51-663e-46b3-833b-ca558a60b8a7"
      },
      "execution_count": null,
      "outputs": [
        {
          "output_type": "execute_result",
          "data": {
            "text/plain": [
              "'삼성전자'"
            ],
            "application/vnd.google.colaboratory.intrinsic+json": {
              "type": "string"
            }
          },
          "metadata": {},
          "execution_count": 42
        }
      ]
    },
    {
      "cell_type": "code",
      "source": [
        "# 264\n",
        "class stock:\n",
        "  def __init__(self, 종목명, 종목코드):\n",
        "      self.종목명 = 종목명\n",
        "      self.종목코드 = 종목코드\n",
        "  def set_name(self, 종목명):\n",
        "      self.종목명 = 종목명\n",
        "  def set_code(self, 종목코드):\n",
        "      self.종목코드 = 종목코드\n",
        "\n",
        "a = stock(None,None)\n",
        "a.set_code(\"005930\")\n",
        "a.종목코드"
      ],
      "metadata": {
        "colab": {
          "base_uri": "https://localhost:8080/",
          "height": 36
        },
        "id": "jLlIehmL4yQL",
        "outputId": "30ef8d0e-5529-42d3-fe1d-6165b52c10f0"
      },
      "execution_count": null,
      "outputs": [
        {
          "output_type": "execute_result",
          "data": {
            "text/plain": [
              "'005930'"
            ],
            "application/vnd.google.colaboratory.intrinsic+json": {
              "type": "string"
            }
          },
          "metadata": {},
          "execution_count": 40
        }
      ]
    },
    {
      "cell_type": "code",
      "source": [
        "# 265\n",
        "class stock:\n",
        "  def __init__(self, 종목명, 종목코드):\n",
        "      self.종목명 = 종목명\n",
        "      self.종목코드 = 종목코드\n",
        "  def set_name(self, 종목명):\n",
        "      self.종목명 = 종목명\n",
        "  def set_code(self, 종목코드):\n",
        "      self.종목코드 = 종목코드\n",
        "  def get_name(self, 종목명):\n",
        "      return self.set_name\n",
        "\n",
        "삼성 = stock(None,None)\n",
        "삼성.get_name(\"삼성전자\")\n",
        "삼성.종목명"
      ],
      "metadata": {
        "id": "f3DaP4TV5ez3"
      },
      "execution_count": null,
      "outputs": []
    },
    {
      "cell_type": "code",
      "source": [
        "# 266\n",
        "class stock:\n",
        "  def __init__(self, 종목명, 종목코드, per, pbr, 배당수익률):\n",
        "      self.종목명 = 종목명\n",
        "      self.종목코드 = 종목코드\n",
        "      self.per = per\n",
        "      self.pbr = pbr\n",
        "      self.배당수익률 = 배당수익률\n",
        "  def set_name(self, 종목명):\n",
        "      self.종목명 = 종목명\n",
        "  def set_code(self, 종목코드):\n",
        "      self.종목코드 = 종목코드"
      ],
      "metadata": {
        "id": "GTDw3XUq6EPP"
      },
      "execution_count": null,
      "outputs": []
    },
    {
      "cell_type": "code",
      "source": [
        "# 267\n",
        "class stock:\n",
        "  def __init__(self, 종목명, 종목코드, per, pbr, 배당수익률):\n",
        "      self.종목명 = 종목명\n",
        "      self.종목코드 = 종목코드\n",
        "      self.per = per\n",
        "      self.pbr = pbr\n",
        "      self.배당수익률 = 배당수익률\n",
        "  def set_name(self, 종목명):\n",
        "      self.종목명 = 종목명\n",
        "  def set_code(self, 종목코드):\n",
        "      self.종목코드 = 종목코드\n",
        "\n",
        "a = stock(\"삼성전자\", \"005930\", 15.79, 1.33, 2.83)\n",
        "a.per"
      ],
      "metadata": {
        "colab": {
          "base_uri": "https://localhost:8080/"
        },
        "id": "Qbt1DcOV81WZ",
        "outputId": "699b76b6-1457-40e8-85d7-f747aabec474"
      },
      "execution_count": null,
      "outputs": [
        {
          "output_type": "execute_result",
          "data": {
            "text/plain": [
              "15.79"
            ]
          },
          "metadata": {},
          "execution_count": 44
        }
      ]
    },
    {
      "cell_type": "code",
      "source": [
        "# 268\n",
        "class stock:\n",
        "  def __init__(self, 종목명, 종목코드, per, pbr, 배당수익률):\n",
        "      self.종목명 = 종목명\n",
        "      self.종목코드 = 종목코드\n",
        "      self.per = per\n",
        "      self.pbr = pbr\n",
        "      self.배당수익률 = 배당수익률\n",
        "  def set_per(self, per):\n",
        "      self.per = per\n",
        "  def set_pbr(self, pbr):\n",
        "      self.pbr = pbr\n",
        "  def set_dividend(self, 배당수익률):\n",
        "      self.배당수익률 = 배당수익률\n",
        "a = stock(\"삼성전자\", \"005930\", 15.79, 1.33, 2.83)\n",
        "a.per"
      ],
      "metadata": {
        "colab": {
          "base_uri": "https://localhost:8080/"
        },
        "id": "LVje1ypX9Wi4",
        "outputId": "a94e394f-98c8-466b-f9a5-0822655036ab"
      },
      "execution_count": null,
      "outputs": [
        {
          "output_type": "execute_result",
          "data": {
            "text/plain": [
              "5.55"
            ]
          },
          "metadata": {},
          "execution_count": 45
        }
      ]
    },
    {
      "cell_type": "code",
      "source": [
        "# 269\n",
        "class stock:\n",
        "  def __init__(self, 종목명, 종목코드, per, pbr, 배당수익률):\n",
        "      self.종목명 = 종목명\n",
        "      self.종목코드 = 종목코드\n",
        "      self.per = per\n",
        "      self.pbr = pbr\n",
        "      self.배당수익률 = 배당수익률\n",
        "  def set_per(self, per):\n",
        "      self.per = per\n",
        "  def set_pbr(self, pbr):\n",
        "      self.pbr = pbr\n",
        "  def set_dividend(self, 배당수익률):\n",
        "      self.배당수익률 = 배당수익률\n",
        "a = stock(\"삼성전자\", \"005930\", 15.79, 1.33, 2.83)\n",
        "a.set_per(12.75)\n",
        "a.per"
      ],
      "metadata": {
        "colab": {
          "base_uri": "https://localhost:8080/"
        },
        "id": "n2p_UQss-0T-",
        "outputId": "cd5b58c4-0917-4e9a-a082-e2c3e18d64a6"
      },
      "execution_count": null,
      "outputs": [
        {
          "output_type": "execute_result",
          "data": {
            "text/plain": [
              "12.75"
            ]
          },
          "metadata": {},
          "execution_count": 46
        }
      ]
    },
    {
      "cell_type": "code",
      "source": [
        "# 270\n",
        "class stock:\n",
        "  def __init__(self, 종목명, 종목코드, per, pbr, 배당수익률):\n",
        "      self.종목명 = 종목명\n",
        "      self.종목코드 = 종목코드\n",
        "      self.per = per\n",
        "      self.pbr = pbr\n",
        "      self.배당수익률 = 배당수익률\n",
        "  def set_per(self, per):\n",
        "      self.per = per\n",
        "  def set_pbr(self, pbr):\n",
        "      self.pbr = pbr\n",
        "  def set_dividend(self, 배당수익률):\n",
        "      self.배당수익률 = 배당수익률\n",
        "a = stock(\"삼성전자\", \"005930\", 15.79, 1.33, 2.83)\n",
        "b = stock(\"현대차\", \"005380\", 8.70, 0.35, 4.27)\n",
        "c = stock(\"LG전자\", \"006570\", 317.34, 0.69, 1.37)\n",
        "d = [a, b, c]\n",
        "for i in d:\n",
        "  print(i.종목코드, i.per)"
      ],
      "metadata": {
        "colab": {
          "base_uri": "https://localhost:8080/"
        },
        "id": "5eS6GQ18_Co2",
        "outputId": "3af6db50-d742-4423-c40b-fd75a45fc698"
      },
      "execution_count": null,
      "outputs": [
        {
          "output_type": "stream",
          "name": "stdout",
          "text": [
            "005930 15.79\n",
            "005380 8.7\n",
            "006570 317.34\n"
          ]
        }
      ]
    }
  ]
}