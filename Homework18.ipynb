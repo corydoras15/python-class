{
  "nbformat": 4,
  "nbformat_minor": 0,
  "metadata": {
    "colab": {
      "provenance": [],
      "authorship_tag": "ABX9TyMA6LvvsnqHD5AeVSgaiAW9",
      "include_colab_link": true
    },
    "kernelspec": {
      "name": "python3",
      "display_name": "Python 3"
    },
    "language_info": {
      "name": "python"
    }
  },
  "cells": [
    {
      "cell_type": "markdown",
      "metadata": {
        "id": "view-in-github",
        "colab_type": "text"
      },
      "source": [
        "<a href=\"https://colab.research.google.com/github/corydoras15/python-class/blob/main/Homework18.ipynb\" target=\"_parent\"><img src=\"https://colab.research.google.com/assets/colab-badge.svg\" alt=\"Open In Colab\"/></a>"
      ]
    },
    {
      "cell_type": "code",
      "execution_count": null,
      "metadata": {
        "colab": {
          "base_uri": "https://localhost:8080/"
        },
        "id": "BdXIiuqBsH7J",
        "outputId": "59aa412f-a960-4cc2-da11-1b376ee29372"
      },
      "outputs": [
        {
          "output_type": "stream",
          "name": "stdout",
          "text": [
            "은행이름:  SC은행 계좌번호:  558-21-81368\n"
          ]
        }
      ],
      "source": [
        "# 271\n",
        "class account:\n",
        "  def __init__(self, 예금주, 잔액):\n",
        "      self.은행이름 = \"SC은행\"\n",
        "      self.예금주 = 예금주\n",
        "      import random\n",
        "      ac1 = random.randint(111,999)\n",
        "      ac2 = random.randint(11,99)\n",
        "      ac3 = random.randint(11111,99999)\n",
        "      self.계좌번호 = \"{}-{}-{}\".format(ac1, ac2, ac3)\n",
        "      self.잔액 = 잔액\n",
        "      print(\"은행이름: \", self.은행이름, \"계좌번호: \", self.계좌번호)\n",
        "\n",
        "a = account(\"아름\", 10)"
      ]
    },
    {
      "cell_type": "code",
      "source": [
        "# 272\n",
        "class account:\n",
        "  계좌수 = 0\n",
        "  def __init__(self, 예금주, 잔액):\n",
        "      self.은행이름 = \"SC은행\"\n",
        "      self.예금주 = 예금주\n",
        "      import random\n",
        "      ac1 = random.randint(111,999)\n",
        "      ac2 = random.randint(11,99)\n",
        "      ac3 = random.randint(11111,99999)\n",
        "      self.계좌번호 = \"{}-{}-{}\".format(ac1, ac2, ac3)\n",
        "      self.잔액 = 잔액\n",
        "      account.계좌수 += 1\n",
        "      print(\"은행이름: \", self.은행이름, \"계좌번호: \", self.계좌번호)\n",
        "\n",
        "a = account(\"아름\", 10)\n",
        "print(account.계좌수)"
      ],
      "metadata": {
        "colab": {
          "base_uri": "https://localhost:8080/"
        },
        "id": "p_LA-n432zm7",
        "outputId": "70f51e03-2b0a-4e93-fae9-92dfce92dc31"
      },
      "execution_count": null,
      "outputs": [
        {
          "output_type": "stream",
          "name": "stdout",
          "text": [
            "은행이름:  SC은행 계좌번호:  970-48-21796\n",
            "1\n"
          ]
        }
      ]
    },
    {
      "cell_type": "code",
      "source": [
        "# 273\n",
        "class account:\n",
        "  계좌수 = 0\n",
        "  def __init__(self, 예금주, 잔액):\n",
        "      self.은행이름 = \"SC은행\"\n",
        "      self.예금주 = 예금주\n",
        "      import random\n",
        "      ac1 = random.randint(111,999)\n",
        "      ac2 = random.randint(11,99)\n",
        "      ac3 = random.randint(11111,99999)\n",
        "      self.계좌번호 = \"{}-{}-{}\".format(ac1, ac2, ac3)\n",
        "      self.잔액 = 잔액\n",
        "      account.계좌수 += 1\n",
        "  def get_account_num(self):\n",
        "      print(\"계좌수:\" ,account.계좌수)   \n",
        "      \n",
        "\n",
        "a = account(\"아름\", 10)\n",
        "b = account(\"여름\", 30)\n",
        "b.get_account_num()"
      ],
      "metadata": {
        "colab": {
          "base_uri": "https://localhost:8080/"
        },
        "id": "nqGIgJSz2zo1",
        "outputId": "8fa0e7f1-2617-4f95-a694-64e392e536c2"
      },
      "execution_count": 3,
      "outputs": [
        {
          "output_type": "stream",
          "name": "stdout",
          "text": [
            "계좌수: 2\n"
          ]
        }
      ]
    },
    {
      "cell_type": "code",
      "source": [
        "# 274\n",
        "class account:\n",
        "  계좌수 = 0\n",
        "  def __init__(self, 예금주, 잔액):\n",
        "      self.은행이름 = \"SC은행\"\n",
        "      self.예금주 = 예금주\n",
        "      import random\n",
        "      ac1 = random.randint(111,999)\n",
        "      ac2 = random.randint(11,99)\n",
        "      ac3 = random.randint(11111,99999)\n",
        "      self.계좌번호 = \"{}-{}-{}\".format(ac1, ac2, ac3)\n",
        "      self.잔액 = 잔액\n",
        "      account.계좌수 += 1\n",
        "      print(\"은행이름: \", self.은행이름, \"계좌번호: \", self.계좌번호)\n",
        "  def get_account_num(self):\n",
        "      return (\"계좌수:\" ,account.계좌수)   \n",
        "      \n",
        "  def deposit(self,금액):\n",
        "      if 금액 > 0:\n",
        "        self.금액 = 금액\n",
        "        self.잔액 += self.금액\n",
        "      return self.잔액\n",
        "\n",
        "a = account(\"아름\", 10)\n",
        "a.deposit(20)"
      ],
      "metadata": {
        "colab": {
          "base_uri": "https://localhost:8080/"
        },
        "id": "QKHJ1syX4Dhg",
        "outputId": "30bc9279-d7cf-4e44-a4d7-bfec1f998419"
      },
      "execution_count": null,
      "outputs": [
        {
          "output_type": "stream",
          "name": "stdout",
          "text": [
            "은행이름:  SC은행 계좌번호:  678-87-90594\n"
          ]
        },
        {
          "output_type": "execute_result",
          "data": {
            "text/plain": [
              "30"
            ]
          },
          "metadata": {},
          "execution_count": 31
        }
      ]
    },
    {
      "cell_type": "code",
      "source": [
        "# 275\n",
        "class account:\n",
        "  계좌수 = 0\n",
        "  def __init__(self, 예금주, 잔액): #계좌생성\n",
        "      self.은행이름 = \"SC은행\"\n",
        "      self.예금주 = 예금주\n",
        "      import random\n",
        "      ac1 = random.randint(111,999)\n",
        "      ac2 = random.randint(11,99)\n",
        "      ac3 = random.randint(11111,99999)\n",
        "      self.계좌번호 = \"{}-{}-{}\".format(ac1, ac2, ac3)\n",
        "      self.잔액 = 잔액\n",
        "      account.계좌수 += 1\n",
        "      print(\"은행이름: \", self.은행이름, \"계좌번호: \", self.계좌번호)\n",
        "  \n",
        "  def get_account_num(self):\n",
        "      return (\"계좌수:\" ,account.계좌수)   \n",
        "      \n",
        "  def deposit(self,입금액): #입금\n",
        "      if 입금액 > 0:\n",
        "        self.입금액 = 입금액\n",
        "        self.잔액 += self.입금액\n",
        "      return self.잔액\n",
        "  \n",
        "  def withdraw(self,출금액): #출금\n",
        "      self.출금액 = 출금액\n",
        "      if self.잔액 > self.출금액:\n",
        "        self.잔액 -= self.출금액\n",
        "      return self.잔액\n",
        "\n",
        "a = account(\"아름\", 10)\n",
        "a.deposit(20)\n",
        "a.withdraw(5)"
      ],
      "metadata": {
        "colab": {
          "base_uri": "https://localhost:8080/"
        },
        "id": "Bd_S-vjO8xvz",
        "outputId": "0d59da3a-b62c-406a-b41f-b748b82ca785"
      },
      "execution_count": null,
      "outputs": [
        {
          "output_type": "stream",
          "name": "stdout",
          "text": [
            "은행이름:  SC은행 계좌번호:  575-94-50128\n"
          ]
        },
        {
          "output_type": "execute_result",
          "data": {
            "text/plain": [
              "25"
            ]
          },
          "metadata": {},
          "execution_count": 35
        }
      ]
    },
    {
      "cell_type": "code",
      "source": [
        "# 276\n",
        "class account:\n",
        "  계좌수 = 0\n",
        "  def __init__(self, 예금주, 잔액): #계좌생성\n",
        "      self.은행이름 = \"SC은행\"\n",
        "      self.예금주 = 예금주\n",
        "      import random\n",
        "      ac1 = random.randint(111,999)\n",
        "      ac2 = random.randint(11,99)\n",
        "      ac3 = random.randint(11111,99999)\n",
        "      self.계좌번호 = \"{}-{}-{}\".format(ac1, ac2, ac3)\n",
        "      self.잔액 = 잔액\n",
        "      account.계좌수 += 1\n",
        "      print(\"은행이름: \", self.은행이름, \"계좌번호: \", self.계좌번호)\n",
        "  \n",
        "  def get_account_num(self):\n",
        "      return (\"계좌수:\" ,account.계좌수)   \n",
        "      \n",
        "  def deposit(self,입금액): #입금\n",
        "      if 입금액 > 0:\n",
        "        self.입금액 = 입금액\n",
        "        self.잔액 += self.입금액\n",
        "      return self.잔액\n",
        "  \n",
        "  def withdraw(self,출금액): #출금\n",
        "      self.출금액 = 출금액\n",
        "      if self.잔액 > self.출금액:\n",
        "        self.잔액 -= self.출금액\n",
        "      return self.잔액\n",
        "\n",
        "  def display_inpo(self):\n",
        "      print(\"은행이름: \", self.은행이름, \"예금주: \", self.예금주, \"계좌번호: \", self.계좌번호, \"잔고: \", format(self.잔액, \",\"),\"원\")\n",
        "\n",
        "a = account(\"아름\", 10000)\n",
        "a.deposit(20)\n",
        "a.withdraw(5)\n",
        "a.display_inpo()"
      ],
      "metadata": {
        "colab": {
          "base_uri": "https://localhost:8080/"
        },
        "id": "jbbFkBS--rUE",
        "outputId": "77bf3796-e2a0-4f5f-a665-651f316168a4"
      },
      "execution_count": null,
      "outputs": [
        {
          "output_type": "stream",
          "name": "stdout",
          "text": [
            "은행이름:  SC은행 계좌번호:  324-62-71863\n",
            "은행이름:  SC은행 예금주:  아름 계좌번호:  324-62-71863 잔고:  10,015 원\n"
          ]
        }
      ]
    },
    {
      "cell_type": "code",
      "source": [
        "# 277\n",
        "class account:\n",
        "  계좌수 = 0\n",
        "  def __init__(self, 예금주, 잔액): #계좌생성\n",
        "      self.은행이름 = \"SC은행\"\n",
        "      self.예금주 = 예금주\n",
        "      import random\n",
        "      ac1 = random.randint(111,999)\n",
        "      ac2 = random.randint(11,99)\n",
        "      ac3 = random.randint(11111,99999)\n",
        "      self.계좌번호 = \"{}-{}-{}\".format(ac1, ac2, ac3)\n",
        "      self.잔액 = 잔액\n",
        "      self.입금횟수 = 1\n",
        "      account.계좌수 += 1\n",
        "      print(\"은행이름: \", self.은행이름, \"계좌번호: \", self.계좌번호)\n",
        "  \n",
        "  def get_account_num(self):\n",
        "      return (\"계좌수:\" ,account.계좌수)   \n",
        "    \n",
        "  def deposit(self,입금액): #입금\n",
        "      if 입금액 > 0:\n",
        "        self.입금액 = 입금액\n",
        "        self.잔액 += self.입금액\n",
        "        self.입금횟수 += 1\n",
        "        \n",
        "        if self.입금횟수 % 5 == 0:\n",
        "           self.잔액 =(self.잔액 * 1.01)\n",
        "      return self.잔액 \n",
        "  \n",
        "  def withdraw(self,출금액): #출금\n",
        "      self.출금액 = 출금액\n",
        "      if self.잔액 > self.출금액:\n",
        "        self.잔액 -= self.출금액\n",
        "      return self.잔액\n",
        "\n",
        "  def display_inpo(self):\n",
        "      print(\"은행이름: \", self.은행이름, \"예금주: \", self.예금주, \"계좌번호: \", self.계좌번호, \"잔고: \", format(self.잔액, \",\"),\"원\")\n",
        "\n",
        "A = account(\"아름\", 10000)\n",
        "A.deposit(10000)\n",
        "A.deposit(10000)\n",
        "A.deposit(10000)\n",
        "A.deposit(10000)\n",
        "A.deposit(10000)\n",
        "print(A.잔액)"
      ],
      "metadata": {
        "colab": {
          "base_uri": "https://localhost:8080/"
        },
        "id": "PGKj5ZZfEDHb",
        "outputId": "d6f978b7-b9d1-4cd2-ded4-27c61107018f"
      },
      "execution_count": 18,
      "outputs": [
        {
          "output_type": "stream",
          "name": "stdout",
          "text": [
            "은행이름:  SC은행 계좌번호:  684-36-86852\n",
            "60500.0\n"
          ]
        }
      ]
    },
    {
      "cell_type": "code",
      "source": [
        "# 278\n",
        "class account:\n",
        "  계좌수 = 0\n",
        "  def __init__(self, 예금주, 잔액): #계좌생성\n",
        "      self.은행이름 = \"SC은행\"\n",
        "      self.예금주 = 예금주\n",
        "      import random\n",
        "      ac1 = random.randint(111,999)\n",
        "      ac2 = random.randint(11,99)\n",
        "      ac3 = random.randint(11111,99999)\n",
        "      self.계좌번호 = \"{}-{}-{}\".format(ac1, ac2, ac3)\n",
        "      self.잔액 = 잔액\n",
        "      self.입금횟수 = 1\n",
        "      account.계좌수 += 1\n",
        "      print(\"은행이름: \", self.은행이름, \"계좌번호: \", self.계좌번호)\n",
        "  \n",
        "  def get_account_num(self):\n",
        "      return (\"계좌수:\" ,account.계좌수)   \n",
        "    \n",
        "  def deposit(self,입금액): #입금\n",
        "      if 입금액 > 0:\n",
        "        self.입금액 = 입금액\n",
        "        self.잔액 += self.입금액\n",
        "        self.입금횟수 += 1\n",
        "        \n",
        "        if self.입금횟수 % 5 == 0:\n",
        "           self.잔액 + 1.01\n",
        "      return self.잔액 \n",
        "  \n",
        "  def withdraw(self,출금액): #출금\n",
        "      self.출금액 = 출금액\n",
        "      if self.잔액 > self.출금액:\n",
        "        self.잔액 -= self.출금액\n",
        "      return self.잔액\n",
        "\n",
        "  def display_inpo(self):\n",
        "      print(\"은행이름: \", self.은행이름, \"예금주: \", self.예금주, \"계좌번호: \", self.계좌번호, \"잔고: \", format(self.잔액, \",\"),\"원\")\n",
        "\n",
        "d = []\n",
        "a = account(\"가\",10000)\n",
        "b = account(\"나\",20000)\n",
        "c = account(\"다\",30000)\n",
        "d.append(a)\n",
        "d.append(b)\n",
        "d.append(c)\n",
        "print(d)"
      ],
      "metadata": {
        "colab": {
          "base_uri": "https://localhost:8080/"
        },
        "id": "oqMQDq1gKgME",
        "outputId": "a1ebc024-f62f-4c5c-af11-1ff9b8835910"
      },
      "execution_count": 19,
      "outputs": [
        {
          "output_type": "stream",
          "name": "stdout",
          "text": [
            "은행이름:  SC은행 계좌번호:  549-42-12965\n",
            "은행이름:  SC은행 계좌번호:  239-75-64127\n",
            "은행이름:  SC은행 계좌번호:  695-73-61240\n",
            "[<__main__.account object at 0x7ff6f0c250a0>, <__main__.account object at 0x7ff6f0c256d0>, <__main__.account object at 0x7ff6f0c25880>]\n"
          ]
        }
      ]
    },
    {
      "cell_type": "code",
      "source": [
        "# 279\n",
        "class account:\n",
        "  계좌수 = 0\n",
        "  def __init__(self, 예금주, 잔액): #계좌생성\n",
        "      self.은행이름 = \"SC은행\"\n",
        "      self.예금주 = 예금주\n",
        "      import random\n",
        "      ac1 = random.randint(111,999)\n",
        "      ac2 = random.randint(11,99)\n",
        "      ac3 = random.randint(11111,99999)\n",
        "      self.계좌번호 = \"{}-{}-{}\".format(ac1, ac2, ac3)\n",
        "      self.잔액 = 잔액\n",
        "      self.입금횟수 = 1\n",
        "      account.계좌수 += 1\n",
        "      print(\"은행이름: \", self.은행이름, \"계좌번호: \", self.계좌번호)\n",
        "  \n",
        "  def get_account_num(self):\n",
        "      return (\"계좌수:\" ,account.계좌수)   \n",
        "    \n",
        "  def deposit(self,입금액): #입금\n",
        "      if 입금액 > 0:\n",
        "        self.입금액 = 입금액\n",
        "        self.잔액 += self.입금액\n",
        "        self.입금횟수 += 1\n",
        "        \n",
        "        if self.입금횟수 % 5 == 0:\n",
        "           self.잔액 + 1.01\n",
        "      return self.잔액 \n",
        "  \n",
        "  def withdraw(self,출금액): #출금\n",
        "      self.출금액 = 출금액\n",
        "      if self.잔액 > self.출금액:\n",
        "        self.잔액 -= self.출금액\n",
        "      return self.잔액\n",
        "\n",
        "  def display_inpo(self):\n",
        "      print(\"은행이름: \", self.은행이름, \"예금주: \", self.예금주, \"계좌번호: \", self.계좌번호, \"잔고: \", format(self.잔액, \",\"),\"원\")\n",
        "      \n",
        "a = account(\"가\",1000000)\n",
        "b = account(\"나\",20000)\n",
        "c = account(\"다\",3000000)\n",
        "list = []\n",
        "list.append(a) \n",
        "list.append(b) \n",
        "list.append(c)   \n",
        "for i in list:\n",
        "    if i.잔액 >= 1000000:\n",
        "       i.display_inpo()"
      ],
      "metadata": {
        "colab": {
          "base_uri": "https://localhost:8080/"
        },
        "id": "s1QssCorM0tv",
        "outputId": "e899ce1b-2828-4d57-c290-2dc6d80591db"
      },
      "execution_count": 20,
      "outputs": [
        {
          "output_type": "stream",
          "name": "stdout",
          "text": [
            "은행이름:  SC은행 계좌번호:  483-97-96607\n",
            "은행이름:  SC은행 계좌번호:  228-94-45748\n",
            "은행이름:  SC은행 계좌번호:  397-40-61780\n",
            "은행이름:  SC은행 예금주:  가 계좌번호:  483-97-96607 잔고:  1,000,000 원\n",
            "은행이름:  SC은행 예금주:  다 계좌번호:  397-40-61780 잔고:  3,000,000 원\n"
          ]
        }
      ]
    },
    {
      "cell_type": "code",
      "source": [
        "# 280\n",
        "class account:\n",
        "  계좌수 = 0\n",
        "  def __init__(self, 예금주, 잔액): #계좌생성\n",
        "      self.은행이름 = \"SC은행\"\n",
        "      self.예금주 = 예금주\n",
        "      import random\n",
        "      ac1 = random.randint(111,999)\n",
        "      ac2 = random.randint(11,99)\n",
        "      ac3 = random.randint(11111,99999)\n",
        "      self.계좌번호 = \"{}-{}-{}\".format(ac1, ac2, ac3)\n",
        "      self.잔액 = 잔액\n",
        "      self.입금횟수 = 1\n",
        "      self.입금기록 = []\n",
        "      self.출금기록 = []\n",
        "      account.계좌수 += 1\n",
        "      print(\"은행이름: \", self.은행이름, \"계좌번호: \", self.계좌번호)\n",
        "  \n",
        "  def get_account_num(self):\n",
        "      return (\"계좌수:\" ,account.계좌수)   \n",
        "    \n",
        "  def deposit(self,금액): #입금\n",
        "      if 금액 > 0:\n",
        "        self.입금기록.append(금액)\n",
        "        self.금액 = 금액\n",
        "        self.잔액 += self.금액\n",
        "        self.입금횟수 += 1  \n",
        "        if self.입금횟수 % 5 == 0:\n",
        "           self.잔액 =(self.잔액 * 1.01)\n",
        "  \n",
        "  def withdraw(self,금액): #출금\n",
        "      self.금액 = 금액\n",
        "      if self.잔액 > self.금액:\n",
        "         self.잔액 -= self.금액\n",
        "         self.출금기록.append(금액)\n",
        "    \n",
        "  def display_inpo(self):\n",
        "      print(\"은행이름: \", self.은행이름, \"예금주: \", self.예금주, \"계좌번호: \", self.계좌번호, \"잔고: \", format(self.잔액, \",\"),\"원\")\n",
        "      \n",
        "  def deposit_history(self):\n",
        "    for 금액 in self.입금기록:\n",
        "      print(금액)  \n",
        "  def withdraw_history(self):\n",
        "    for 금액 in self.출금기록:\n",
        "      print(금액)\n",
        "\n",
        "k = account(\"Kim\", 1000)\n",
        "k.deposit(100)\n",
        "k.deposit(200)\n",
        "k.deposit(300)\n",
        "k.deposit_history()\n",
        "\n",
        "k.withdraw(100)\n",
        "k.withdraw(200)\n",
        "k.withdraw_history()"
      ],
      "metadata": {
        "id": "Cm48WUYUPCHz",
        "colab": {
          "base_uri": "https://localhost:8080/"
        },
        "outputId": "d4a5206a-5b05-4a68-c7f3-bcad327722e5"
      },
      "execution_count": 23,
      "outputs": [
        {
          "output_type": "stream",
          "name": "stdout",
          "text": [
            "은행이름:  SC은행 계좌번호:  626-57-14431\n",
            "100\n",
            "200\n",
            "300\n",
            "100\n",
            "200\n"
          ]
        }
      ]
    },
    {
      "cell_type": "code",
      "source": [
        "# 281\n",
        "class 차:\n",
        "  def __init__(self, 바퀴, 가격):\n",
        "    self.바퀴 = 바퀴\n",
        "    self.가격 = 가격\n",
        "\n",
        "car = 차(2, 1000)\n",
        "\n",
        "car.바퀴, car.가격"
      ],
      "metadata": {
        "colab": {
          "base_uri": "https://localhost:8080/"
        },
        "id": "X13WDfW4PGZ9",
        "outputId": "d14b0133-42e4-4c90-ecf5-cfe821ae71b4"
      },
      "execution_count": null,
      "outputs": [
        {
          "output_type": "execute_result",
          "data": {
            "text/plain": [
              "(2, 1000)"
            ]
          },
          "metadata": {},
          "execution_count": 70
        }
      ]
    },
    {
      "cell_type": "code",
      "source": [
        "# 282\n",
        "class 차:\n",
        "  def __init__(self, 바퀴, 가격):\n",
        "    self.바퀴 = 바퀴\n",
        "    self.가격 = 가격\n",
        "    class 자전차(차):\n",
        "      "
      ],
      "metadata": {
        "id": "QKAITcjCQV1G"
      },
      "execution_count": null,
      "outputs": []
    },
    {
      "cell_type": "code",
      "source": [
        "# 283\n",
        "class 차:\n",
        "  def __init__(self, 바퀴, 가격):\n",
        "    self.바퀴 = 바퀴\n",
        "    self.가격 = 가격\n",
        "\n",
        "class 자전차(차):\n",
        "  pass\n",
        "\n",
        "bicycle = 자전차(2, 100)\n",
        "bicycle.가격"
      ],
      "metadata": {
        "colab": {
          "base_uri": "https://localhost:8080/"
        },
        "id": "nmy2Int1QuG4",
        "outputId": "82f4e313-60da-4bcb-fe7b-5d2cade9cd2e"
      },
      "execution_count": 24,
      "outputs": [
        {
          "output_type": "execute_result",
          "data": {
            "text/plain": [
              "100"
            ]
          },
          "metadata": {},
          "execution_count": 24
        }
      ]
    },
    {
      "cell_type": "code",
      "source": [
        "# 284\n",
        "class 차:\n",
        "  def __init__(self, 바퀴, 가격, 구동계):\n",
        "    self.바퀴 = 바퀴\n",
        "    self.가격 = 가격\n",
        "    self.구동계 = 구동계\n",
        "\n",
        "class 자전차(차):\n",
        " pass\n",
        "\n",
        "bicycle = 자전차(2, 100, \"시마노\")\n",
        "bicycle.구동계"
      ],
      "metadata": {
        "colab": {
          "base_uri": "https://localhost:8080/",
          "height": 36
        },
        "id": "53-sD9F9TaLf",
        "outputId": "3f59c963-f17e-47ca-ab9e-7f52e2184cbe"
      },
      "execution_count": null,
      "outputs": [
        {
          "output_type": "execute_result",
          "data": {
            "text/plain": [
              "'시마노'"
            ],
            "application/vnd.google.colaboratory.intrinsic+json": {
              "type": "string"
            }
          },
          "metadata": {},
          "execution_count": 84
        }
      ]
    },
    {
      "cell_type": "code",
      "source": [
        "# 285\n",
        "class 차:\n",
        "  def __init__(self, 바퀴, 가격):\n",
        "    self.바퀴 = 바퀴\n",
        "    self.가격 = 가격\n",
        "\n",
        "class 자동차(차):\n",
        "  def 정보(self):\n",
        "    print(\"바퀴수\", self.바퀴,\"\\n가격\", self.가격)\n",
        "\n",
        "car = 자동차(4, 1000)\n",
        "car.정보()"
      ],
      "metadata": {
        "colab": {
          "base_uri": "https://localhost:8080/"
        },
        "id": "gSE3NI5SUYBW",
        "outputId": "31e1a72d-692f-4695-e119-98c43b68971a"
      },
      "execution_count": null,
      "outputs": [
        {
          "output_type": "stream",
          "name": "stdout",
          "text": [
            "바퀴수 4 \n",
            "가격 1000\n"
          ]
        }
      ]
    },
    {
      "cell_type": "code",
      "source": [
        "# 386\n",
        "class 차:\n",
        "  def __init__(self, 바퀴, 가격, 구동계):\n",
        "    self.바퀴 = 바퀴\n",
        "    self.가격 = 가격\n",
        "    self.구동계 = 구동계\n",
        "\n",
        "class 자전차(차):\n",
        "  def 정보(self):\n",
        "    print(\"바퀴수\", self.바퀴,\"\\n가격\", self.가격)\n",
        "\n",
        "bicycle = 자전차(2, 100, \"시마노\")\n",
        "bicycle.정보()   "
      ],
      "metadata": {
        "colab": {
          "base_uri": "https://localhost:8080/"
        },
        "id": "Sxy8gL6LVjMJ",
        "outputId": "c2d2734e-99fb-4054-d068-c794743c7d1c"
      },
      "execution_count": null,
      "outputs": [
        {
          "output_type": "stream",
          "name": "stdout",
          "text": [
            "바퀴수 2 \n",
            "가격 100\n"
          ]
        }
      ]
    },
    {
      "cell_type": "code",
      "source": [
        "# 387\n",
        "class 차:\n",
        "  def __init__(self, 바퀴, 가격, 구동계):\n",
        "    self.바퀴 = 바퀴\n",
        "    self.가격 = 가격\n",
        "    self.구동계 = 구동계\n",
        "\n",
        "class 자전차(차):\n",
        "  def 정보(self):\n",
        "    print(\"바퀴수\", self.바퀴,\"\\n가격\", self.가격, \"\\n구동계\", self.구동계)\n",
        "\n",
        "bicycle = 자전차(2, 100, \"시마노\")\n",
        "bicycle.정보()  "
      ],
      "metadata": {
        "colab": {
          "base_uri": "https://localhost:8080/"
        },
        "id": "UBJHYwPiWd3J",
        "outputId": "cb956a95-6063-4eba-801b-39216b6617d8"
      },
      "execution_count": null,
      "outputs": [
        {
          "output_type": "stream",
          "name": "stdout",
          "text": [
            "바퀴수 2 \n",
            "가격 100 \n",
            "구동계 시마노\n"
          ]
        }
      ]
    },
    {
      "cell_type": "code",
      "source": [
        "# 388\n",
        "class 부모:\n",
        " def 호출(self):\n",
        "    print(\"부모호출\")\n",
        "\n",
        "class 자식(부모):\n",
        " def 호출(self):\n",
        "    print(\"자식호출\")\n",
        "\n",
        "나 = 자식()\n",
        "나.호출()"
      ],
      "metadata": {
        "colab": {
          "base_uri": "https://localhost:8080/"
        },
        "id": "L0AyDqCqWv84",
        "outputId": "b11699ce-1a15-4beb-8350-35e4e4e7e707"
      },
      "execution_count": null,
      "outputs": [
        {
          "output_type": "stream",
          "name": "stdout",
          "text": [
            "자식호출\n"
          ]
        }
      ]
    },
    {
      "cell_type": "code",
      "source": [
        "# 389\n",
        "class 부모:\n",
        " def __init__(self):\n",
        "    print(\"부모생성\")\n",
        "\n",
        "class 자식(부모):\n",
        " def __init__(self):\n",
        "    print(\"자식생성\")\n",
        "\n",
        "나 = 자식()"
      ],
      "metadata": {
        "colab": {
          "base_uri": "https://localhost:8080/"
        },
        "id": "V03PRAEdXZ9l",
        "outputId": "3ba89623-332b-47c0-93f8-9b670dc2da28"
      },
      "execution_count": null,
      "outputs": [
        {
          "output_type": "stream",
          "name": "stdout",
          "text": [
            "자식생성\n"
          ]
        }
      ]
    },
    {
      "cell_type": "code",
      "source": [
        "# 390\n",
        "class 부모:\n",
        " def __init__(self):\n",
        "    print(\"부모생성\")\n",
        "\n",
        "class 자식(부모):\n",
        " def __init__(self):\n",
        "    print(\"자식생성\")\n",
        "    super().__init__()\n",
        "\n",
        "나 = 자식()"
      ],
      "metadata": {
        "colab": {
          "base_uri": "https://localhost:8080/"
        },
        "id": "-TGiTPm9Xx7r",
        "outputId": "73f0d28f-702e-4533-9c97-5d9e8cef0b04"
      },
      "execution_count": null,
      "outputs": [
        {
          "output_type": "stream",
          "name": "stdout",
          "text": [
            "자식생성\n",
            "부모생성\n"
          ]
        }
      ]
    }
  ]
}