{
  "nbformat": 4,
  "nbformat_minor": 0,
  "metadata": {
    "colab": {
      "provenance": [],
      "authorship_tag": "ABX9TyNRa4jh262VfROYab7wISg/",
      "include_colab_link": true
    },
    "kernelspec": {
      "name": "python3",
      "display_name": "Python 3"
    },
    "language_info": {
      "name": "python"
    }
  },
  "cells": [
    {
      "cell_type": "markdown",
      "metadata": {
        "id": "view-in-github",
        "colab_type": "text"
      },
      "source": [
        "<a href=\"https://colab.research.google.com/github/corydoras15/python-class/blob/main/Homework19.ipynb\" target=\"_parent\"><img src=\"https://colab.research.google.com/assets/colab-badge.svg\" alt=\"Open In Colab\"/></a>"
      ]
    },
    {
      "cell_type": "code",
      "execution_count": 7,
      "metadata": {
        "colab": {
          "base_uri": "https://localhost:8080/"
        },
        "id": "p4zHWPXP263m",
        "outputId": "e359f0cc-b529-4e09-de79-92590de8240a"
      },
      "outputs": [
        {
          "output_type": "stream",
          "name": "stdout",
          "text": [
            "Enter your name: jinseok\n",
            "jinseok\n",
            "jinseok\n",
            "jinseok\n"
          ]
        }
      ],
      "source": [
        "# 035\n",
        "a = input(\"Enter your name: \")\n",
        "for i in range(3):\n",
        "  print(a)"
      ]
    },
    {
      "cell_type": "code",
      "source": [
        "# 036\n",
        "a = input(\"Enter your name: \")\n",
        "b = int(input(\"Enter a number: \"))\n",
        "for i in range(b):\n",
        "  print(a)"
      ],
      "metadata": {
        "colab": {
          "base_uri": "https://localhost:8080/"
        },
        "id": "U08MIqFW3249",
        "outputId": "1a459535-3659-4e67-eed1-95e304ed5815"
      },
      "execution_count": 9,
      "outputs": [
        {
          "output_type": "stream",
          "name": "stdout",
          "text": [
            "Enter your name: jin\n",
            "Enter a number: 5\n",
            "jin\n",
            "jin\n",
            "jin\n",
            "jin\n",
            "jin\n"
          ]
        }
      ]
    },
    {
      "cell_type": "code",
      "source": [
        "# 037\n",
        "a = input(\"Enter your name: \")\n",
        "for i in a:\n",
        "  print(i)"
      ],
      "metadata": {
        "colab": {
          "base_uri": "https://localhost:8080/"
        },
        "id": "0yGNhaSA5Q0c",
        "outputId": "4361ff20-b7c5-4751-e94d-a57d378e3467"
      },
      "execution_count": 10,
      "outputs": [
        {
          "output_type": "stream",
          "name": "stdout",
          "text": [
            "Enter your name: jin\n",
            "j\n",
            "i\n",
            "n\n"
          ]
        }
      ]
    },
    {
      "cell_type": "code",
      "source": [
        "# 038\n",
        "a = input(\"Enter your name: \")\n",
        "b = int(input(\"Enter a number: \"))\n",
        "for i in a:\n",
        "  print(i * b)"
      ],
      "metadata": {
        "colab": {
          "base_uri": "https://localhost:8080/"
        },
        "id": "lb4OpusC6MIq",
        "outputId": "48efcf9f-518a-4fbc-aea1-9f790fcb73d8"
      },
      "execution_count": 15,
      "outputs": [
        {
          "output_type": "stream",
          "name": "stdout",
          "text": [
            "Enter your name: jin\n",
            "Enter a number: 5\n",
            "jjjjj\n",
            "iiiii\n",
            "nnnnn\n"
          ]
        }
      ]
    },
    {
      "cell_type": "code",
      "source": [
        "# 039\n",
        "a = input(\"Enter a number between 1 - 12: \")\n",
        "print(a)"
      ],
      "metadata": {
        "colab": {
          "base_uri": "https://localhost:8080/"
        },
        "id": "C9BYXNtx7aUt",
        "outputId": "6ff5c186-a645-487a-ad95-5e3cbe9a1556"
      },
      "execution_count": 16,
      "outputs": [
        {
          "output_type": "stream",
          "name": "stdout",
          "text": [
            "Enter a number btween 1 - 12: 11\n",
            "11\n"
          ]
        }
      ]
    },
    {
      "cell_type": "code",
      "source": [
        "# 040\n",
        "a = int(input(\"Enter a number below 50: \"))\n",
        "for i in range(50, a-1, -1):\n",
        "  print(i)"
      ],
      "metadata": {
        "colab": {
          "base_uri": "https://localhost:8080/"
        },
        "id": "psQESBhS8foy",
        "outputId": "5724a279-3bc6-453c-a536-f5a61e87531c"
      },
      "execution_count": 18,
      "outputs": [
        {
          "output_type": "stream",
          "name": "stdout",
          "text": [
            "Enter a number below 50: 40\n",
            "50\n",
            "49\n",
            "48\n",
            "47\n",
            "46\n",
            "45\n",
            "44\n",
            "43\n",
            "42\n",
            "41\n",
            "40\n"
          ]
        }
      ]
    },
    {
      "cell_type": "code",
      "source": [
        "# 041\n",
        "a = input(\"Enter your name: \")\n",
        "b = int(input(\"Enter a number: \"))\n",
        "if b < 10:\n",
        "  print(a * b)\n",
        "else:\n",
        "  print(\"Too high \" * 3)"
      ],
      "metadata": {
        "colab": {
          "base_uri": "https://localhost:8080/"
        },
        "id": "ZIvknv7v9lZp",
        "outputId": "eaeba255-12d1-43f1-eeec-e49b508ff5fc"
      },
      "execution_count": 22,
      "outputs": [
        {
          "output_type": "stream",
          "name": "stdout",
          "text": [
            "Enter your name: jin\n",
            "Enter a number: 11\n",
            "Too high Too high Too high \n"
          ]
        }
      ]
    },
    {
      "cell_type": "code",
      "source": [
        "# 042\n",
        "sum = 0\n",
        "a = int(input(\"Enter a number1: \"))\n",
        "b = input(\"Are you want includ number? y/n:\")\n",
        "if b == \"y\":\n",
        "  sum += a\n",
        "a = int(input(\"Enter a number2: \"))\n",
        "b = input(\"Are you want includ number? y/n:\")\n",
        "if b == \"y\":\n",
        "  sum += a\n",
        "a = int(input(\"Enter a number3: \"))\n",
        "b = input(\"Are you want includ number? y/n:\")\n",
        "if b == \"y\":\n",
        "  sum += a\n",
        "a = int(input(\"Enter a number4: \"))\n",
        "b = input(\"Are you want includ number? y/n:\")\n",
        "if b == \"y\":\n",
        "  sum += a\n",
        "a = int(input(\"Enter a number5: \"))\n",
        "b = input(\"Are you want includ number? y/n:\")\n",
        "if b == \"y\":\n",
        "  sum += a  \n",
        "print(sum)"
      ],
      "metadata": {
        "colab": {
          "base_uri": "https://localhost:8080/"
        },
        "id": "cmuKfIL--3w6",
        "outputId": "1c1e41bc-e534-4b3c-dec7-88d32c4aa4af"
      },
      "execution_count": 27,
      "outputs": [
        {
          "output_type": "stream",
          "name": "stdout",
          "text": [
            "Enter a number1: 11\n",
            "Are you want includ number? y/n:y\n",
            "Enter a number2: 11\n",
            "Are you want includ number? y/n:n\n",
            "Enter a number3: 11\n",
            "Are you want includ number? y/n:y\n",
            "Enter a number4: 11\n",
            "Are you want includ number? y/n:y\n",
            "Enter a number5: 11\n",
            "Are you want includ number? y/n:n\n",
            "33\n"
          ]
        }
      ]
    },
    {
      "cell_type": "code",
      "source": [
        "# 043\n",
        "a = input(\"up or down?: \")\n",
        "if a == \"up\":\n",
        "  b = int(input(\"Enter a number:\"))\n",
        "  for i in range(1, b+1, 1):\n",
        "    print(i)\n",
        "elif a == \"down\":\n",
        "   c = int(input(\"Enter a number below 20:\"))\n",
        "   for j in range(20, c-1, -1):\n",
        "     print(j)\n",
        "else:\n",
        "  print(\"i don't understand.\")"
      ],
      "metadata": {
        "colab": {
          "base_uri": "https://localhost:8080/"
        },
        "id": "hXbYoy3tCMsD",
        "outputId": "55b9d414-8f5d-42e7-af70-d9b748a9f995"
      },
      "execution_count": 34,
      "outputs": [
        {
          "output_type": "stream",
          "name": "stdout",
          "text": [
            "up or down?: down\n",
            "Enter a number below 20:17\n",
            "20\n",
            "19\n",
            "18\n",
            "17\n"
          ]
        }
      ]
    },
    {
      "cell_type": "code",
      "source": [
        "# 044\n",
        "a = int(input(\"How many plople invite to party? :\"))\n",
        "if a < 10:\n",
        "  for i in range(a):\n",
        "   b = input(\"Enter name : \")\n",
        "   print(b, \"has been invited.\")\n",
        "else:\n",
        "  print(\"Too many people\")"
      ],
      "metadata": {
        "colab": {
          "base_uri": "https://localhost:8080/"
        },
        "id": "MlDFbpATFNGX",
        "outputId": "116fce99-967a-413f-8424-75edf615870a"
      },
      "execution_count": 36,
      "outputs": [
        {
          "output_type": "stream",
          "name": "stdout",
          "text": [
            "How many plople invite to party? :3\n",
            "Enter name : jin\n",
            "jin has been invited.\n",
            "Enter name : don\n",
            "don has been invited.\n",
            "Enter name : ren\n",
            "ren has been invited.\n"
          ]
        }
      ]
    }
  ]
}