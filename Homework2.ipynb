{
  "nbformat": 4,
  "nbformat_minor": 0,
  "metadata": {
    "colab": {
      "provenance": [],
      "authorship_tag": "ABX9TyNiOgZyrD8d8Xif+WTt/F/K",
      "include_colab_link": true
    },
    "kernelspec": {
      "name": "python3",
      "display_name": "Python 3"
    },
    "language_info": {
      "name": "python"
    }
  },
  "cells": [
    {
      "cell_type": "markdown",
      "metadata": {
        "id": "view-in-github",
        "colab_type": "text"
      },
      "source": [
        "<a href=\"https://colab.research.google.com/github/corydoras15/python-class/blob/main/Homework2.ipynb\" target=\"_parent\"><img src=\"https://colab.research.google.com/assets/colab-badge.svg\" alt=\"Open In Colab\"/></a>"
      ]
    },
    {
      "cell_type": "code",
      "execution_count": null,
      "metadata": {
        "id": "FycRaU6DORwE",
        "colab": {
          "base_uri": "https://localhost:8080/"
        },
        "outputId": "c8146747-7582-4f2b-a5fc-6cb1867d81c5"
      },
      "outputs": [
        {
          "output_type": "stream",
          "name": "stdout",
          "text": [
            "p t\n"
          ]
        }
      ],
      "source": [
        "# 021\n",
        "letters = 'python'\n",
        "#print(letter[0,2])\n",
        "print(letters[0], letters[2])"
      ]
    },
    {
      "cell_type": "code",
      "source": [
        "# 022\n",
        "license_plate = \"24가 2210\"\n",
        "print(license_plate[3:])"
      ],
      "metadata": {
        "id": "s90mGemsOYjF",
        "colab": {
          "base_uri": "https://localhost:8080/"
        },
        "outputId": "b908e8e2-dca5-4a59-8ea8-92bdc0f3992e"
      },
      "execution_count": null,
      "outputs": [
        {
          "output_type": "stream",
          "name": "stdout",
          "text": [
            " 2210\n"
          ]
        }
      ]
    },
    {
      "cell_type": "code",
      "source": [
        "# 023\n",
        "string = \"홀짝홀짝홀짝\"\n",
        "\n",
        "#print(string[0],string[2],string[4])\n",
        "print(string[0]+string[2]+string[4])"
      ],
      "metadata": {
        "colab": {
          "base_uri": "https://localhost:8080/"
        },
        "id": "wrjjjSYSMryL",
        "outputId": "9959abb2-c246-4566-db58-50429bec3442"
      },
      "execution_count": null,
      "outputs": [
        {
          "output_type": "stream",
          "name": "stdout",
          "text": [
            "홀홀홀\n"
          ]
        }
      ]
    },
    {
      "cell_type": "code",
      "source": [
        "# 024\n",
        "string = \"PYTHON\"\n",
        "\n",
        "print(string[::-1])"
      ],
      "metadata": {
        "colab": {
          "base_uri": "https://localhost:8080/"
        },
        "id": "PEmeUEpTNPGG",
        "outputId": "3f2f1611-d616-4c49-97a3-b12f2f87760f"
      },
      "execution_count": null,
      "outputs": [
        {
          "output_type": "stream",
          "name": "stdout",
          "text": [
            "NOHTYP\n"
          ]
        }
      ]
    },
    {
      "cell_type": "code",
      "source": [
        "# 025\n",
        "phone_number = \"010-1111-2222\"\n",
        "a = phone_number.replace(\"-\",\" \")\n",
        "print(a)"
      ],
      "metadata": {
        "colab": {
          "base_uri": "https://localhost:8080/"
        },
        "id": "fPwmG2RuNyD8",
        "outputId": "36ef0c75-da47-4c86-bc33-da10e9d42540"
      },
      "execution_count": null,
      "outputs": [
        {
          "output_type": "stream",
          "name": "stdout",
          "text": [
            "010 1111 2222\n"
          ]
        }
      ]
    },
    {
      "cell_type": "code",
      "source": [
        "# 026\n",
        "phone_number = \"010-1111-2222\"\n",
        "a = phone_number.replace(\"-\",\"\")\n",
        "print(a)"
      ],
      "metadata": {
        "colab": {
          "base_uri": "https://localhost:8080/"
        },
        "id": "7d6FW_UmOCH8",
        "outputId": "b3d8de0d-74d4-41d0-9c4a-6a88ee3afbac"
      },
      "execution_count": null,
      "outputs": [
        {
          "output_type": "stream",
          "name": "stdout",
          "text": [
            "01011112222\n"
          ]
        }
      ]
    },
    {
      "cell_type": "code",
      "source": [
        "# 027\n",
        "url = \"http://sharebook.kr\"\n",
        "print(url[-2:])"
      ],
      "metadata": {
        "colab": {
          "base_uri": "https://localhost:8080/"
        },
        "id": "2lRhZ9bvOKow",
        "outputId": "96ffc186-f6b5-405c-8455-eb8c0ea52a83"
      },
      "execution_count": null,
      "outputs": [
        {
          "output_type": "stream",
          "name": "stdout",
          "text": [
            "kr\n"
          ]
        }
      ]
    },
    {
      "cell_type": "code",
      "source": [
        "# 028\n",
        "lang = 'python'\n",
        "lang[0] = 'P'\n",
        "print(lang)"
      ],
      "metadata": {
        "colab": {
          "base_uri": "https://localhost:8080/",
          "height": 223
        },
        "id": "p81S3zwlOwvb",
        "outputId": "54c6dd1e-c161-4d1d-b7f6-97bf72423424"
      },
      "execution_count": null,
      "outputs": [
        {
          "output_type": "error",
          "ename": "TypeError",
          "evalue": "ignored",
          "traceback": [
            "\u001b[0;31m---------------------------------------------------------------------------\u001b[0m",
            "\u001b[0;31mTypeError\u001b[0m                                 Traceback (most recent call last)",
            "\u001b[0;32m<ipython-input-7-16e89ae101a5>\u001b[0m in \u001b[0;36m<module>\u001b[0;34m\u001b[0m\n\u001b[1;32m      1\u001b[0m \u001b[0;31m# 028\u001b[0m\u001b[0;34m\u001b[0m\u001b[0;34m\u001b[0m\u001b[0;34m\u001b[0m\u001b[0m\n\u001b[1;32m      2\u001b[0m \u001b[0mlang\u001b[0m \u001b[0;34m=\u001b[0m \u001b[0;34m'python'\u001b[0m\u001b[0;34m\u001b[0m\u001b[0;34m\u001b[0m\u001b[0m\n\u001b[0;32m----> 3\u001b[0;31m \u001b[0mlang\u001b[0m\u001b[0;34m[\u001b[0m\u001b[0;36m0\u001b[0m\u001b[0;34m]\u001b[0m \u001b[0;34m=\u001b[0m \u001b[0;34m'P'\u001b[0m\u001b[0;34m\u001b[0m\u001b[0;34m\u001b[0m\u001b[0m\n\u001b[0m\u001b[1;32m      4\u001b[0m \u001b[0mprint\u001b[0m\u001b[0;34m(\u001b[0m\u001b[0mlang\u001b[0m\u001b[0;34m)\u001b[0m\u001b[0;34m\u001b[0m\u001b[0;34m\u001b[0m\u001b[0m\n",
            "\u001b[0;31mTypeError\u001b[0m: 'str' object does not support item assignment"
          ]
        }
      ]
    },
    {
      "cell_type": "code",
      "source": [
        "# 029\n",
        "string = 'abcdfe2a354a32a'\n",
        "\n",
        "string.replace(\"a\",\"A\")\n",
        "print(string)\n",
        "\n",
        "a = string.replace(\"a\",\"A\")\n",
        "print(a)"
      ],
      "metadata": {
        "colab": {
          "base_uri": "https://localhost:8080/"
        },
        "id": "jFRD09dnPhdx",
        "outputId": "27fb87c8-7f35-44fc-ee2f-811afe751044"
      },
      "execution_count": null,
      "outputs": [
        {
          "output_type": "stream",
          "name": "stdout",
          "text": [
            "abcdfe2a354a32a\n",
            "Abcdfe2A354A32A\n"
          ]
        }
      ]
    },
    {
      "cell_type": "code",
      "source": [
        "# 030\n",
        "string = 'abcd'\n",
        "string.replace('b', 'B')\n",
        "print(string)\n",
        "\n",
        "a = string.replace('b', 'B')\n",
        "print(a)"
      ],
      "metadata": {
        "colab": {
          "base_uri": "https://localhost:8080/"
        },
        "id": "q7gs1gYtPkbG",
        "outputId": "a987c81f-7432-4c36-ca7f-32f81f3d5319"
      },
      "execution_count": null,
      "outputs": [
        {
          "output_type": "stream",
          "name": "stdout",
          "text": [
            "abcd\n",
            "aBcd\n"
          ]
        }
      ]
    },
    {
      "cell_type": "code",
      "source": [
        "# 031\n",
        "a = \"3\"\n",
        "b = \"4\"\n",
        "print(a + b)"
      ],
      "metadata": {
        "colab": {
          "base_uri": "https://localhost:8080/"
        },
        "id": "KBpFGcHaP6qL",
        "outputId": "26340845-b97e-4cc7-b3ed-7d7bbc1826f7"
      },
      "execution_count": null,
      "outputs": [
        {
          "output_type": "stream",
          "name": "stdout",
          "text": [
            "34\n"
          ]
        }
      ]
    },
    {
      "cell_type": "code",
      "source": [
        "# 032\n",
        "print(\"Hi\" * 3)"
      ],
      "metadata": {
        "colab": {
          "base_uri": "https://localhost:8080/"
        },
        "id": "CpiBZPdDQEAt",
        "outputId": "79bff456-871b-441c-992f-ab00b938836b"
      },
      "execution_count": null,
      "outputs": [
        {
          "output_type": "stream",
          "name": "stdout",
          "text": [
            "HiHiHi\n"
          ]
        }
      ]
    },
    {
      "cell_type": "code",
      "source": [
        "# 033\n",
        "print(\"-\" * 80)"
      ],
      "metadata": {
        "colab": {
          "base_uri": "https://localhost:8080/"
        },
        "id": "BlsKVrDIQJc2",
        "outputId": "5493d298-3d89-4919-e0cc-e54aa2ef5e52"
      },
      "execution_count": null,
      "outputs": [
        {
          "output_type": "stream",
          "name": "stdout",
          "text": [
            "--------------------------------------------------------------------------------\n"
          ]
        }
      ]
    },
    {
      "cell_type": "code",
      "source": [
        "# 034\n",
        "#t1 = 'python\\t'\n",
        "#t2 = 'java\\t'\n",
        "#print((t1 + t2) *4)\n",
        "\n",
        "t1 = 'python'\n",
        "t2 = 'java'\n",
        "t3 = (t1 + \" \" + t2 + \" \")\n",
        "print(t3 *4)"
      ],
      "metadata": {
        "colab": {
          "base_uri": "https://localhost:8080/"
        },
        "id": "49ipZlOqQhLS",
        "outputId": "9f0fc9b9-d7cf-44b7-b9c2-b2e915248613"
      },
      "execution_count": null,
      "outputs": [
        {
          "output_type": "stream",
          "name": "stdout",
          "text": [
            "python java python java python java python java \n"
          ]
        }
      ]
    },
    {
      "cell_type": "code",
      "source": [
        "# 035\n",
        "name1 = \"김민수\" \n",
        "age1 = 10\n",
        "name2 = \"이철희\"\n",
        "age2 = 13\n",
        "\n",
        "#print(\"이름: %s 나이: %d\" % (name1, age1), \"이름: %s 나이: %d\" % (name2, age2))\n",
        "print(\"이름: %s 나이: %d\" % (name1, age1)+ \"이름: %s 나이: %d\" % (name2, age2))"
      ],
      "metadata": {
        "colab": {
          "base_uri": "https://localhost:8080/"
        },
        "id": "NvdYiQndU_XP",
        "outputId": "4eefbbb0-b077-4926-fea7-a8ff11c66abc"
      },
      "execution_count": null,
      "outputs": [
        {
          "output_type": "stream",
          "name": "stdout",
          "text": [
            "이름: 김민수 나이: 10 이름: 이철희 나이: 13\n",
            "이름: 김민수 나이: 10이름: 이철희 나이: 13\n"
          ]
        }
      ]
    },
    {
      "cell_type": "code",
      "source": [
        "# 036\n",
        "name1 = \"김민수\"\n",
        "age1 = 10\n",
        "name2 = \"이철희\"\n",
        "age2 = 13\n",
        "\n",
        "#print(\"이름: {} 나이: {}\".format(name1, age1), \"이름: {} 나이: {}\".format(name2, age2))\n",
        "print(\"이름: {} 나이: {}\".format(name1, age1)+ \"이름: {} 나이: {}\".format(name2, age2))"
      ],
      "metadata": {
        "id": "Yx54DK0FS0St",
        "colab": {
          "base_uri": "https://localhost:8080/"
        },
        "outputId": "6ffbc8db-fd33-414f-c91e-ebe40eff0dff"
      },
      "execution_count": null,
      "outputs": [
        {
          "output_type": "stream",
          "name": "stdout",
          "text": [
            "이름: 김민수 나이: 10이름: 이철희 나이: 13\n"
          ]
        }
      ]
    },
    {
      "cell_type": "code",
      "source": [
        "# 037\n",
        "name1 = \"김민수\"\n",
        "age1 = 10\n",
        "name2 = \"이철희\"\n",
        "age2 = 13\n",
        "\n",
        "#print(f\"이름: {name1} 나이: {age1}\", f\"이름: {name2} 나이: {age2}\")\n",
        "print(f\"이름: {name1} 나이: {age1}\"+ f\"이름: {name2} 나이: {age2}\")"
      ],
      "metadata": {
        "id": "5utoG5YpS7ez",
        "colab": {
          "base_uri": "https://localhost:8080/"
        },
        "outputId": "b7e418cd-1de4-4726-8708-d3d7cc1f2cd8"
      },
      "execution_count": null,
      "outputs": [
        {
          "output_type": "stream",
          "name": "stdout",
          "text": [
            "이름: 김민수 나이: 10이름: 이철희 나이: 13\n"
          ]
        }
      ]
    },
    {
      "cell_type": "code",
      "source": [
        "# 038\n",
        "상장주식수 = \"5,969,782,550\"\n",
        "\n",
        "a = 상장주식수.replace(\",\",\"\")\n",
        "print(a, type(a))\n",
        "\n",
        "b = int(a)\n",
        "print(b, type(b))"
      ],
      "metadata": {
        "colab": {
          "base_uri": "https://localhost:8080/"
        },
        "id": "Tb80tk3XTAh6",
        "outputId": "94edca1a-a5b0-48ae-a8bf-48c1a1beb39e"
      },
      "execution_count": null,
      "outputs": [
        {
          "output_type": "stream",
          "name": "stdout",
          "text": [
            "5969782550 <class 'str'>\n",
            "5969782550 <class 'int'>\n"
          ]
        }
      ]
    },
    {
      "cell_type": "code",
      "source": [
        "# 039\n",
        "분기 = \"2020/03(E) (IFRS연결)\"\n",
        "print(분기[0:7])"
      ],
      "metadata": {
        "colab": {
          "base_uri": "https://localhost:8080/"
        },
        "id": "pRYAAKl7UzXo",
        "outputId": "ffa018d0-2a33-4fe4-c866-b647a97e0726"
      },
      "execution_count": null,
      "outputs": [
        {
          "output_type": "stream",
          "name": "stdout",
          "text": [
            "2020/03\n"
          ]
        }
      ]
    },
    {
      "cell_type": "code",
      "source": [
        "# 040\n",
        "data = \"   삼성전자    \""
      ],
      "metadata": {
        "id": "xByrPVEpVLRi"
      },
      "execution_count": null,
      "outputs": []
    }
  ]
}