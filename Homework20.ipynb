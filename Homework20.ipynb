{
  "nbformat": 4,
  "nbformat_minor": 0,
  "metadata": {
    "colab": {
      "provenance": [],
      "authorship_tag": "ABX9TyM42ystnsUZ0Fz4+23kqaut",
      "include_colab_link": true
    },
    "kernelspec": {
      "name": "python3",
      "display_name": "Python 3"
    },
    "language_info": {
      "name": "python"
    }
  },
  "cells": [
    {
      "cell_type": "markdown",
      "metadata": {
        "id": "view-in-github",
        "colab_type": "text"
      },
      "source": [
        "<a href=\"https://colab.research.google.com/github/corydoras15/python-class/blob/main/Homework20.ipynb\" target=\"_parent\"><img src=\"https://colab.research.google.com/assets/colab-badge.svg\" alt=\"Open In Colab\"/></a>"
      ]
    },
    {
      "cell_type": "code",
      "execution_count": null,
      "metadata": {
        "colab": {
          "base_uri": "https://localhost:8080/"
        },
        "id": "AbRKM9rA34zi",
        "outputId": "6f0a671c-e249-4207-d160-67527dcf0b89"
      },
      "outputs": [
        {
          "output_type": "stream",
          "name": "stdout",
          "text": [
            "Enter a number: 10\n",
            "Enter a number: 20\n",
            "Enter a number: 30\n",
            "The total is 60\n"
          ]
        }
      ],
      "source": [
        "# 045\n",
        "total = 0\n",
        "while total < 50:\n",
        "  a = int(input(\"Enter a number: \"))\n",
        "  total = total + a\n",
        "print(\"The total is\", total) "
      ]
    },
    {
      "cell_type": "code",
      "source": [
        "# 046\n",
        "while True:\n",
        " a = int(input(\"Enter a number:\"))\n",
        " if a > 5:\n",
        "   print(\"The last number you entered was a\", a)\n",
        "   break"
      ],
      "metadata": {
        "id": "p6QlWqcM5fbW",
        "colab": {
          "base_uri": "https://localhost:8080/"
        },
        "outputId": "b2c599b7-0364-44b1-f93c-a597789635c8"
      },
      "execution_count": 59,
      "outputs": [
        {
          "output_type": "stream",
          "name": "stdout",
          "text": [
            "Enter a number:3\n",
            "Enter a number:2\n",
            "Enter a number:5\n",
            "Enter a number:6\n",
            "The last number you entered was a 6\n"
          ]
        }
      ]
    },
    {
      "cell_type": "code",
      "source": [
        "# 047\n",
        "sum = 0\n",
        "a = int(input(\"Enter a number: \"))\n",
        "b = int(input(\"Enter a another number: \"))\n",
        "sum = a + b\n",
        "while True:\n",
        " c = input(\"If you want to add another number? Y/n:\")\n",
        " if c == \"y\":\n",
        "  d = int(input(\"Enter a another number:\"))\n",
        "  sum += d\n",
        " else:\n",
        "   print(sum)\n",
        "   break"
      ],
      "metadata": {
        "colab": {
          "base_uri": "https://localhost:8080/"
        },
        "id": "ooRT18Xa7Zcn",
        "outputId": "bfe903ed-1ff8-45e3-b9ea-5e36a6c3477f"
      },
      "execution_count": null,
      "outputs": [
        {
          "output_type": "stream",
          "name": "stdout",
          "text": [
            "Enter a number: 5\n",
            "Enter a another number: 10\n",
            "If you want to add another number? Y/n:y\n",
            "Enter a another number:30\n",
            "If you want to add another number? Y/n:n\n",
            "45\n"
          ]
        }
      ]
    },
    {
      "cell_type": "code",
      "source": [
        "# 048\n",
        "count = 0\n",
        "a = input(\"Enter a name of invite to a party:\")\n",
        "print(a, \"has now been invited\")\n",
        "c = count + 1\n",
        "while True:\n",
        " b = input(\"If they want to invite somebody else:\")\n",
        " if b == \"no\":\n",
        "  print(\"How many people they have coming to the party:\",c)\n",
        "  break\n",
        " else:\n",
        "   print(b, \"has now been invited\")\n",
        "   c += 1"
      ],
      "metadata": {
        "colab": {
          "base_uri": "https://localhost:8080/"
        },
        "id": "wP7hg0MN-lZ1",
        "outputId": "a171aba8-8c80-46fa-cdbd-ba2e605d8294"
      },
      "execution_count": null,
      "outputs": [
        {
          "output_type": "stream",
          "name": "stdout",
          "text": [
            "Enter a name of invite to a party:hin\n",
            "hin has now been invited\n",
            "If they want to invite somebody else:gin\n",
            "gin has now been invited\n",
            "If they want to invite somebody else:fin\n",
            "fin has now been invited\n",
            "If they want to invite somebody else:kom\n",
            "kom has now been invited\n",
            "If they want to invite somebody else:no\n",
            "How many people they have coming to the party: 4\n"
          ]
        }
      ]
    },
    {
      "cell_type": "code",
      "source": [
        "# 049\n",
        "compnum = 50\n",
        "count = 1\n",
        "while a != compnum:\n",
        "  a = int(input(\"Enter a number:\"))\n",
        "  if a > compnum:\n",
        "    print(\"Too hihg\")\n",
        "    count += 1\n",
        "  elif a < compnum:\n",
        "    print(\"Too low\")\n",
        "    count += 1\n",
        "  else:\n",
        "    print(\"Well done , you took\", count, \"attempts\")"
      ],
      "metadata": {
        "id": "SIIQSWXwEQcQ",
        "colab": {
          "base_uri": "https://localhost:8080/"
        },
        "outputId": "fdd91880-e6cd-4386-d56e-04a7729e80dd"
      },
      "execution_count": 60,
      "outputs": [
        {
          "output_type": "stream",
          "name": "stdout",
          "text": [
            "Enter a number:80\n",
            "Too hihg\n",
            "Enter a number:10\n",
            "Too low\n",
            "Enter a number:50\n",
            "Well done , you took 3 attempts\n"
          ]
        }
      ]
    },
    {
      "cell_type": "code",
      "source": [
        "# 050\n",
        "\n",
        "while True:\n",
        " a = int(input(\"Enter a number between 10 and 20: \"))\n",
        " if a > 20:\n",
        "  print(\"Too high\")\n",
        " elif a < 10:\n",
        "   print(\"Too low\")\n",
        " else:\n",
        "   print(\"Thank you\")\n",
        "   break"
      ],
      "metadata": {
        "colab": {
          "base_uri": "https://localhost:8080/"
        },
        "id": "6IH0BFT8IAGf",
        "outputId": "52308175-bcbe-43cb-cfca-c1b8d4c7e4e4"
      },
      "execution_count": null,
      "outputs": [
        {
          "output_type": "stream",
          "name": "stdout",
          "text": [
            "Enter a number between 10 and 20: 50\n",
            "Too high\n",
            "Enter a number between 10 and 20: 9\n",
            "Too low\n",
            "Enter a number between 10 and 20: 15\n",
            "Thank you\n"
          ]
        }
      ]
    },
    {
      "cell_type": "code",
      "source": [
        "# 051\n",
        "num = 10\n",
        "for i in range(10):\n",
        " print(\"There are\", num, \"green bottles hanging on the wall,\", num, \"green bottles hanging on the wall, and if 1 green bottle should accidentally fall\")\n",
        " num -= 1\n",
        " while a != num:\n",
        "  a = int(input(\"how many green bottle will be hanging on the wall? :\"))\n",
        "  if a == num:\n",
        "   print(\"There will be\", num, \"green bottles hanging on the wall\")\n",
        "  else:\n",
        "   print(\"No, try again\")\n",
        "print(\"There are no more green bottles hanging on the wall\")"
      ],
      "metadata": {
        "colab": {
          "base_uri": "https://localhost:8080/"
        },
        "id": "uE_O2C6LJSgu",
        "outputId": "5e556524-62c7-46b2-9255-7b2b29cefae2"
      },
      "execution_count": null,
      "outputs": [
        {
          "output_type": "stream",
          "name": "stdout",
          "text": [
            "There are 10 green bottles hanging on the wall, 10 green bottles hanging on the wall, and if 1 green bottle should accidentally fall\n",
            "how many green bottle will be hanging on the wall? :9\n",
            "There will be 9 green bottles hanging on the wall\n",
            "There are 9 green bottles hanging on the wall, 9 green bottles hanging on the wall, and if 1 green bottle should accidentally fall\n",
            "how many green bottle will be hanging on the wall? :7\n",
            "No, try again\n",
            "how many green bottle will be hanging on the wall? :8\n",
            "There will be 8 green bottles hanging on the wall\n",
            "There are 8 green bottles hanging on the wall, 8 green bottles hanging on the wall, and if 1 green bottle should accidentally fall\n",
            "how many green bottle will be hanging on the wall? :7\n",
            "There will be 7 green bottles hanging on the wall\n",
            "There are 7 green bottles hanging on the wall, 7 green bottles hanging on the wall, and if 1 green bottle should accidentally fall\n",
            "how many green bottle will be hanging on the wall? :6\n",
            "There will be 6 green bottles hanging on the wall\n",
            "There are 6 green bottles hanging on the wall, 6 green bottles hanging on the wall, and if 1 green bottle should accidentally fall\n",
            "how many green bottle will be hanging on the wall? :5\n",
            "There will be 5 green bottles hanging on the wall\n",
            "There are 5 green bottles hanging on the wall, 5 green bottles hanging on the wall, and if 1 green bottle should accidentally fall\n",
            "how many green bottle will be hanging on the wall? :4\n",
            "There will be 4 green bottles hanging on the wall\n",
            "There are 4 green bottles hanging on the wall, 4 green bottles hanging on the wall, and if 1 green bottle should accidentally fall\n",
            "how many green bottle will be hanging on the wall? :3\n",
            "There will be 3 green bottles hanging on the wall\n",
            "There are 3 green bottles hanging on the wall, 3 green bottles hanging on the wall, and if 1 green bottle should accidentally fall\n",
            "how many green bottle will be hanging on the wall? :2\n",
            "There will be 2 green bottles hanging on the wall\n",
            "There are 2 green bottles hanging on the wall, 2 green bottles hanging on the wall, and if 1 green bottle should accidentally fall\n",
            "how many green bottle will be hanging on the wall? :1\n",
            "There will be 1 green bottles hanging on the wall\n",
            "There are 1 green bottles hanging on the wall, 1 green bottles hanging on the wall, and if 1 green bottle should accidentally fall\n",
            "how many green bottle will be hanging on the wall? :1\n",
            "No, try again\n",
            "how many green bottle will be hanging on the wall? :0\n",
            "There will be 0 green bottles hanging on the wall\n",
            "There are no more green bottles hanging on the wall\n"
          ]
        }
      ]
    }
  ]
}