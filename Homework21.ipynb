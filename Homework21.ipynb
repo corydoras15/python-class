{
  "nbformat": 4,
  "nbformat_minor": 0,
  "metadata": {
    "colab": {
      "provenance": [],
      "authorship_tag": "ABX9TyOPNPEqIM5GAqWU+oHwClF5",
      "include_colab_link": true
    },
    "kernelspec": {
      "name": "python3",
      "display_name": "Python 3"
    },
    "language_info": {
      "name": "python"
    }
  },
  "cells": [
    {
      "cell_type": "markdown",
      "metadata": {
        "id": "view-in-github",
        "colab_type": "text"
      },
      "source": [
        "<a href=\"https://colab.research.google.com/github/corydoras15/python-class/blob/main/Homework21.ipynb\" target=\"_parent\"><img src=\"https://colab.research.google.com/assets/colab-badge.svg\" alt=\"Open In Colab\"/></a>"
      ]
    },
    {
      "cell_type": "code",
      "execution_count": 2,
      "metadata": {
        "colab": {
          "base_uri": "https://localhost:8080/"
        },
        "id": "295o4JX3a92j",
        "outputId": "b8102577-2b4b-41dc-bc3e-cd277d404e98"
      },
      "outputs": [
        {
          "output_type": "stream",
          "name": "stdout",
          "text": [
            "7\n"
          ]
        }
      ],
      "source": [
        "# 052\n",
        "import random\n",
        "a = random.randint(1,100)\n",
        "print(a)"
      ]
    },
    {
      "cell_type": "code",
      "source": [
        "# 053\n",
        "import random\n",
        "a = random.choice([\"apple\", \"orange\", \"pear\", \"melon\", \"grapes\"])\n",
        "print(a)"
      ],
      "metadata": {
        "colab": {
          "base_uri": "https://localhost:8080/"
        },
        "id": "I4U29LmYbvHh",
        "outputId": "1f4e2eaf-b39e-4a88-b520-30eb13b451e0"
      },
      "execution_count": 3,
      "outputs": [
        {
          "output_type": "stream",
          "name": "stdout",
          "text": [
            "orange\n"
          ]
        }
      ]
    },
    {
      "cell_type": "code",
      "source": [
        "# 054\n",
        "import random\n",
        "a = random.choice([\"h\", \"t\"])\n",
        "b = input(\"Enter h or t :\")\n",
        "if a == b:\n",
        "  print(\"You win\")\n",
        "  print(a)\n",
        "else:\n",
        "  print(\"Bad lick\")\n",
        "  print(a)"
      ],
      "metadata": {
        "colab": {
          "base_uri": "https://localhost:8080/"
        },
        "id": "awAEmYoNcu-E",
        "outputId": "a4d190e9-5154-4805-a80a-b9e79d9e87e3"
      },
      "execution_count": 5,
      "outputs": [
        {
          "output_type": "stream",
          "name": "stdout",
          "text": [
            "Enter h or t :t\n",
            "You win\n",
            "t\n"
          ]
        }
      ]
    },
    {
      "cell_type": "code",
      "source": [
        "# 055\n",
        "import random\n",
        "a = random.randint(1,5)\n",
        "b = int(input(\"Enter a number between 1 and 5 :\"))\n",
        "if a == b:\n",
        "  print(\"Well done\")\n",
        "elif a > b:\n",
        "  print(\"too low\")\n",
        "  c = int(input(\"Enter a number :\"))\n",
        "  if a == c:\n",
        "    print(\"Correct\")\n",
        "  else:\n",
        "    print(\"You lose\")  \n",
        "else:\n",
        "  print(\"too high\")\n",
        "  d = int(input(\"Enter a number :\"))\n",
        "  if a == d:\n",
        "    print(\"Correct\")\n",
        "  else:\n",
        "    print(\"You lose\")  "
      ],
      "metadata": {
        "colab": {
          "base_uri": "https://localhost:8080/"
        },
        "id": "O93ZZoS4d9oC",
        "outputId": "0bc553db-12d8-4761-f63d-b5b018ef1671"
      },
      "execution_count": 7,
      "outputs": [
        {
          "output_type": "stream",
          "name": "stdout",
          "text": [
            "Enter a number between 1 and 5 :5\n",
            "too high\n",
            "Enter a number :2\n",
            "Correct\n"
          ]
        }
      ]
    },
    {
      "cell_type": "code",
      "source": [
        "# 056\n",
        "import random\n",
        "a = random.randint(1, 10)\n",
        "while True:\n",
        " b = int(input(\"Enter a number between 1 and 10 :\"))\n",
        " if a == b:\n",
        "   break"
      ],
      "metadata": {
        "colab": {
          "base_uri": "https://localhost:8080/"
        },
        "id": "XLYLy1fMgbKM",
        "outputId": "e20e80a3-b1f3-4e38-8540-6d0a40a0ae82"
      },
      "execution_count": 13,
      "outputs": [
        {
          "name": "stdout",
          "output_type": "stream",
          "text": [
            "Enter a number between 1 and 10 :10\n"
          ]
        }
      ]
    },
    {
      "cell_type": "code",
      "source": [
        "# 057\n",
        "import random\n",
        "a = random.randint(1, 10)\n",
        "while a != b:\n",
        " b = int(input(\"Enter a number between 1 and 10 :\"))\n",
        " if a > b:\n",
        "   print(\"too low\")\n",
        " elif a < b:\n",
        "   print(\"too high\")"
      ],
      "metadata": {
        "colab": {
          "base_uri": "https://localhost:8080/"
        },
        "id": "w368B082kiES",
        "outputId": "d783bb9d-ac43-4ea7-cb1d-a22b0e4be92a"
      },
      "execution_count": 17,
      "outputs": [
        {
          "name": "stdout",
          "output_type": "stream",
          "text": [
            "Enter a number between 1 and 10 :5\n",
            "too low\n",
            "Enter a number between 1 and 10 :8\n"
          ]
        }
      ]
    },
    {
      "cell_type": "code",
      "source": [
        "# 058\n",
        "import random\n",
        "a = random.randint(1,5)\n",
        "b = random.randint(1,5)\n",
        "c = a + b\n",
        "d = 0\n",
        "for i in range(5):\n",
        "  f = int(input(\"Enter a number :\"))\n",
        "  if c == f:\n",
        "    d += 1\n",
        "print(\"Score\", d)  "
      ],
      "metadata": {
        "colab": {
          "base_uri": "https://localhost:8080/"
        },
        "id": "Cc5ZN8-Dme8R",
        "outputId": "8d60e6a7-8663-4477-8c0c-024225b91e2b"
      },
      "execution_count": 21,
      "outputs": [
        {
          "output_type": "stream",
          "name": "stdout",
          "text": [
            "Enter a number :3\n",
            "Enter a number :5\n",
            "Enter a number :7\n",
            "Enter a number :9\n",
            "Enter a number :10\n",
            "Score 1\n"
          ]
        }
      ]
    },
    {
      "cell_type": "code",
      "source": [
        "# 059\n",
        "import random\n",
        "a = [\"red\", \"blue\", \"green\", \"yellow\", \"gray\"]\n",
        "b = random.choice(a)\n",
        "print(a)\n",
        "while b != c:\n",
        "  c = input(\"pick one color :\")\n",
        "  if b != c:\n",
        "    print(f\"I bet you are {b} whit envy\")"
      ],
      "metadata": {
        "colab": {
          "base_uri": "https://localhost:8080/"
        },
        "id": "E9Jl-lOzothQ",
        "outputId": "c8145a17-a216-45f7-c701-cc286d3b38ff"
      },
      "execution_count": 22,
      "outputs": [
        {
          "name": "stdout",
          "output_type": "stream",
          "text": [
            "['red', 'blue', 'green', 'yellow', 'gray']\n",
            "pick one color :green\n",
            "I bet you are red whit envy\n",
            "pick one color :red\n"
          ]
        }
      ]
    }
  ]
}