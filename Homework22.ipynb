{
  "nbformat": 4,
  "nbformat_minor": 0,
  "metadata": {
    "colab": {
      "provenance": [],
      "authorship_tag": "ABX9TyN2k0DW1gRuZ9FjuPKX2ZQI",
      "include_colab_link": true
    },
    "kernelspec": {
      "name": "python3",
      "display_name": "Python 3"
    },
    "language_info": {
      "name": "python"
    }
  },
  "cells": [
    {
      "cell_type": "markdown",
      "metadata": {
        "id": "view-in-github",
        "colab_type": "text"
      },
      "source": [
        "<a href=\"https://colab.research.google.com/github/corydoras15/python-class/blob/main/Homework22.ipynb\" target=\"_parent\"><img src=\"https://colab.research.google.com/assets/colab-badge.svg\" alt=\"Open In Colab\"/></a>"
      ]
    },
    {
      "cell_type": "code",
      "execution_count": 1,
      "metadata": {
        "colab": {
          "base_uri": "https://localhost:8080/"
        },
        "id": "PzCQoo6fpPFT",
        "outputId": "8fec0351-a9f4-4def-95cf-099eebd78f4e"
      },
      "outputs": [
        {
          "output_type": "stream",
          "name": "stdout",
          "text": [
            "('korea', 'brazil', 'ghana', 'poltugal', 'uruguay')\n",
            "\n",
            "Enter a one of countries:korea\n",
            "0\n"
          ]
        }
      ],
      "source": [
        "# 069\n",
        "countries = (\"korea\", \"brazil\", \"ghana\", \"poltugal\", \"uruguay\")\n",
        "print(countries)\n",
        "print()\n",
        "a = input((\"Enter a one of countries:\"))\n",
        "print(countries.index(a))"
      ]
    },
    {
      "cell_type": "code",
      "source": [
        "# 070\n",
        "countries = (\"korea\", \"brazil\", \"ghana\", \"poltugal\", \"uruguay\")\n",
        "print(countries)\n",
        "a = int(input((\"Enter a number:\")))\n",
        "print(countries[a])"
      ],
      "metadata": {
        "colab": {
          "base_uri": "https://localhost:8080/"
        },
        "id": "gWy-s8I1soAl",
        "outputId": "56fe0904-6e23-4aae-b98c-8a1cfae4172d"
      },
      "execution_count": null,
      "outputs": [
        {
          "output_type": "stream",
          "name": "stdout",
          "text": [
            "('korea', 'brazil', 'ghana', 'poltugal', 'uruguay')\n",
            "Enter a number:3\n",
            "poltugal\n"
          ]
        }
      ]
    },
    {
      "cell_type": "code",
      "source": [
        "# 071\n",
        "sports = [\"baseball\",\"tenis\"]\n",
        "a = input(\"What favourite sports :\")\n",
        "sports.append(a)\n",
        "sports.sort()\n",
        "print(sports)"
      ],
      "metadata": {
        "colab": {
          "base_uri": "https://localhost:8080/"
        },
        "id": "aSFaK3MotDL6",
        "outputId": "1f36ac75-cf77-4449-90d1-476f15e5dd59"
      },
      "execution_count": null,
      "outputs": [
        {
          "output_type": "stream",
          "name": "stdout",
          "text": [
            "What favourite sports :football\n",
            "['baseball', 'football', 'tenis']\n"
          ]
        }
      ]
    },
    {
      "cell_type": "code",
      "source": [
        "# 072\n",
        "subjects = [\"국어\", \"영어\", \"수학\", \"사회\", \"과학\", \"미술\"]\n",
        "print(subjects)\n",
        "a = input(\"which of these subjects don't like :\")\n",
        "b = subjects.index(a)\n",
        "del subjects[b]\n",
        "print(subjects)"
      ],
      "metadata": {
        "colab": {
          "base_uri": "https://localhost:8080/"
        },
        "id": "h8C4ItmBv9ZZ",
        "outputId": "8c5add56-a581-46b4-db78-009f0706758e"
      },
      "execution_count": 3,
      "outputs": [
        {
          "output_type": "stream",
          "name": "stdout",
          "text": [
            "['국어', '영어', '수학', '사회', '과학', '미술']\n",
            "which of these subjects don't like :과학\n",
            "['국어', '영어', '수학', '사회', '미술']\n"
          ]
        }
      ]
    },
    {
      "cell_type": "code",
      "source": [
        "# 073\n",
        "food = {}\n",
        "for i in range(1,5):\n",
        " a = input(\"Enter favourite food :\")\n",
        " food[i] = a\n",
        "print(food)\n",
        "b = int(input(\"get rid of number :\"))\n",
        "del food[b]\n",
        "print(sorted(food.values()))"
      ],
      "metadata": {
        "colab": {
          "base_uri": "https://localhost:8080/"
        },
        "id": "6NqkfaKKzwId",
        "outputId": "9536f736-2dda-4410-babb-8d6a1ba3d119"
      },
      "execution_count": 5,
      "outputs": [
        {
          "output_type": "stream",
          "name": "stdout",
          "text": [
            "Enter favourite food :a\n",
            "Enter favourite food :s\n",
            "Enter favourite food :d\n",
            "Enter favourite food :f\n",
            "{1: 'a', 2: 's', 3: 'd', 4: 'f'}\n",
            "get rid of number :3\n",
            "['a', 'f', 's']\n"
          ]
        }
      ]
    },
    {
      "cell_type": "code",
      "source": [
        "# 074\n",
        "colours = [\"빨강\", \"노랑\", \"파랑\", \"초록\", \"주황\", \"보라\", \"분홍\", \"흰색\", \"검은색\", \"회색\"]\n",
        "a = int(input(\"Enter start number between 0 and 4:\"))\n",
        "b = int(input(\"Enter end number between 5 and 9 :\"))\n",
        "print(colours[a:b])"
      ],
      "metadata": {
        "colab": {
          "base_uri": "https://localhost:8080/"
        },
        "id": "zM1fyA_R2nV6",
        "outputId": "71bd9947-5b88-4d98-83d7-5e1a927f157d"
      },
      "execution_count": null,
      "outputs": [
        {
          "output_type": "stream",
          "name": "stdout",
          "text": [
            "Enter start number between 0 and 4:2\n",
            "Enter end number between 5 and 9 :7\n",
            "['파랑', '초록', '주황', '보라', '분홍']\n"
          ]
        }
      ]
    },
    {
      "cell_type": "code",
      "source": [
        "# 075\n",
        "a = [111, 222, 333, 444]\n",
        "for i in a:\n",
        "  print(i)\n",
        "b = int(input(\"Enter three digit number :\"))\n",
        "if b in a:\n",
        "  print(b, \"is in position\", a.index(b))\n",
        "else:\n",
        "  print(\"That is not in the list\")"
      ],
      "metadata": {
        "colab": {
          "base_uri": "https://localhost:8080/"
        },
        "id": "HOn9WXvn484S",
        "outputId": "94002664-7b9d-4b66-d927-3cef83d190fb"
      },
      "execution_count": 7,
      "outputs": [
        {
          "output_type": "stream",
          "name": "stdout",
          "text": [
            "111\n",
            "222\n",
            "333\n",
            "444\n",
            "Enter three digit number :111\n",
            "111 is in position 0\n"
          ]
        }
      ]
    },
    {
      "cell_type": "code",
      "source": [
        "# 076\n",
        "a =[]\n",
        "d = 0\n",
        "for i in range(3):\n",
        "  b = input(\"Enter a name want to invite party :\")\n",
        "  a.append(b)\n",
        "  d += 1\n",
        "while True:\n",
        "  c = input(\"Add more names :\")\n",
        "  a.append(c)\n",
        "  d += 1\n",
        "  if c == \"no\":\n",
        "    print(d-1)\n",
        "    break"
      ],
      "metadata": {
        "colab": {
          "base_uri": "https://localhost:8080/"
        },
        "id": "aMkZyfk67ccl",
        "outputId": "c6349d6d-5ca4-426c-e459-c4cd2de07a27"
      },
      "execution_count": null,
      "outputs": [
        {
          "output_type": "stream",
          "name": "stdout",
          "text": [
            "Enter a name want to invite party :a\n",
            "Enter a name want to invite party :s\n",
            "Enter a name want to invite party :d\n",
            "Add more names :v\n",
            "Add more names :x\n",
            "Add more names :no\n",
            "5\n"
          ]
        }
      ]
    },
    {
      "cell_type": "code",
      "source": [
        "# 076\n",
        "name1 = input(\"Enter a name of somebody you want to invite to your party:\")\n",
        "name2 = input(\"Enter another name:\")\n",
        "name3 = input(\"Enter a third name:\")\n",
        "party = [name1, name2, name3]\n",
        "another = input(\"Do you want invite another (y/n): \")\n",
        "while another == \"y\":\n",
        "  newname = party.append(input(\"Enter another name:\" ))\n",
        "  another = input(\"Do you want invite another (y/n): \")\n",
        "print(\"You have\", len(party), \"people coming to your party\" )"
      ],
      "metadata": {
        "colab": {
          "base_uri": "https://localhost:8080/"
        },
        "id": "jjnAQYHyO0BU",
        "outputId": "aa9e9902-00a0-47bc-8883-f3ba233a8400"
      },
      "execution_count": 8,
      "outputs": [
        {
          "output_type": "stream",
          "name": "stdout",
          "text": [
            "Enter a name of somebody you want to invite to your party:jin\n",
            "Enter another name:nim\n",
            "Enter a third name:gok\n",
            "Do you want invite another (y/n): y\n",
            "Enter another name:byu\n",
            "Do you want invite another (y/n): n\n",
            "You have 4 people coming to your party\n"
          ]
        }
      ]
    },
    {
      "cell_type": "code",
      "source": [
        "# 077\n",
        "a =[]\n",
        "d = 0\n",
        "for i in range(3):\n",
        "  b = input(\"Enter a name want to invite party :\")\n",
        "  a.append(b)\n",
        "  d += 1\n",
        "while True:\n",
        "  c = input(\"Add more names :\")\n",
        "  a.append(c)\n",
        "  d += 1\n",
        "  if c == \"no\":\n",
        "    print(d-1)\n",
        "    a.remove(\"no\")\n",
        "    break\n",
        "print(a)\n",
        "f = input(\"Type in one of the name on the list :\")\n",
        "if f in a:\n",
        "  g = input(\"still wnat that person to come to the party : y/n \")\n",
        "  if g == \"n\":\n",
        "    a.remove(f)\n",
        "    print(a)"
      ],
      "metadata": {
        "colab": {
          "base_uri": "https://localhost:8080/"
        },
        "id": "FfdGPX03-HC8",
        "outputId": "65d9f138-f52f-45ed-cc65-af5acc19b3a3"
      },
      "execution_count": null,
      "outputs": [
        {
          "output_type": "stream",
          "name": "stdout",
          "text": [
            "Enter a name want to invite party :a\n",
            "Enter a name want to invite party :s\n",
            "Enter a name want to invite party :d\n",
            "Add more names :f\n",
            "Add more names :g\n",
            "Add more names :no\n",
            "5\n",
            "['a', 's', 'd', 'f', 'g']\n",
            "Type in one of the name on the list :a\n",
            "still wnat that person to come to the party : y/nn\n",
            "['s', 'd', 'f', 'g']\n"
          ]
        }
      ]
    },
    {
      "cell_type": "code",
      "source": [
        "# 078\n",
        "a = [\"무한도전\", \"런닝맨\", \"아는형님\", \"1박2일\"]\n",
        "for i in a:\n",
        "  print(i)\n",
        "b = input(\"Enter another show : \")\n",
        "c = int(input(\"want it inserted into the list 0 and 4 :\"))\n",
        "a.insert(c,b)\n",
        "for i in a:\n",
        "  print(i)"
      ],
      "metadata": {
        "colab": {
          "base_uri": "https://localhost:8080/"
        },
        "id": "Kabx6WT7CmQT",
        "outputId": "7ac70efd-ed6c-4a19-c8ae-0a29e1842122"
      },
      "execution_count": null,
      "outputs": [
        {
          "output_type": "stream",
          "name": "stdout",
          "text": [
            "무한도전\n",
            "런닝맨\n",
            "아는형님\n",
            "1박2일\n",
            "Enter another show : 개콘\n",
            "want it inserted into the list 0 and 4 :4\n",
            "무한도전\n",
            "런닝맨\n",
            "아는형님\n",
            "1박2일\n",
            "개콘\n"
          ]
        }
      ]
    },
    {
      "cell_type": "code",
      "source": [
        "# 079\n",
        "nums =[]\n",
        "for i in range(3):\n",
        " a = int(input(\"Enter a number : \"))\n",
        " nums.append(a)\n",
        " print(nums)\n",
        "b = input(\"If still want the last number? : yes/no \")\n",
        "if b == \"no\":\n",
        "  nums.pop()\n",
        "  print(nums)\n",
        "else:\n",
        "  print(nums)"
      ],
      "metadata": {
        "colab": {
          "base_uri": "https://localhost:8080/"
        },
        "id": "WS8HUo-RFEuX",
        "outputId": "930dc2fc-f7c2-4e3f-c18e-7a4cac1c8749"
      },
      "execution_count": null,
      "outputs": [
        {
          "output_type": "stream",
          "name": "stdout",
          "text": [
            "Enter a number : 1\n",
            "[1]\n",
            "Enter a number : 2\n",
            "[1, 2]\n",
            "Enter a number : 3\n",
            "[1, 2, 3]\n",
            "If still want the last number? : yes/no no\n",
            "[1, 2]\n"
          ]
        }
      ]
    }
  ]
}