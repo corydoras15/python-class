{
  "nbformat": 4,
  "nbformat_minor": 0,
  "metadata": {
    "colab": {
      "provenance": [],
      "authorship_tag": "ABX9TyM77tzgzqgBdZg3IYzzGAPq",
      "include_colab_link": true
    },
    "kernelspec": {
      "name": "python3",
      "display_name": "Python 3"
    },
    "language_info": {
      "name": "python"
    }
  },
  "cells": [
    {
      "cell_type": "markdown",
      "metadata": {
        "id": "view-in-github",
        "colab_type": "text"
      },
      "source": [
        "<a href=\"https://colab.research.google.com/github/corydoras15/python-class/blob/main/Homework23.ipynb\" target=\"_parent\"><img src=\"https://colab.research.google.com/assets/colab-badge.svg\" alt=\"Open In Colab\"/></a>"
      ]
    },
    {
      "cell_type": "code",
      "execution_count": 9,
      "metadata": {
        "colab": {
          "base_uri": "https://localhost:8080/"
        },
        "id": "Olc9phtUo4L_",
        "outputId": "4c636963-8824-48ae-f776-40052dd5519e"
      },
      "outputs": [
        {
          "output_type": "stream",
          "name": "stdout",
          "text": [
            "Enter yuor frist name: jinseok\n",
            "7\n",
            "Enter your surname: park\n",
            "4\n",
            "jinseok park\n",
            "12\n"
          ]
        }
      ],
      "source": [
        "# 080\n",
        "a = input(\"Enter yuor frist name: \")\n",
        "print(len(a))\n",
        "b = input(\"Enter your surname: \")\n",
        "print(len(b))\n",
        "c = (a + \" \" + b)\n",
        "print(c)\n",
        "print(len(c))"
      ]
    },
    {
      "cell_type": "code",
      "source": [
        "# 081\n",
        "a = input(\"Type favourite school subjent: \")\n",
        "for i in a:\n",
        "  print(i, end=\"-\")"
      ],
      "metadata": {
        "colab": {
          "base_uri": "https://localhost:8080/"
        },
        "id": "mrUb2OPirgMX",
        "outputId": "e3cb4b9a-e29f-4a7d-94ca-46755ecdd034"
      },
      "execution_count": 10,
      "outputs": [
        {
          "output_type": "stream",
          "name": "stdout",
          "text": [
            "Type favourite school subjent: english\n",
            "e-n-g-l-i-s-h-"
          ]
        }
      ]
    },
    {
      "cell_type": "code",
      "source": [
        "# 082\n",
        "a = (\"가야 할 때가 언제인가를 분명히 알고 가는 이의 뒷모습은 얼마나 아름다운가\")\n",
        "print(a)\n",
        "b = int(input(\"Enter a strating point: \"))\n",
        "c = int(input(\"Enter a ending point: \"))\n",
        "print(a[b:c])"
      ],
      "metadata": {
        "colab": {
          "base_uri": "https://localhost:8080/"
        },
        "id": "jgMwa6hqsVWU",
        "outputId": "5ff2c9d5-6f66-403b-f78d-cf9833be244c"
      },
      "execution_count": 14,
      "outputs": [
        {
          "output_type": "stream",
          "name": "stdout",
          "text": [
            "가야 할 때가 언제인가를 분명히 알고 가는 이의 뒷모습은 얼마나 아름다운가\n",
            "Enter a strating point: 6\n",
            "Enter a ending point: 30\n",
            "가 언제인가를 분명히 알고 가는 이의 뒷모습\n"
          ]
        }
      ]
    },
    {
      "cell_type": "code",
      "source": [
        "# 083\n",
        "while True:\n",
        " a = input(\"Type in a word in upper case: \")\n",
        " b = a.isupper()\n",
        " if b == True:\n",
        "   break"
      ],
      "metadata": {
        "colab": {
          "base_uri": "https://localhost:8080/"
        },
        "id": "mdukUnNJuyze",
        "outputId": "1c08e5d3-8235-4cfa-d23d-7093be1ff78f"
      },
      "execution_count": 22,
      "outputs": [
        {
          "name": "stdout",
          "output_type": "stream",
          "text": [
            "Type in a word in upper case: case\n",
            "Type in a word in upper case: Case\n",
            "Type in a word in upper case: CASE\n"
          ]
        }
      ]
    },
    {
      "cell_type": "code",
      "source": [
        "# 084\n",
        "a = input(\"Type your pastcode: \")\n",
        "b = a[:2]\n",
        "c = a[2:]\n",
        "print(b.upper()+c)"
      ],
      "metadata": {
        "colab": {
          "base_uri": "https://localhost:8080/"
        },
        "id": "rnHgAU-4w7Xg",
        "outputId": "ab633fb1-7a08-4fcd-a5cd-276eb70c9c20"
      },
      "execution_count": 31,
      "outputs": [
        {
          "output_type": "stream",
          "name": "stdout",
          "text": [
            "Type your pastcode: seoul 4983\n",
            "SEoul 4983\n"
          ]
        }
      ]
    },
    {
      "cell_type": "code",
      "source": [
        "# 085\n",
        "a = input(\"Type your name: \")\n",
        "b = 0\n",
        "for i in a:\n",
        "  if i in [\"a\", \"e\", \"i\", \"o\", \"u\"]:\n",
        "    b += 1\n",
        "print(\"How many vowels are in your name: \", b)"
      ],
      "metadata": {
        "colab": {
          "base_uri": "https://localhost:8080/"
        },
        "id": "ILPpAMX70peg",
        "outputId": "30749f24-f878-479a-c9d0-5f62ca5dda6d"
      },
      "execution_count": 33,
      "outputs": [
        {
          "output_type": "stream",
          "name": "stdout",
          "text": [
            "Type your name: jinseok\n",
            "How many vowels are in your name:  3\n"
          ]
        }
      ]
    },
    {
      "cell_type": "code",
      "source": [
        "# 086\n",
        "a = input(\"Enter a new password: \")\n",
        "b = input(\"Enter a new password again: \")\n",
        "if a == b:\n",
        "  print(\"Thank you\")\n",
        "elif a == b.lower() or a == b.upper():\n",
        "  print(\"They must be in the same case\")\n",
        "else:\n",
        "  print(\"incorrect\")"
      ],
      "metadata": {
        "colab": {
          "base_uri": "https://localhost:8080/"
        },
        "id": "lKhhIBfY1yxh",
        "outputId": "2cb2a40d-f5e8-45ad-af91-f8a9d3415e24"
      },
      "execution_count": 37,
      "outputs": [
        {
          "output_type": "stream",
          "name": "stdout",
          "text": [
            "Enter a new password: qwert\n",
            "Enter a new password again: qwerty\n",
            "incorrect\n"
          ]
        }
      ]
    },
    {
      "cell_type": "code",
      "source": [
        "# 087\n",
        "a = input(\"Enter a word: \")\n",
        "for i in a[::-1]:\n",
        "  print(i)"
      ],
      "metadata": {
        "colab": {
          "base_uri": "https://localhost:8080/"
        },
        "id": "w0S4qJWx44Ly",
        "outputId": "62a134a0-c29d-4e78-e98a-2d0830e2e45c"
      },
      "execution_count": 45,
      "outputs": [
        {
          "output_type": "stream",
          "name": "stdout",
          "text": [
            "Enter a word: hello\n",
            "o\n",
            "l\n",
            "l\n",
            "e\n",
            "h\n"
          ]
        }
      ]
    }
  ]
}