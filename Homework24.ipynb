{
  "nbformat": 4,
  "nbformat_minor": 0,
  "metadata": {
    "colab": {
      "provenance": [],
      "authorship_tag": "ABX9TyO9qbFn5ilzy92LkFFVQhqZ",
      "include_colab_link": true
    },
    "kernelspec": {
      "name": "python3",
      "display_name": "Python 3"
    },
    "language_info": {
      "name": "python"
    }
  },
  "cells": [
    {
      "cell_type": "markdown",
      "metadata": {
        "id": "view-in-github",
        "colab_type": "text"
      },
      "source": [
        "<a href=\"https://colab.research.google.com/github/corydoras15/python-class/blob/main/Homework24.ipynb\" target=\"_parent\"><img src=\"https://colab.research.google.com/assets/colab-badge.svg\" alt=\"Open In Colab\"/></a>"
      ]
    },
    {
      "cell_type": "code",
      "execution_count": 4,
      "metadata": {
        "colab": {
          "base_uri": "https://localhost:8080/"
        },
        "id": "pIPIQFsDjPwF",
        "outputId": "d650e0b2-4529-459e-8a22-864efadf4c29"
      },
      "outputs": [
        {
          "output_type": "stream",
          "name": "stdout",
          "text": [
            "Enter a number: 2\n",
            "Enter a number: 5\n",
            "Enter a number: 8\n",
            "Enter a number: 9\n",
            "Enter a number: 6\n",
            "[9, 8, 6, 5, 2]\n"
          ]
        }
      ],
      "source": [
        "# 088\n",
        "from array import *\n",
        "b = array(\"i\",[])\n",
        "for i in range(5):\n",
        " a = int(input(\"Enter a number: \"))\n",
        " b.append(a)\n",
        " c = sorted(b)\n",
        "c.reverse()\n",
        "print(c)"
      ]
    },
    {
      "cell_type": "code",
      "source": [
        "# 089\n",
        "from array import *\n",
        "import random\n",
        "b = array(\"i\",[])\n",
        "for i in range(5):\n",
        " a = random.randint(1,9)\n",
        " b.append(a)\n",
        "for j in b:\n",
        " print(j)"
      ],
      "metadata": {
        "colab": {
          "base_uri": "https://localhost:8080/"
        },
        "id": "rKCap7xTlfzx",
        "outputId": "c07c3f7d-205a-4f10-a7c7-7b8b510281be"
      },
      "execution_count": 10,
      "outputs": [
        {
          "output_type": "stream",
          "name": "stdout",
          "text": [
            "6\n",
            "9\n",
            "2\n",
            "6\n",
            "7\n"
          ]
        }
      ]
    },
    {
      "cell_type": "code",
      "source": [
        "# 090\n",
        "from array import *\n",
        "b = array(\"i\",[])\n",
        "while len(b) != 5:\n",
        " a = int(input(\"Enter a number: \"))\n",
        " if a >= 10 and a <=20:\n",
        "  b.append(a)\n",
        " else:\n",
        "  print(\"Outside the range\")\n",
        "print(\"Thank you\")\n",
        "for i in b:\n",
        " print(i)"
      ],
      "metadata": {
        "colab": {
          "base_uri": "https://localhost:8080/"
        },
        "id": "YLAxmeaMmldZ",
        "outputId": "dabd2ecd-bf18-4e40-e5f6-28711ae48941"
      },
      "execution_count": 11,
      "outputs": [
        {
          "output_type": "stream",
          "name": "stdout",
          "text": [
            "Enter a number: 2\n",
            "Outside the range\n",
            "Enter a number: 10\n",
            "Enter a number: 12\n",
            "Enter a number: 15\n",
            "Enter a number: 17\n",
            "Enter a number: 19\n",
            "Thank you\n",
            "10\n",
            "12\n",
            "15\n",
            "17\n",
            "19\n"
          ]
        }
      ]
    },
    {
      "cell_type": "code",
      "source": [
        "# 091\n",
        "from array import *\n",
        "a = array(\"i\", [1, 2, 2, 3, 3])\n",
        "print(a)\n",
        "b = int(input(\"Enter one of the number from the array: \"))\n",
        "print(\"How many times that number appears in the list \", a.count(b))"
      ],
      "metadata": {
        "colab": {
          "base_uri": "https://localhost:8080/"
        },
        "id": "dKllx8orolkN",
        "outputId": "e7f91a3f-bef0-4614-f7b1-cfc638ef3c4c"
      },
      "execution_count": 12,
      "outputs": [
        {
          "output_type": "stream",
          "name": "stdout",
          "text": [
            "array('i', [1, 2, 2, 3, 3])\n",
            "Enter one of the number from the array: 2\n",
            "How many times that number appears in the list  2\n"
          ]
        }
      ]
    },
    {
      "cell_type": "code",
      "source": [
        "# 092\n",
        "from array import *\n",
        "import random\n",
        "c = []\n",
        "for i in range(5):\n",
        " a = random.randint(1, 9)\n",
        " c.append(a)\n",
        "for i in range(3):\n",
        " b = int(input(\"Enter a number: \"))\n",
        " c.append(b)\n",
        "c.sort()\n",
        "for i in c:\n",
        " print(i)"
      ],
      "metadata": {
        "colab": {
          "base_uri": "https://localhost:8080/"
        },
        "id": "mta6F2snrZq7",
        "outputId": "debcc66c-d1c6-4910-ff7c-ae5dc85f4eea"
      },
      "execution_count": null,
      "outputs": [
        {
          "output_type": "stream",
          "name": "stdout",
          "text": [
            "Enter a number: 2\n",
            "Enter a number: 3\n",
            "Enter a number: 4\n",
            "2\n",
            "3\n",
            "4\n",
            "4\n",
            "6\n",
            "7\n",
            "8\n",
            "8\n"
          ]
        }
      ]
    },
    {
      "cell_type": "code",
      "source": [
        "# 093\n",
        "from array import *\n",
        "b = array(\"i\",[])\n",
        "for i in range(5):\n",
        " a = int(input(\"Enter a number: \"))\n",
        " b.append(a)\n",
        "c = sorted(b)\n",
        "print(c)\n",
        "d = int(input(\"Select one of the number: \"))\n",
        "c.remove(d)\n",
        "print(c)"
      ],
      "metadata": {
        "colab": {
          "base_uri": "https://localhost:8080/"
        },
        "id": "2PKa8HEfvM_D",
        "outputId": "4d448544-877b-4975-a791-69d87e6a549c"
      },
      "execution_count": 15,
      "outputs": [
        {
          "output_type": "stream",
          "name": "stdout",
          "text": [
            "Enter a number: 3\n",
            "Enter a number: 7\n",
            "Enter a number: 9\n",
            "Enter a number: 5\n",
            "Enter a number: 1\n",
            "[1, 3, 5, 7, 9]\n",
            "Select one of the number: 5\n",
            "[1, 3, 7, 9]\n"
          ]
        }
      ]
    },
    {
      "cell_type": "code",
      "source": [
        "# 094\n",
        "from array import *\n",
        "a = array('i',[2, 3, 4, 6, 9])\n",
        "print(a)\n",
        "while True:\n",
        " b = int(input(\"Selcet one of the number: \"))\n",
        " if b in a:\n",
        "  print(a.index(b))\n",
        "  break"
      ],
      "metadata": {
        "colab": {
          "base_uri": "https://localhost:8080/"
        },
        "id": "Y7PwFGXuwpu3",
        "outputId": "e6fb2429-f257-4226-bcef-9f68f0e2c687"
      },
      "execution_count": 16,
      "outputs": [
        {
          "output_type": "stream",
          "name": "stdout",
          "text": [
            "array('i', [2, 3, 4, 6, 9])\n",
            "Selcet one of the number: 4\n",
            "2\n"
          ]
        }
      ]
    },
    {
      "cell_type": "code",
      "source": [
        "# 095\n",
        "from array import *\n",
        "a = array('f',[11.11, 22.22, 33.33, 44.44, 55.55])\n",
        "b = int(input(\"Enter a number between 2 and 5: \"))\n",
        "while b < 2 or b > 5 :\n",
        "  print(\"you entered number outside of range, please try again.\")\n",
        "  b = int(input(\"enter a whole number between 2 and 5:  \"))\n",
        "for i in range(len(a)) :\n",
        "  d = a[i]/b\n",
        "  print(round(d,2))"
      ],
      "metadata": {
        "colab": {
          "base_uri": "https://localhost:8080/"
        },
        "id": "5FZPvIvuzARq",
        "outputId": "e0c43cec-192f-4afa-d936-3514dc7b2c57"
      },
      "execution_count": 14,
      "outputs": [
        {
          "output_type": "stream",
          "name": "stdout",
          "text": [
            "Enter a number between 2 and 5: 3\n",
            "3.7\n",
            "7.41\n",
            "11.11\n",
            "14.81\n",
            "18.52\n"
          ]
        }
      ]
    }
  ]
}