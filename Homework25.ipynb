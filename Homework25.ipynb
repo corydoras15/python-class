{
  "nbformat": 4,
  "nbformat_minor": 0,
  "metadata": {
    "colab": {
      "provenance": [],
      "authorship_tag": "ABX9TyOTHcQjJiynamjG6ntye7Re",
      "include_colab_link": true
    },
    "kernelspec": {
      "name": "python3",
      "display_name": "Python 3"
    },
    "language_info": {
      "name": "python"
    }
  },
  "cells": [
    {
      "cell_type": "markdown",
      "metadata": {
        "id": "view-in-github",
        "colab_type": "text"
      },
      "source": [
        "<a href=\"https://colab.research.google.com/github/corydoras15/python-class/blob/main/Homework25.ipynb\" target=\"_parent\"><img src=\"https://colab.research.google.com/assets/colab-badge.svg\" alt=\"Open In Colab\"/></a>"
      ]
    },
    {
      "cell_type": "code",
      "execution_count": 2,
      "metadata": {
        "colab": {
          "base_uri": "https://localhost:8080/"
        },
        "id": "npfNSoXrUm9T",
        "outputId": "890745b6-bc96-46e6-de70-5cee98e96429"
      },
      "outputs": [
        {
          "output_type": "stream",
          "name": "stdout",
          "text": [
            "[[2, 5, 8], [3, 7, 4], [1, 6, 9], [4, 2, 0]]\n"
          ]
        }
      ],
      "source": [
        "# 096\n",
        "a = [[2, 5, 8], [3, 7, 4], [1, 6, 9], [4, 2, 0]]\n",
        "print(a)"
      ]
    },
    {
      "cell_type": "code",
      "source": [
        "# 097\n",
        "a = [[2, 5, 8], [3, 7, 4], [1, 6, 9], [4, 2, 0]]\n",
        "print(a[2][2])"
      ],
      "metadata": {
        "colab": {
          "base_uri": "https://localhost:8080/"
        },
        "id": "wEoRmjBBVFR6",
        "outputId": "3d4d392b-4ed6-456e-fd24-243ba01c6bfe"
      },
      "execution_count": 1,
      "outputs": [
        {
          "output_type": "stream",
          "name": "stdout",
          "text": [
            "9\n"
          ]
        }
      ]
    },
    {
      "cell_type": "code",
      "source": [
        "# 098\n",
        "a = [[2, 5, 8], [3, 7, 4], [1, 6, 9], [4, 2, 0]]\n",
        "b = int(input(\"Which row they would like displayed: \"))\n",
        "print(a[b])\n",
        "c = int(input(\"Enter a new value: \"))\n",
        "a[b].append(c)\n",
        "print(a[b])"
      ],
      "metadata": {
        "colab": {
          "base_uri": "https://localhost:8080/"
        },
        "id": "ZDmMedD4VnI9",
        "outputId": "4f136632-5343-4051-c739-58bce5064540"
      },
      "execution_count": 3,
      "outputs": [
        {
          "output_type": "stream",
          "name": "stdout",
          "text": [
            "Which row they would like displayed: 1\n",
            "[3, 7, 4]\n",
            "Enter a new value: 5\n",
            "[3, 7, 4, 5]\n"
          ]
        }
      ]
    },
    {
      "cell_type": "code",
      "source": [
        "# 099\n",
        "a = [[2, 5, 8], [3, 7, 4], [1, 6, 9], [4, 2, 0]]\n",
        "b = int(input(\"Which row they would like displayed: \"))\n",
        "print(a[b])\n",
        "c = int(input(\"Which column in that row want displayed: \"))\n",
        "print(a[b][c])\n",
        "d = input(\"If you wnat to change the value: y/n \")\n",
        "if d == \"y\":\n",
        "  e = int(input(\"Enter s new value: \"))\n",
        "  a[b][c] = e\n",
        "print(a[b])"
      ],
      "metadata": {
        "colab": {
          "base_uri": "https://localhost:8080/"
        },
        "id": "Sl66Rs-nW-kJ",
        "outputId": "9fa1bba4-32f3-4211-9f2a-8b6f92605e2e"
      },
      "execution_count": 4,
      "outputs": [
        {
          "output_type": "stream",
          "name": "stdout",
          "text": [
            "Which row they would like displayed: 1\n",
            "[3, 7, 4]\n",
            "Which column in that row want displayed: 1\n",
            "7\n",
            "If you wnat to change the value: y/n y\n",
            "Enter s new value: 5\n",
            "[3, 5, 4]\n"
          ]
        }
      ]
    },
    {
      "cell_type": "code",
      "source": [
        "# 100\n",
        "a = {\"john\":{\"N\":3056, \"S\":8463, \"E\":8441, \"W\":2694}, \"Tom\":{\"N\":4832, \"S\":6786, \"E\":4737, \"W\":3612}, \"Anne\":{\"N\":5239, \"S\":4802, \"E\":5820, \"W\":1859}, \"Fiona\":{\"N\":3904, \"S\":3645, \"E\":8821, \"W\":2451}}\n",
        "print(a)"
      ],
      "metadata": {
        "colab": {
          "base_uri": "https://localhost:8080/"
        },
        "id": "UqXLtL4naFjr",
        "outputId": "07e0bb6f-f0d2-40f3-cc3c-e3d5e428dde0"
      },
      "execution_count": 6,
      "outputs": [
        {
          "output_type": "stream",
          "name": "stdout",
          "text": [
            "{'john': {'N': 3056, 'S': 8463, 'E': 8441, 'W': 2694}, 'Tom': {'N': 4832, 'S': 6786, 'E': 4737, 'W': 3612}, 'Anne': {'N': 5239, 'S': 4802, 'E': 5820, 'W': 1859}, 'Fiona': {'N': 3904, 'S': 3645, 'E': 8821, 'W': 2451}}\n"
          ]
        }
      ]
    },
    {
      "cell_type": "code",
      "source": [
        "# 101\n",
        "a = {\"john\":{\"N\":3056, \"S\":8463, \"E\":8441, \"W\":2694}, \"Tom\":{\"N\":4832, \"S\":6786, \"E\":4737, \"W\":3612}, \"Anne\":{\"N\":5239, \"S\":4802, \"E\":5820, \"W\":1859}, \"Fiona\":{\"N\":3904, \"S\":3645, \"E\":8821, \"W\":2451}}\n",
        "b = str(input(\"Enter a name: \"))\n",
        "c = str(input(\"Enter a region: \"))\n",
        "print(a[b][c])\n",
        "d = input(\"You wnat change the data: y/n \")\n",
        "if d == \"y\":\n",
        "  e = int(input(\"Enter data: \"))\n",
        "  a[b][c] = e\n",
        "print(a[b])"
      ],
      "metadata": {
        "colab": {
          "base_uri": "https://localhost:8080/"
        },
        "id": "axg0NecBclfY",
        "outputId": "2b2d403e-d400-4045-addb-d20dfd7544cd"
      },
      "execution_count": 13,
      "outputs": [
        {
          "output_type": "stream",
          "name": "stdout",
          "text": [
            "Enter a name: john\n",
            "Enter a region: N\n",
            "3056\n",
            "You wnat change the data: y/n n\n",
            "{'N': 3056, 'S': 8463, 'E': 8441, 'W': 2694}\n"
          ]
        }
      ]
    },
    {
      "cell_type": "code",
      "source": [
        "# 102\n",
        "name = []\n",
        "d = {}\n",
        "for i in range(4):\n",
        " a = input(\"Enter the name: \")\n",
        " name.append(a)\n",
        " b = input(\"Enter a age: \")\n",
        " c = input(\"Enter a shoe size: \")\n",
        " d[a] = (b,c)\n",
        "print(name)\n",
        "e = str(input(\"Enter the name of one of the people in the list: \"))\n",
        "print(d[e])"
      ],
      "metadata": {
        "colab": {
          "base_uri": "https://localhost:8080/"
        },
        "id": "Xpua053NiIF0",
        "outputId": "c41b3a01-63c3-4a93-e563-a16e0293c569"
      },
      "execution_count": 30,
      "outputs": [
        {
          "output_type": "stream",
          "name": "stdout",
          "text": [
            "name: ji\n",
            "age: 33\n",
            "shoe size: 20\n",
            "name: im\n",
            "age: 43\n",
            "shoe size: 22\n",
            "['ji', 'im']\n",
            "name: ji\n",
            "('33', '20')\n"
          ]
        }
      ]
    },
    {
      "cell_type": "code",
      "source": [
        "# 103\n",
        "name = []\n",
        "d = {}\n",
        "for i in range(4):\n",
        " a = input(\"Enter the name: \")\n",
        " name.append(a)\n",
        " b = input(\"Enter a age: \")\n",
        " c = input(\"Enter a shoe size: \")\n",
        " d[a] = (b,c)\n",
        "print(name)\n",
        "e = str(input(\"Enter the name of one of the people in the list: \"))\n",
        "print(d[e][0])"
      ],
      "metadata": {
        "colab": {
          "base_uri": "https://localhost:8080/"
        },
        "id": "PQzQdFZTtfIP",
        "outputId": "616c5216-f295-4ae9-b409-1d440eb09961"
      },
      "execution_count": 31,
      "outputs": [
        {
          "output_type": "stream",
          "name": "stdout",
          "text": [
            "name: jin\n",
            "age: 22\n",
            "shoe size: 170\n",
            "['jin']\n",
            "name: jin\n",
            "22\n"
          ]
        }
      ]
    },
    {
      "cell_type": "code",
      "source": [
        "# 104\n",
        "name = []\n",
        "d = {}\n",
        "for i in range(4):\n",
        " a = input(\"Enter the name: \")\n",
        " name.append(a)\n",
        " b = input(\"Enter a age: \")\n",
        " c = input(\"Enter a shoe size: \")\n",
        " d[a] = (b,c)\n",
        "print(name)\n",
        "e = str(input(\"Enter the name of the person you want to remove: \"))\n",
        "del d[e]\n",
        "for i in d:\n",
        "  print(i)"
      ],
      "metadata": {
        "colab": {
          "base_uri": "https://localhost:8080/"
        },
        "id": "MnbwZjD0uEvo",
        "outputId": "75524d70-d005-4e29-c379-d0e8db8d5cf2"
      },
      "execution_count": 33,
      "outputs": [
        {
          "output_type": "stream",
          "name": "stdout",
          "text": [
            "name: jin\n",
            "age: 22\n",
            "shoe size: 12\n",
            "name: min\n",
            "age: 22\n",
            "shoe size: 13\n",
            "name: dom\n",
            "age: 33\n",
            "shoe size: 145\n",
            "['jin', 'min', 'dom']\n",
            "name: jin\n",
            "min\n",
            "dom\n"
          ]
        }
      ]
    }
  ]
}