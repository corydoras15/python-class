{
  "nbformat": 4,
  "nbformat_minor": 0,
  "metadata": {
    "colab": {
      "provenance": [],
      "authorship_tag": "ABX9TyOQpOzMqGt7e4mptBu2YB2B",
      "include_colab_link": true
    },
    "kernelspec": {
      "name": "python3",
      "display_name": "Python 3"
    },
    "language_info": {
      "name": "python"
    }
  },
  "cells": [
    {
      "cell_type": "markdown",
      "metadata": {
        "id": "view-in-github",
        "colab_type": "text"
      },
      "source": [
        "<a href=\"https://colab.research.google.com/github/corydoras15/python-class/blob/main/Homework26.ipynb\" target=\"_parent\"><img src=\"https://colab.research.google.com/assets/colab-badge.svg\" alt=\"Open In Colab\"/></a>"
      ]
    },
    {
      "cell_type": "code",
      "execution_count": 9,
      "metadata": {
        "colab": {
          "base_uri": "https://localhost:8080/"
        },
        "id": "CSurZ8SoJD0c",
        "outputId": "715541ae-9451-4152-9ccb-0bccec662719"
      },
      "outputs": [
        {
          "output_type": "stream",
          "name": "stdout",
          "text": [
            "1) Make a code \n",
            "2) Decode a message \n",
            "3) Quit \n",
            "\n",
            "Enter your selection: : 2\n",
            "Type the message: 2\n",
            "Enter a number: 2\n",
            "1) Make a code \n",
            "2) Decode a message \n",
            "3) Quit \n",
            "\n",
            "Enter your selection: : 3\n",
            "Bye\n"
          ]
        }
      ],
      "source": [
        "# 메뉴\n",
        "while True:\n",
        " selection = int(input(\"1) Make a code \\n2) Decode a message \\n3) Quit \\n\\nEnter your selection: : \"))\n",
        " if selection == 1:\n",
        "   input(\"Type the message: \")\n",
        "   input(\"Enter a number: \\n\")\n",
        "   \n",
        " elif selection == 2:\n",
        "   input(\"Type the message: \")\n",
        "   input(\"Enter a number: \\n\")\n",
        " elif selection == 3:\n",
        "   print(\"Bye\")\n",
        "   break\n",
        " else:\n",
        "   print(\"\\nEnter a number between 1 and 3\\n\")"
      ]
    },
    {
      "cell_type": "code",
      "source": [
        "# 문자 분리\n",
        " a = input(\"Enter: \")\n",
        " b = \" \".join(a)\n",
        " c = b.split()\n",
        " print(c)"
      ],
      "metadata": {
        "id": "96M7KWpLSxjI"
      },
      "execution_count": 42,
      "outputs": []
    },
    {
      "cell_type": "code",
      "source": [
        "# 숫자 변환\n",
        "d = []\n",
        "b = []\n",
        "c = [\"a\", \"b\"]\n",
        "all = ['a', 'b', 'c', 'd']\n",
        "for i in c:\n",
        " a = all.index(i) + 5\n",
        " if a > 3:\n",
        "    e = a - 3\n",
        "    b.append(e)\n",
        "    print(b)\n",
        " else:\n",
        "  b.append(a)\n",
        "for j in b:\n",
        " d.append(all[j])\n",
        "print(d[:len(d)])"
      ],
      "metadata": {
        "colab": {
          "base_uri": "https://localhost:8080/"
        },
        "id": "74TgbOLJWfsh",
        "outputId": "68f1e8b0-1aa0-4673-f125-1b1de1f21792"
      },
      "execution_count": 10,
      "outputs": [
        {
          "output_type": "stream",
          "name": "stdout",
          "text": [
            "[2]\n",
            "[2, 3]\n",
            "['c', 'd']\n"
          ]
        }
      ]
    },
    {
      "cell_type": "code",
      "source": [
        "change2 = []\n",
        "change3 = []\n",
        "dechange2 = []\n",
        "dechange3 = []\n",
        "all = [\"a\",\"b\",\"c\",\"d\",\"e\",\"f\",\"g\",\"h\",\"i\",\"j\",\"k\",\"l\",\"m\",\"n\",\"o\",\"p\",\"q\",\"r\",\"s\",\"t\",\"u\",\"v\",\"w\",\"x\",\"y\",\"z\"]\n",
        "while True:\n",
        " selection = input(\"\\n1) Make a code \\n2) Decode a message \\n3) Quit \\n\\nEnter your selection: : \")\n",
        " \n",
        " if selection == \"1\":\n",
        "   code = input(\"Type the message: \")\n",
        "   code1 = code.lower()\n",
        "   code2 = \" \".join(code1)\n",
        "   code3 = code2.split()\n",
        "   num = int(input(\"Enter a number: \"))\n",
        "   for i in code3:\n",
        "     change = all.index(i) + num\n",
        "     if change > 26:\n",
        "        change4 = (change - 27)\n",
        "        change2.append(change4)\n",
        "     elif change == 26:\n",
        "        change = 0\n",
        "        change2.append(change)\n",
        "     else:   \n",
        "        change2.append(change)\n",
        "   for j in change2:\n",
        "     change3.append(all[j])\n",
        "   print(change3)\n",
        "   del change2[:]\n",
        "   del change3[:]\n",
        " \n",
        " elif selection == \"2\":\n",
        "   decode = input(\"Type the message: \")\n",
        "   decode1 = decode.lower()\n",
        "   decode2 = \" \".join(decode1)\n",
        "   decode3 = decode2.split()\n",
        "   denum = int(input(\"Enter a number: \"))\n",
        "   for i in decode3:\n",
        "     dechange = all.index(i) - denum\n",
        "     if dechange < 0:\n",
        "        dechange4 = (dechange + 27)\n",
        "        dechange2.append(dechange4)\n",
        "     else:   \n",
        "        dechange2.append(dechange)\n",
        "   for j in dechange2:\n",
        "     dechange3.append(all[j])\n",
        "   print(dechange3) \n",
        "   del dechange2[:]\n",
        "   del dechange3[:]\n",
        " \n",
        " elif selection == \"3\":\n",
        "   print(\"Bye\")\n",
        "   break\n",
        " else:\n",
        "   print(\"\\nEnter a number between 1 and 3\\n\")"
      ],
      "metadata": {
        "colab": {
          "base_uri": "https://localhost:8080/"
        },
        "id": "4bcanmvBWqEi",
        "outputId": "59e7ac29-5b0a-4df8-9d32-0581a99dcd71"
      },
      "execution_count": 64,
      "outputs": [
        {
          "output_type": "stream",
          "name": "stdout",
          "text": [
            "\n",
            "1) Make a code \n",
            "2) Decode a message \n",
            "3) Quit \n",
            "\n",
            "Enter your selection: : h\n",
            "\n",
            "Enter a number between 1 and 3\n",
            "\n",
            "\n",
            "1) Make a code \n",
            "2) Decode a message \n",
            "3) Quit \n",
            "\n",
            "Enter your selection: : 4\n",
            "\n",
            "Enter a number between 1 and 3\n",
            "\n",
            "\n",
            "1) Make a code \n",
            "2) Decode a message \n",
            "3) Quit \n",
            "\n",
            "Enter your selection: : 1\n",
            "Type the message: dfghjk\n",
            "Enter a number: 5\n",
            "['i', 'k', 'l', 'm', 'o', 'p']\n",
            "\n",
            "1) Make a code \n",
            "2) Decode a message \n",
            "3) Quit \n",
            "\n",
            "Enter your selection: : 1\n",
            "Type the message: wsx\n",
            "Enter a number: 1\n",
            "['x', 't', 'y']\n",
            "\n",
            "1) Make a code \n",
            "2) Decode a message \n",
            "3) Quit \n",
            "\n",
            "Enter your selection: : 3\n",
            "Bye\n"
          ]
        }
      ]
    }
  ]
}