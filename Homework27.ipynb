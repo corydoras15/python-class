{
  "nbformat": 4,
  "nbformat_minor": 0,
  "metadata": {
    "colab": {
      "provenance": [],
      "authorship_tag": "ABX9TyMc1BHY4RrwrxMtxUfde+nU",
      "include_colab_link": true
    },
    "kernelspec": {
      "name": "python3",
      "display_name": "Python 3"
    },
    "language_info": {
      "name": "python"
    }
  },
  "cells": [
    {
      "cell_type": "markdown",
      "metadata": {
        "id": "view-in-github",
        "colab_type": "text"
      },
      "source": [
        "<a href=\"https://colab.research.google.com/github/corydoras15/python-class/blob/main/Homework27.ipynb\" target=\"_parent\"><img src=\"https://colab.research.google.com/assets/colab-badge.svg\" alt=\"Open In Colab\"/></a>"
      ]
    },
    {
      "cell_type": "code",
      "execution_count": 85,
      "metadata": {
        "colab": {
          "base_uri": "https://localhost:8080/"
        },
        "id": "8TVubHdWhpjW",
        "outputId": "f083b195-ed70-4e3a-a7b5-466f5de12fa2"
      },
      "outputs": [
        {
          "output_type": "stream",
          "name": "stdout",
          "text": [
            "    순위                             영화    평점\n",
            "0    1                        탑건: 매버릭  9.76\n",
            "1    2                            올빼미  9.38\n",
            "2    3  극장판 짱구는 못말려: 수수께끼! 꽃피는 천하떡잎학교  9.31\n",
            "3    4                    바람과 함께 사라지다  9.25\n",
            "4    5                     극장판 주술회전 0  9.23\n",
            "5    6                             벤허  9.23\n",
            "6    7                       인생은 아름다워  9.22\n",
            "7    8                       너에게 가는 길  9.19\n",
            "8    9                         어바웃 타임  9.18\n",
            "9   10                             귀향  9.16\n",
            "10  11                           러브레터  9.13\n",
            "11  12                             코다  9.13\n",
            "12  13                        오즈의 마법사  9.11\n",
            "13  14                             탄생  9.09\n",
            "14  15                         비긴 어게인  9.04\n",
            "15  16                    타오르는 여인의 초상  9.03\n",
            "16  17                           보디가드  9.01\n",
            "17  18                           윤희에게  8.95\n",
            "18  19                              시  8.95\n",
            "19  20                        러브 액츄얼리  8.92\n",
            "20  21                   매드맥스: 분노의 도로  8.81\n",
            "21  22                        너의 이름은.  8.81\n",
            "22  23                     찬실이는 복도 많지  8.77\n",
            "23  24                      한산: 용의 출현  8.75\n",
            "24  25                             벌새  8.74\n",
            "25  26       오늘 밤, 세계에서 이 사랑이 사라진다 해도  8.72\n",
            "26  27                         헤어질 결심  8.68\n",
            "27  28                           라라랜드  8.62\n",
            "28  29                             캐롤  8.61\n",
            "29  30                             명량  8.44\n",
            "30  31                             자백  8.39\n",
            "31  32                   너의 췌장을 먹고 싶어  8.38\n",
            "32  33                        초속5센티미터  8.36\n",
            "33  34                       폴: 600미터  8.35\n",
            "34  35                           모가디슈  8.34\n",
            "35  36                           그래비티  8.31\n",
            "36  37                         본즈 앤 올  8.31\n",
            "37  38              에브리씽 에브리웨어 올 앳 원스  8.30\n",
            "38  39                         우연과 상상  8.14\n",
            "39  40                   너의 췌장을 먹고 싶어  8.12\n",
            "40  41                    릴리 슈슈의 모든 것  8.11\n",
            "41  42                         날씨의 아이  7.97\n",
            "42  43                      하우스 오브 구찌  7.89\n",
            "43  44                       크리스마스 캐럴  7.86\n",
            "44  45                            데시벨  7.84\n",
            "45  46               사랑할 땐 누구나 최악이 된다  7.73\n",
            "46  47                            스펜서  7.68\n",
            "47  48                            스마일  7.60\n",
            "48  49                        리코리쉬 피자  7.58\n",
            "49  50                         홀리 모터스  7.48\n"
          ]
        }
      ],
      "source": [
        "import requests\n",
        "from bs4 import BeautifulSoup as bs\n",
        "import pandas\n",
        "url = \"https://movie.naver.com/movie/sdb/rank/rmovie.naver?sel=cur&date=20221211\"\n",
        "html = requests.get(url)\n",
        "soup = bs(html.text)\n",
        "\n",
        "title = soup.select('table.list_ranking > tbody > tr > td.title > div.tit5 > a ')\n",
        "point = soup.select('table.list_ranking > tbody > tr > td.point')\n",
        "#rank = soup.select('table.list_ranking > tbody > tr > td.ac')\n",
        "rank = 0\n",
        "d = []\n",
        "for i in range(len(title)):\n",
        "  a = title[i].text\n",
        "  b = point[i].text\n",
        "# c = rank[i].text\n",
        "  rank += 1\n",
        "  c = rank\n",
        "  d.append([c, a, b])\n",
        "hw = pandas.DataFrame(d, columns = ['순위','영화','평점']) \n",
        "hw.to_excel('navermovieby박진석.xlsx', index=False)\n",
        "print(hw)"
      ]
    }
  ]
}