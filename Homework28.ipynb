{
  "cells": [
    {
      "cell_type": "markdown",
      "metadata": {
        "id": "view-in-github",
        "colab_type": "text"
      },
      "source": [
        "<a href=\"https://colab.research.google.com/github/corydoras15/python-class/blob/main/Homework28.ipynb\" target=\"_parent\"><img src=\"https://colab.research.google.com/assets/colab-badge.svg\" alt=\"Open In Colab\"/></a>"
      ]
    },
    {
      "cell_type": "code",
      "execution_count": null,
      "id": "dee1c05c",
      "metadata": {
        "scrolled": true,
        "id": "dee1c05c"
      },
      "outputs": [],
      "source": [
        "import sys                           # 윈도우 시스템 접근\n",
        "from PyQt5.QtWidgets import *        # PyQt5 모듈 읽어오기\n",
        "from PyQt5 import uic                # Designer 로 만든 창을 사용만 하기\n",
        "import requests  \n",
        "from bs4 import BeautifulSoup as bs  \n",
        "import pandas as pd\n",
        "\n",
        "html = requests.get('https://search.naver.com/search.naver?where=nexearch&sm=top_sly.hst&fbm=1&acr=1&ie=utf8&query=%EB%82%A0%EC%94%A8')\n",
        "soup = bs(html.text, 'html.parser')\n",
        "form_class = uic.loadUiType(\"mywindow.ui\")[0]  # Designer 로 만든 창 사용하기\n",
        "\n",
        "class MyWindow(QMainWindow, form_class):\n",
        "    def __init__(self):\n",
        "        super().__init__()\n",
        "        self.setupUi(self)\n",
        "        self.pushButton.clicked.connect(self.btn_clicked)\n",
        "        self.pushButton_2.clicked.connect(self.btn_clicked_2)\n",
        "\n",
        "        \n",
        "    def btn_clicked(self):\n",
        "        a = soup.find('p', {\"class\":\"summary\"}).text\n",
        "        self.lineEdit_2.setText(str(a))\n",
        "        b = soup.find('div', {'class':'temperature_text'}).text\n",
        "        self.lineEdit.setText(str(b))\n",
        "    def btn_clicked_2(self):\n",
        "        sys.exit()\n",
        "\n",
        "app = QApplication(sys.argv) # 윈도우 창띄우기\n",
        "window = MyWindow()\n",
        "window.show()\n",
        "\n",
        "app.exec_()        "
      ]
    },
    {
      "cell_type": "code",
      "execution_count": null,
      "id": "d38753e2",
      "metadata": {
        "id": "d38753e2"
      },
      "outputs": [],
      "source": [
        "# import requests  \n",
        "from bs4 import BeautifulSoup as bs  \n",
        "import pandas as pd \n",
        "\n",
        "html = requests.get('https://search.naver.com/search.naver?where=nexearch&sm=top_sly.hst&fbm=1&acr=1&ie=utf8&query=%EB%82%A0%EC%94%A8')\n",
        "soup = bs(html.text, 'html.parser')\n",
        "\n",
        "a = soup.find('p', {\"class\":\"summary\"}).text\n",
        "print(a)\n",
        "b = soup.find('div', {'class':'temperature_text'}).text\n",
        "print(b)"
      ]
    }
  ],
  "metadata": {
    "kernelspec": {
      "display_name": "Python 3 (ipykernel)",
      "language": "python",
      "name": "python3"
    },
    "language_info": {
      "codemirror_mode": {
        "name": "ipython",
        "version": 3
      },
      "file_extension": ".py",
      "mimetype": "text/x-python",
      "name": "python",
      "nbconvert_exporter": "python",
      "pygments_lexer": "ipython3",
      "version": "3.9.13"
    },
    "vscode": {
      "interpreter": {
        "hash": "40d3a090f54c6569ab1632332b64b2c03c39dcf918b08424e98f38b5ae0af88f"
      }
    },
    "colab": {
      "provenance": [],
      "include_colab_link": true
    }
  },
  "nbformat": 4,
  "nbformat_minor": 5
}