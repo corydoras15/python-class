{
  "cells": [
    {
      "cell_type": "markdown",
      "metadata": {
        "id": "view-in-github",
        "colab_type": "text"
      },
      "source": [
        "<a href=\"https://colab.research.google.com/github/corydoras15/python-class/blob/main/Homework28.ipynb\" target=\"_parent\"><img src=\"https://colab.research.google.com/assets/colab-badge.svg\" alt=\"Open In Colab\"/></a>"
      ]
    },
    {
      "cell_type": "code",
      "execution_count": 1,
      "id": "dee1c05c",
      "metadata": {
        "scrolled": true,
        "colab": {
          "base_uri": "https://localhost:8080/",
          "height": 384
        },
        "id": "dee1c05c",
        "outputId": "015299c2-63fb-45bf-ab83-753e147dc010"
      },
      "outputs": [
        {
          "output_type": "error",
          "ename": "ModuleNotFoundError",
          "evalue": "ignored",
          "traceback": [
            "\u001b[0;31m---------------------------------------------------------------------------\u001b[0m",
            "\u001b[0;31mModuleNotFoundError\u001b[0m                       Traceback (most recent call last)",
            "\u001b[0;32m<ipython-input-1-3b0aefa46749>\u001b[0m in \u001b[0;36m<module>\u001b[0;34m\u001b[0m\n\u001b[1;32m      1\u001b[0m \u001b[0;32mimport\u001b[0m \u001b[0msys\u001b[0m                           \u001b[0;31m# 윈도우 시스템 접근\u001b[0m\u001b[0;34m\u001b[0m\u001b[0;34m\u001b[0m\u001b[0m\n\u001b[0;32m----> 2\u001b[0;31m \u001b[0;32mfrom\u001b[0m \u001b[0mPyQt5\u001b[0m\u001b[0;34m.\u001b[0m\u001b[0mQtWidgets\u001b[0m \u001b[0;32mimport\u001b[0m \u001b[0;34m*\u001b[0m        \u001b[0;31m# PyQt5 모듈 읽어오기\u001b[0m\u001b[0;34m\u001b[0m\u001b[0;34m\u001b[0m\u001b[0m\n\u001b[0m\u001b[1;32m      3\u001b[0m \u001b[0;32mfrom\u001b[0m \u001b[0mPyQt5\u001b[0m \u001b[0;32mimport\u001b[0m \u001b[0muic\u001b[0m                \u001b[0;31m# Designer 로 만든 창을 사용만 하기\u001b[0m\u001b[0;34m\u001b[0m\u001b[0;34m\u001b[0m\u001b[0m\n\u001b[1;32m      4\u001b[0m \u001b[0;32mimport\u001b[0m \u001b[0mrequests\u001b[0m\u001b[0;34m\u001b[0m\u001b[0;34m\u001b[0m\u001b[0m\n\u001b[1;32m      5\u001b[0m \u001b[0;32mfrom\u001b[0m \u001b[0mbs4\u001b[0m \u001b[0;32mimport\u001b[0m \u001b[0mBeautifulSoup\u001b[0m \u001b[0;32mas\u001b[0m \u001b[0mbs\u001b[0m\u001b[0;34m\u001b[0m\u001b[0;34m\u001b[0m\u001b[0m\n",
            "\u001b[0;31mModuleNotFoundError\u001b[0m: No module named 'PyQt5'",
            "",
            "\u001b[0;31m---------------------------------------------------------------------------\u001b[0;32m\nNOTE: If your import is failing due to a missing package, you can\nmanually install dependencies using either !pip or !apt.\n\nTo view examples of installing some common dependencies, click the\n\"Open Examples\" button below.\n\u001b[0;31m---------------------------------------------------------------------------\u001b[0m\n"
          ],
          "errorDetails": {
            "actions": [
              {
                "action": "open_url",
                "actionText": "Open Examples",
                "url": "/notebooks/snippets/importing_libraries.ipynb"
              }
            ]
          }
        }
      ],
      "source": [
        "import sys                           # 윈도우 시스템 접근\n",
        "from PyQt5.QtWidgets import *        # PyQt5 모듈 읽어오기\n",
        "from PyQt5 import uic                # Designer 로 만든 창을 사용만 하기\n",
        "import requests  \n",
        "from bs4 import BeautifulSoup as bs  \n",
        "import pandas as pd\n",
        "\n",
        "html = requests.get('https://search.naver.com/search.naver?where=nexearch&sm=top_sly.hst&fbm=1&acr=1&ie=utf8&query=%EB%82%A0%EC%94%A8')\n",
        "soup = bs(html.text, 'html.parser')\n",
        "form_class = uic.loadUiType(\"mywindow.ui\")[0]  # Designer 로 만든 창 사용하기\n",
        "\n",
        "class MyWindow(QMainWindow, form_class):\n",
        "    def __init__(self):\n",
        "        super().__init__()\n",
        "        self.setupUi(self)\n",
        "        self.pushButton.clicked.connect(self.btn_clicked)\n",
        "\n",
        "        \n",
        "    def btn_clicked(self):\n",
        "        a = soup.find('div', {'class':'title_area _area_panel'}).find('h2', {\"class\":\"title\"}).text\n",
        "        self.lineEdit_2.setText(str(a))\n",
        "        b = soup.find('div', {'class':'temperature_text'}).text\n",
        "        self.lineEdit.setText(str(b))\n",
        "\n",
        "app = QApplication(sys.argv) # 윈도우 창띄우기\n",
        "window = MyWindow()\n",
        "window.show()\n",
        "\n",
        "app.exec_()        "
      ]
    },
    {
      "cell_type": "code",
      "execution_count": null,
      "id": "728bf754",
      "metadata": {
        "id": "728bf754",
        "outputId": "8d2219b0-22c9-495f-f95b-07925dfacf22"
      },
      "outputs": [
        {
          "name": "stdout",
          "output_type": "stream",
          "text": [
            "과천시 과천동\n",
            " 현재 온도-1.2° \n"
          ]
        }
      ],
      "source": [
        "import requests  \n",
        "from bs4 import BeautifulSoup as bs  \n",
        "import pandas as pd \n",
        "\n",
        "html = requests.get('https://search.naver.com/search.naver?where=nexearch&sm=top_sly.hst&fbm=1&acr=1&ie=utf8&query=%EB%82%A0%EC%94%A8')\n",
        "soup = bs(html.text, 'html.parser')\n",
        "\n",
        "a = soup.find('div', {'class':'title_area _area_panel'}).find('h2', {\"class\":\"title\"}).text\n",
        "print(a)\n",
        "b = soup.find('div', {'class':'temperature_text'}).text\n",
        "print(b)"
      ]
    },
    {
      "cell_type": "code",
      "source": [],
      "metadata": {
        "id": "SA-9t_dRNufZ"
      },
      "id": "SA-9t_dRNufZ",
      "execution_count": null,
      "outputs": []
    }
  ],
  "metadata": {
    "kernelspec": {
      "display_name": "Python 3 (ipykernel)",
      "language": "python",
      "name": "python3"
    },
    "language_info": {
      "codemirror_mode": {
        "name": "ipython",
        "version": 3
      },
      "file_extension": ".py",
      "mimetype": "text/x-python",
      "name": "python",
      "nbconvert_exporter": "python",
      "pygments_lexer": "ipython3",
      "version": "3.9.13"
    },
    "colab": {
      "provenance": [],
      "include_colab_link": true
    }
  },
  "nbformat": 4,
  "nbformat_minor": 5
}