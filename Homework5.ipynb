{
  "nbformat": 4,
  "nbformat_minor": 0,
  "metadata": {
    "colab": {
      "provenance": [],
      "authorship_tag": "ABX9TyM7DbAhWPgjZ0HnKZ+idfsc",
      "include_colab_link": true
    },
    "kernelspec": {
      "name": "python3",
      "display_name": "Python 3"
    },
    "language_info": {
      "name": "python"
    }
  },
  "cells": [
    {
      "cell_type": "markdown",
      "metadata": {
        "id": "view-in-github",
        "colab_type": "text"
      },
      "source": [
        "<a href=\"https://colab.research.google.com/github/corydoras15/python-class/blob/main/Homework5.ipynb\" target=\"_parent\"><img src=\"https://colab.research.google.com/assets/colab-badge.svg\" alt=\"Open In Colab\"/></a>"
      ]
    },
    {
      "cell_type": "code",
      "execution_count": null,
      "metadata": {
        "colab": {
          "base_uri": "https://localhost:8080/"
        },
        "id": "vdV2cYC2xCDX",
        "outputId": "bf6f1632-0bdb-4c7e-dcf0-409fc7e89d14"
      },
      "outputs": [
        {
          "output_type": "stream",
          "name": "stdout",
          "text": [
            "Please enter your fist name:park\n",
            "Hello park\n"
          ]
        }
      ],
      "source": [
        "# 001\n",
        "a = input(\"Please enter your fist name:\")\n",
        "print(\"Hello\",a)"
      ]
    },
    {
      "cell_type": "code",
      "source": [
        "# 002\n",
        "a = input(\"Please enter your fist name:\")\n",
        "b = input(\"please enter your surname:\")\n",
        "print(\"Hello\", a, b)"
      ],
      "metadata": {
        "colab": {
          "base_uri": "https://localhost:8080/"
        },
        "id": "h9zQDuuuyg8l",
        "outputId": "5a23e9d4-7e43-4e4a-f638-095d400cfcfc"
      },
      "execution_count": null,
      "outputs": [
        {
          "output_type": "stream",
          "name": "stdout",
          "text": [
            "Please enter your fist name:park\n",
            "please enter your surname:jinseok\n",
            "Hello park jinseok\n"
          ]
        }
      ]
    },
    {
      "cell_type": "code",
      "source": [
        "# 003\n",
        "print(\"What do you call a bear with no teeth?\", \"\\n A gummy bear!\")"
      ],
      "metadata": {
        "colab": {
          "base_uri": "https://localhost:8080/"
        },
        "id": "7RDTERk0yiUQ",
        "outputId": "78c3f607-874d-4997-ebf4-b998e20446ae"
      },
      "execution_count": null,
      "outputs": [
        {
          "output_type": "stream",
          "name": "stdout",
          "text": [
            "What do you call a bear with no teeth? \n",
            " A gummy bear!\n"
          ]
        }
      ]
    },
    {
      "cell_type": "code",
      "source": [
        "# 004\n",
        "a = int(input(\"please enter your first number:\"))\n",
        "b = int(input(\"please enter your second number:\"))\n",
        "c = a + b\n",
        "print(\"The total is\", c)"
      ],
      "metadata": {
        "colab": {
          "base_uri": "https://localhost:8080/"
        },
        "id": "nqyk_Py7122b",
        "outputId": "ae324cb2-6287-48c9-cb6f-5361ac341bd0"
      },
      "execution_count": null,
      "outputs": [
        {
          "output_type": "stream",
          "name": "stdout",
          "text": [
            "please enter your first number:1\n",
            "please enter your second number:2\n",
            "The total is 3\n"
          ]
        }
      ]
    },
    {
      "cell_type": "code",
      "source": [
        "# 005\n",
        "a = int(input(\"please enter your first number:\"))\n",
        "b = int(input(\"please enter your second number:\"))\n",
        "c = int(input(\"please enter your third number:\"))\n",
        "d = (a + b)* c\n",
        "print(\"The answer is\", d)"
      ],
      "metadata": {
        "colab": {
          "base_uri": "https://localhost:8080/"
        },
        "id": "oynW124u2Ynt",
        "outputId": "4af663c5-702f-408c-dec6-48f441bb3473"
      },
      "execution_count": null,
      "outputs": [
        {
          "output_type": "stream",
          "name": "stdout",
          "text": [
            "please enter your first number:1\n",
            "please enter your second number:2\n",
            "please enter your third number:3\n",
            "The answer is 9\n"
          ]
        }
      ]
    },
    {
      "cell_type": "code",
      "source": [
        "# 006\n",
        "a = int(input(\"Please enter the number of slices of pizza you started:\"))\n",
        "b = int(input(\"please enter how many slices have you eaten?:\"))\n",
        "c = a - b\n",
        "print(\"You have\", c, \"slices\")"
      ],
      "metadata": {
        "colab": {
          "base_uri": "https://localhost:8080/"
        },
        "id": "vDycNaCT53wc",
        "outputId": "6f0b1b70-387d-46d4-d808-6a8a288edf35"
      },
      "execution_count": null,
      "outputs": [
        {
          "output_type": "stream",
          "name": "stdout",
          "text": [
            "Please enter the number of slices of pizza you started:9\n",
            "please enter how many slices have you eaten?:5\n",
            "You have 4 slices\n"
          ]
        }
      ]
    },
    {
      "cell_type": "code",
      "source": [
        "# 007\n",
        "a = input(\"Please enter your name:\")\n",
        "b = int(input(\"please enter your age:\"))\n",
        "c = b + 1\n",
        "\n",
        "print(a, \"next birthday you will be\", c)"
      ],
      "metadata": {
        "colab": {
          "base_uri": "https://localhost:8080/"
        },
        "id": "pNMwWl8S7xJo",
        "outputId": "2983ba78-cfe9-4214-9b33-f1e02ac4149c"
      },
      "execution_count": null,
      "outputs": [
        {
          "output_type": "stream",
          "name": "stdout",
          "text": [
            "Please enter your name:park\n",
            "please enter your age:37\n",
            "park next birthday you will be 38\n"
          ]
        }
      ]
    },
    {
      "cell_type": "code",
      "source": [
        "# 008\n",
        "a = int(input(\"please enter the total price:\"))\n",
        "b = int(input(\"please enter how many diners:\"))\n",
        "c = a/b\n",
        "\n",
        "print(\"each person must pay\", c)"
      ],
      "metadata": {
        "colab": {
          "base_uri": "https://localhost:8080/"
        },
        "id": "xds5tU1k8o6B",
        "outputId": "c14f6b0a-3dd5-4054-a02f-eed16f08f1c3"
      },
      "execution_count": null,
      "outputs": [
        {
          "output_type": "stream",
          "name": "stdout",
          "text": [
            "please enter the total price:100\n",
            "please enter how many diners:4\n",
            "each person must pay 25.0\n"
          ]
        }
      ]
    },
    {
      "cell_type": "code",
      "source": [
        "# 009\n",
        "d = int(input(\"please enter the number of day:\"))\n",
        "h = d * 24\n",
        "m = h * 60\n",
        "s = m * 60\n",
        "\n",
        "print(d, \"days\")\n",
        "print(h, \"hours\")\n",
        "print(m, \"minutes\")\n",
        "print(s, \"seconds\")"
      ],
      "metadata": {
        "colab": {
          "base_uri": "https://localhost:8080/"
        },
        "id": "jwv6L50p-Pcm",
        "outputId": "cb2af88d-ff75-450d-dd31-506d54a9128a"
      },
      "execution_count": null,
      "outputs": [
        {
          "output_type": "stream",
          "name": "stdout",
          "text": [
            "please enter the number of day:4\n",
            "4 days\n",
            "96 hours\n",
            "5760 minutes\n",
            "345600 seconds\n"
          ]
        }
      ]
    },
    {
      "cell_type": "code",
      "source": [
        "# 010\n",
        "a = int(input(\"please enter the number of kilograms:\"))\n",
        "b = a * 2204\n",
        "\n",
        "print(b, \"pounds\")"
      ],
      "metadata": {
        "colab": {
          "base_uri": "https://localhost:8080/"
        },
        "id": "AZ5gwI8aAXGn",
        "outputId": "0790f15f-df2e-4ae4-86c4-79afc9902eab"
      },
      "execution_count": null,
      "outputs": [
        {
          "output_type": "stream",
          "name": "stdout",
          "text": [
            "please enter the number of kilograms:3\n",
            "6612 pounds\n"
          ]
        }
      ]
    },
    {
      "cell_type": "code",
      "source": [
        "# 011\n",
        "a = int(input(\"please enter a number over 100:\"))\n",
        "b = int(input(\"please enter a number under 10:\"))\n",
        "c = a//b\n",
        "\n",
        "print(b, \"goes into\", a, c,\"times\")"
      ],
      "metadata": {
        "colab": {
          "base_uri": "https://localhost:8080/"
        },
        "id": "AvELLXsTBXB7",
        "outputId": "a635047b-b61f-4d19-8786-997dfa29277e"
      },
      "execution_count": null,
      "outputs": [
        {
          "output_type": "stream",
          "name": "stdout",
          "text": [
            "please enter a number over 100:120\n",
            "please enter a number under 10:7\n",
            "7 goes into 120 17 times\n"
          ]
        }
      ]
    }
  ]
}