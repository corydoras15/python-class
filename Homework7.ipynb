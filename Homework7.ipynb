{
  "nbformat": 4,
  "nbformat_minor": 0,
  "metadata": {
    "colab": {
      "provenance": [],
      "authorship_tag": "ABX9TyN5aimfyV4uknt4VSMvWDMA",
      "include_colab_link": true
    },
    "kernelspec": {
      "name": "python3",
      "display_name": "Python 3"
    },
    "language_info": {
      "name": "python"
    }
  },
  "cells": [
    {
      "cell_type": "markdown",
      "metadata": {
        "id": "view-in-github",
        "colab_type": "text"
      },
      "source": [
        "<a href=\"https://colab.research.google.com/github/corydoras15/python-class/blob/main/Homework7.ipynb\" target=\"_parent\"><img src=\"https://colab.research.google.com/assets/colab-badge.svg\" alt=\"Open In Colab\"/></a>"
      ]
    },
    {
      "cell_type": "code",
      "execution_count": 7,
      "metadata": {
        "colab": {
          "base_uri": "https://localhost:8080/"
        },
        "id": "vXs9MfX1aMva",
        "outputId": "49ec6e8e-db80-4040-eae7-6cf097e266e4"
      },
      "outputs": [
        {
          "output_type": "stream",
          "name": "stdout",
          "text": [
            ">> :안녕하세요\n",
            "안녕하세요안녕하세요\n"
          ]
        }
      ],
      "source": [
        "# 111\n",
        "a = input(\">> :\")\n",
        "print(a * 2)"
      ]
    },
    {
      "cell_type": "code",
      "source": [
        "# 112\n",
        "a = int(input(\">> :\"))\n",
        "print(a + 10)"
      ],
      "metadata": {
        "colab": {
          "base_uri": "https://localhost:8080/"
        },
        "id": "WvE9jiRgbNgE",
        "outputId": "adf1dcb5-d30b-44d7-a218-c169dd823ef5"
      },
      "execution_count": 8,
      "outputs": [
        {
          "output_type": "stream",
          "name": "stdout",
          "text": [
            ">> :30\n",
            "40\n"
          ]
        }
      ]
    },
    {
      "cell_type": "code",
      "source": [
        "# 113\n",
        "a = int(input(\">> :\"))\n",
        "if (a%2 == 0):\n",
        "   print(\"짝수\")\n",
        "else:\n",
        "  print(\"홀수\")   "
      ],
      "metadata": {
        "colab": {
          "base_uri": "https://localhost:8080/"
        },
        "id": "iTK7A2mpbcLm",
        "outputId": "02136aa6-71e3-4169-a5eb-61e782458278"
      },
      "execution_count": 12,
      "outputs": [
        {
          "output_type": "stream",
          "name": "stdout",
          "text": [
            ">> :30\n",
            "짝수\n"
          ]
        }
      ]
    },
    {
      "cell_type": "code",
      "source": [
        "# 114\n",
        "a = int(input(\">> 입력값:\"))\n",
        "if (a + 20 >= 255):\n",
        "  print(\"출력값:\", 255)\n",
        "else:\n",
        "  print(\"출력값:\", a + 20)  "
      ],
      "metadata": {
        "colab": {
          "base_uri": "https://localhost:8080/"
        },
        "id": "Miugda-qcP8x",
        "outputId": "747bc04c-1081-4c37-e4db-348d90acaab4"
      },
      "execution_count": 16,
      "outputs": [
        {
          "output_type": "stream",
          "name": "stdout",
          "text": [
            ">> 입력값:200\n",
            "출력값: 220\n"
          ]
        }
      ]
    },
    {
      "cell_type": "code",
      "source": [
        " # 115\n",
        " a = int(input(\">> 입력값:\"))\n",
        " if (a - 20 >= 255):\n",
        "   print(\"출력값:\", 255)\n",
        "elif (a - 20 <= 0):\n",
        "  print(\"출력값:\", 0)\n",
        "else:\n",
        "  print(\"출력값:\", a - 20)"
      ],
      "metadata": {
        "colab": {
          "base_uri": "https://localhost:8080/"
        },
        "id": "OfN_HQqXdZl-",
        "outputId": "e34a8581-ac01-4bf3-a014-953ea4a8f94b"
      },
      "execution_count": 19,
      "outputs": [
        {
          "output_type": "stream",
          "name": "stdout",
          "text": [
            ">> 입력값:300\n",
            "출력값: 255\n"
          ]
        }
      ]
    },
    {
      "cell_type": "code",
      "source": [
        "# 116\n",
        "a = input(\">> 현재시간:\")\n",
        "if (a[3] == \"0\" and a[4] == \"0\"):\n",
        "  print(\"정각 입니다.\")\n",
        "else:\n",
        "  print(\"정각이 아닙니다.\")"
      ],
      "metadata": {
        "colab": {
          "base_uri": "https://localhost:8080/"
        },
        "id": "deBiadzWelgY",
        "outputId": "05f6d955-0d40-47f7-b7eb-80a0cf8047db"
      },
      "execution_count": 65,
      "outputs": [
        {
          "output_type": "stream",
          "name": "stdout",
          "text": [
            ">> 현재시간:02:00\n",
            "정각 입니다.\n"
          ]
        }
      ]
    },
    {
      "cell_type": "code",
      "source": [
        "# 117\n",
        "fruit = [\"사과\", \"포도\", \"홍시\"]\n",
        "a = input(\">> 좋아하는 과일은?:\")\n",
        "if (a in fruit):\n",
        "  print(\"정답입니다.\")\n",
        "else:\n",
        "  print(\"오답입니다.\")"
      ],
      "metadata": {
        "colab": {
          "base_uri": "https://localhost:8080/"
        },
        "id": "CzVkb2KRhTiJ",
        "outputId": "0fb17e45-3d85-49ed-f151-2eb458b60170"
      },
      "execution_count": 23,
      "outputs": [
        {
          "output_type": "stream",
          "name": "stdout",
          "text": [
            ">> 좋아하는 과일은?:배\n",
            "오답입니다.\n"
          ]
        }
      ]
    },
    {
      "cell_type": "code",
      "source": [
        "# 118\n",
        "warn_investment_list = [\"Microsoft\", \"Google\", \"Naver\", \"Kakao\", \"SAMSUNG\", \"LG\"]\n",
        "a = input(\">> 종목명:\")\n",
        "if (a in warn_investment_list):\n",
        "  print(\"투자 경고 종목입니다.\")\n",
        "else:\n",
        "  print(\"투자 경고 종목이 아닙니다.\")"
      ],
      "metadata": {
        "colab": {
          "base_uri": "https://localhost:8080/"
        },
        "id": "T1-EJzAviNPM",
        "outputId": "5fe26fc0-3b64-423f-9afc-5fc6c212d0ca"
      },
      "execution_count": 26,
      "outputs": [
        {
          "output_type": "stream",
          "name": "stdout",
          "text": [
            ">> 종목명:kia\n",
            "투자 경고 종목이 아닙니다.\n"
          ]
        }
      ]
    },
    {
      "cell_type": "code",
      "source": [
        "# 119\n",
        "fruit = {\"봄\" : \"딸기\", \"여름\" : \"토마토\", \"가을\" : \"사과\"}\n",
        "a = input(\">> 제가좋아하는계절은:\")\n",
        "b = fruit.keys()\n",
        "if (a in b):\n",
        "  print(\"정답입니다.\")\n",
        "else:\n",
        "  print(\"오답입니다.\")"
      ],
      "metadata": {
        "colab": {
          "base_uri": "https://localhost:8080/"
        },
        "id": "Vzm_TTJji_qB",
        "outputId": "a2933adb-0f55-4c91-c321-14679df9b58e"
      },
      "execution_count": 40,
      "outputs": [
        {
          "output_type": "stream",
          "name": "stdout",
          "text": [
            ">> 제가좋아하는계절은:봄\n",
            "정답입니다.\n"
          ]
        }
      ]
    },
    {
      "cell_type": "code",
      "source": [
        "# 120\n",
        "fruit = {\"봄\" : \"딸기\", \"여름\" : \"토마토\", \"가을\" : \"사과\"}\n",
        "a = input(\">> 제가좋아하는과일은?:\")\n",
        "b = fruit.values()\n",
        "if (a in b):\n",
        "  print(\"정답입니다.\")\n",
        "else:\n",
        "  print(\"오답입니다.\")"
      ],
      "metadata": {
        "colab": {
          "base_uri": "https://localhost:8080/"
        },
        "id": "mL1-oz02j46F",
        "outputId": "aaa44f5d-a4c1-4346-9a1e-a3821363f3f3"
      },
      "execution_count": 39,
      "outputs": [
        {
          "output_type": "stream",
          "name": "stdout",
          "text": [
            ">> 제가좋아하는과일은?:딸기\n",
            "정답입니다.\n"
          ]
        }
      ]
    },
    {
      "cell_type": "code",
      "source": [
        "# 121\n",
        "a = input(\">> :\")\n",
        "b = a.islower()\n",
        "if (b == True):\n",
        "  print(a.upper())\n",
        "else:\n",
        "  print(a.lower())"
      ],
      "metadata": {
        "colab": {
          "base_uri": "https://localhost:8080/"
        },
        "id": "QWUvelqRncQg",
        "outputId": "4e6f2124-5f54-4c10-b2e6-1a43c7183d18"
      },
      "execution_count": 60,
      "outputs": [
        {
          "output_type": "stream",
          "name": "stdout",
          "text": [
            ">> :a\n",
            "A\n"
          ]
        }
      ]
    },
    {
      "cell_type": "code",
      "source": [
        "# 122\n",
        "a = int(input(\">> score:\"))\n",
        "if (a >= 81):\n",
        "  print(\"gradeis A\")\n",
        "elif (a >= 61):\n",
        "  print(\"gradeis B\")\n",
        "elif (a >= 41):\n",
        "  print(\"gradeis C\")\n",
        "elif (a >= 21):\n",
        "  print(\"gradeis D\")\n",
        "else:\n",
        "  print(\"gradeis E\")"
      ],
      "metadata": {
        "colab": {
          "base_uri": "https://localhost:8080/"
        },
        "id": "SuQRohRVo6jf",
        "outputId": "2e82247f-4ab4-4bcc-e5f4-3056d5ea2a3d"
      },
      "execution_count": 49,
      "outputs": [
        {
          "output_type": "stream",
          "name": "stdout",
          "text": [
            ">> score:84\n",
            "gradeis A\n"
          ]
        }
      ]
    },
    {
      "cell_type": "code",
      "source": [
        "# 123\n",
        "a = input(\">> 입력:\")\n",
        "b = a.split(\" \")\n",
        "if (b[1] == \"달러\"):\n",
        "  print(float(b[0]) * 1167, \"원\")\n",
        "elif (b[1] == \"엔\"):\n",
        "  print(float(b[0]) * 1.096, \"원\")\n",
        "elif (b[1] == \"유로\"):\n",
        "  print(float(b[0]) * 1268, \"원\")\n",
        "else:\n",
        "  print(float(b[0]) * 171, \"원\")"
      ],
      "metadata": {
        "colab": {
          "base_uri": "https://localhost:8080/"
        },
        "id": "34D3xUrJqaa6",
        "outputId": "37a4a7ca-e47e-45df-f621-43a4fcc6e402"
      },
      "execution_count": 68,
      "outputs": [
        {
          "output_type": "stream",
          "name": "stdout",
          "text": [
            ">> 입력:100 달러\n",
            "116700.0 원\n"
          ]
        }
      ]
    },
    {
      "cell_type": "code",
      "source": [
        "# 124\n",
        "a = int(input(\">> input number1:\"))\n",
        "b = int(input(\">> input number2:\"))\n",
        "c = int(input(\">> input number3:\"))\n",
        "if (a >= b and a >= c):\n",
        "  print(a)\n",
        "elif (b >= a and b >= c):\n",
        "  print(b)\n",
        "else:\n",
        "  print(c)"
      ],
      "metadata": {
        "colab": {
          "base_uri": "https://localhost:8080/"
        },
        "id": "aO6tcl-_rqKR",
        "outputId": "62851ab3-1588-4e4b-91c6-50688266e70d"
      },
      "execution_count": 58,
      "outputs": [
        {
          "output_type": "stream",
          "name": "stdout",
          "text": [
            ">> input number1:10\n",
            ">> input number2:9\n",
            ">> input number3:20\n",
            "20\n"
          ]
        }
      ]
    },
    {
      "cell_type": "code",
      "source": [
        "# 125\n",
        "a = input(\">>휴대전화 번호 입력: \")\n",
        "if (a[2] == \"1\"):\n",
        "  print(\"당신은 SKT 사용자입니다.\")\n",
        "elif (a[2] == \"6\"):\n",
        "  print(\"당신은 KT 사용자입니다.\")\n",
        "elif (a[2] == \"9\"):\n",
        "  print(\"당신은 LGU 사용자입니다.\")\n",
        "else:\n",
        "  print(\"알수없음.\")\n"
      ],
      "metadata": {
        "colab": {
          "base_uri": "https://localhost:8080/"
        },
        "id": "Ixpu0WFztfSW",
        "outputId": "562e0ebf-097d-45e8-d829-99cdcdf6c798"
      },
      "execution_count": 80,
      "outputs": [
        {
          "output_type": "stream",
          "name": "stdout",
          "text": [
            ">>휴대전화 번호 입력: 011-1111-1111\n",
            "당신은 SKT 사용자입니다.\n"
          ]
        }
      ]
    },
    {
      "cell_type": "code",
      "source": [
        "# 126\n",
        "a = (input(\">> 우편번호:\"))\n",
        "if (int(a[2]) <= 2):\n",
        "  print(\"강북구\")\n",
        "else:\n",
        "  print(\"도봉구\")"
      ],
      "metadata": {
        "colab": {
          "base_uri": "https://localhost:8080/"
        },
        "id": "BXGqjQPqucJ-",
        "outputId": "b5ce86b8-87b4-4d55-a427-bf6940896eb3"
      },
      "execution_count": 72,
      "outputs": [
        {
          "output_type": "stream",
          "name": "stdout",
          "text": [
            ">> 우편번호:11111\n",
            "강북구\n"
          ]
        }
      ]
    },
    {
      "cell_type": "code",
      "source": [
        "# 127\n",
        "a = input(\">> 주민등록번호:\")\n",
        "if (a[9] == \"1\" or a[9] == \"3\"):\n",
        "  print(\"남자\")\n",
        "else:\n",
        "  print(\"여자\")"
      ],
      "metadata": {
        "colab": {
          "base_uri": "https://localhost:8080/"
        },
        "id": "PHncr5kmwRSS",
        "outputId": "b7d7283f-0733-41c5-e0a8-9d7851be4dc0"
      },
      "execution_count": 81,
      "outputs": [
        {
          "output_type": "stream",
          "name": "stdout",
          "text": [
            ">> 주민등록번호:11111111111111\n",
            "남자\n"
          ]
        }
      ]
    },
    {
      "cell_type": "code",
      "source": [
        "# 128\n",
        "a = input(\">> 주민등록번호: \")\n",
        "if (a[10] == \"0\" and a[11] >= \"8\"):\n",
        "  print(\" 서울 입니다.\")\n",
        "else:\n",
        "  print(\"서울이 아닙니다.\")"
      ],
      "metadata": {
        "colab": {
          "base_uri": "https://localhost:8080/"
        },
        "id": "SSa3WDpjwiAx",
        "outputId": "e8e9a347-3bd4-4735-9095-6174cfa6fecf"
      },
      "execution_count": 83,
      "outputs": [
        {
          "output_type": "stream",
          "name": "stdout",
          "text": [
            ">> 주민등록번호: 820202-1634210\n",
            "서울이 아닙니다.\n"
          ]
        }
      ]
    },
    {
      "cell_type": "code",
      "source": [
        "# 129\n",
        "a = input(\">> 주민등록번호: \")\n",
        "b = (int(a[0]) * 2) + (int(a[1]) * 3) + (int(a[2]) * 4) + (int(a[3]) * 5) + (int(a[4]) * 6) + (int(a[5]) * 7) + (int(a[7]) * 8) + (int(a[8]) * 9) + (int(a[9]) * 2) + (int(a[10]) * 3) + (int(a[11]) * 4) + (int(a[12]) * 5)\n",
        "c = b % 11\n",
        "d = 11 - c\n",
        "if (int(a[13]) == d):\n",
        "  print(\"유효한 주민등록번호 입니다.\")\n",
        "else:\n",
        "  print(\"유효하지 않은 주민등록번호입니다.\")"
      ],
      "metadata": {
        "colab": {
          "base_uri": "https://localhost:8080/"
        },
        "id": "jHZ2hg3zwo3j",
        "outputId": "8d3b5935-809d-4cc2-9c77-0f076dbd7a12"
      },
      "execution_count": 90,
      "outputs": [
        {
          "output_type": "stream",
          "name": "stdout",
          "text": [
            ">> 주민등록번호: 821010-1635210\n",
            "유효하지 않은 주민등록번호입니다.\n"
          ]
        }
      ]
    },
    {
      "cell_type": "code",
      "source": [
        "# 130\n",
        "import requests\n",
        "btc = requests.get(\"https://api.bithumb.com/public/ticker/\").json()['data']\n",
        "a = list(btc.values())\n",
        "if int(a[0]) > int(a[2]):\n",
        "  print(\"상승장\")\n",
        "else:\n",
        "  print(\"하락장\")"
      ],
      "metadata": {
        "colab": {
          "base_uri": "https://localhost:8080/"
        },
        "id": "Ey7aUcNiw1aF",
        "outputId": "c449822c-ddac-4484-9ad7-dd610913e417"
      },
      "execution_count": 100,
      "outputs": [
        {
          "output_type": "stream",
          "name": "stdout",
          "text": [
            "상승장\n"
          ]
        }
      ]
    }
  ]
}