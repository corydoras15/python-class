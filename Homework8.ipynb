{
  "nbformat": 4,
  "nbformat_minor": 0,
  "metadata": {
    "colab": {
      "provenance": [],
      "authorship_tag": "ABX9TyPcuRYGmSdXmErcXeZ49pdJ",
      "include_colab_link": true
    },
    "kernelspec": {
      "name": "python3",
      "display_name": "Python 3"
    },
    "language_info": {
      "name": "python"
    }
  },
  "cells": [
    {
      "cell_type": "markdown",
      "metadata": {
        "id": "view-in-github",
        "colab_type": "text"
      },
      "source": [
        "<a href=\"https://colab.research.google.com/github/corydoras15/python-class/blob/main/Homework8.ipynb\" target=\"_parent\"><img src=\"https://colab.research.google.com/assets/colab-badge.svg\" alt=\"Open In Colab\"/></a>"
      ]
    },
    {
      "cell_type": "code",
      "execution_count": 2,
      "metadata": {
        "colab": {
          "base_uri": "https://localhost:8080/"
        },
        "id": "P0aM2LH99F2v",
        "outputId": "9e234a74-8a20-46cf-93df-8ae25f27fa65"
      },
      "outputs": [
        {
          "output_type": "stream",
          "name": "stdout",
          "text": [
            "사과\n",
            "귤\n",
            "수박\n"
          ]
        }
      ],
      "source": [
        "# 131\n",
        "과일 = [\"사과\", \"귤\", \"수박\"]\n",
        "for 변수 in 과일:\n",
        "    print(변수)"
      ]
    },
    {
      "cell_type": "code",
      "source": [
        "# 132\n",
        "과일 = [\"사과\", \"귤\", \"수박\"]\n",
        "for 변수 in 과일:\n",
        "    print(\"#####\")"
      ],
      "metadata": {
        "colab": {
          "base_uri": "https://localhost:8080/"
        },
        "id": "jHqgB1su9ibL",
        "outputId": "dae943b3-ed10-4b32-fd65-51dcdf06bf31"
      },
      "execution_count": 3,
      "outputs": [
        {
          "output_type": "stream",
          "name": "stdout",
          "text": [
            "#####\n",
            "#####\n",
            "#####\n"
          ]
        }
      ]
    },
    {
      "cell_type": "code",
      "source": [
        "# 133\n",
        "#for 변수 in [\"A\", \"B\", \"C\"]:\n",
        "#   print(변수)\n",
        "\n",
        "변수 = \"A\"\n",
        "print(변수)\n",
        "변수 = \"B\"\n",
        "print(변수)\n",
        "변수 = \"C\"\n",
        "print(변수)"
      ],
      "metadata": {
        "colab": {
          "base_uri": "https://localhost:8080/"
        },
        "id": "XqarrWn89u5V",
        "outputId": "38050430-ae9d-4130-b134-cd39cd8a0a0d"
      },
      "execution_count": 17,
      "outputs": [
        {
          "output_type": "stream",
          "name": "stdout",
          "text": [
            "A\n",
            "B\n",
            "C\n"
          ]
        }
      ]
    },
    {
      "cell_type": "code",
      "source": [
        "# 134\n",
        "#for 변수 in [\"A\", \"B\", \"C\"]:\n",
        "#  print(\"출력:\", 변수)\n",
        "\n",
        "변수 = \"A\"\n",
        "print(\"출력:\", 변수)\n",
        "변수 = \"B\"\n",
        "print(\"출력:\", 변수)\n",
        "변수 = \"C\"\n",
        "print(\"출력:\", 변수)"
      ],
      "metadata": {
        "colab": {
          "base_uri": "https://localhost:8080/"
        },
        "id": "l8OAYtWF-lxe",
        "outputId": "954a7e5b-66e4-48c1-f036-e80a7c8e426e"
      },
      "execution_count": 18,
      "outputs": [
        {
          "output_type": "stream",
          "name": "stdout",
          "text": [
            "출력: A\n",
            "출력: B\n",
            "출력: C\n"
          ]
        }
      ]
    },
    {
      "cell_type": "code",
      "source": [
        "# 135\n",
        "#for 변수 in [\"A\", \"B\", \"C\"]:\n",
        "#  b = 변수.lower()\n",
        "#  print(\"변환:\", b)\n",
        "\n",
        "변수 = \"A\"\n",
        "b = 변수.lower()\n",
        "print(\"변환:\", b)\n",
        "변수 = \"B\"\n",
        "b = 변수.lower()\n",
        "print(\"변환:\", b)\n",
        "변수 = \"C\"\n",
        "b = 변수.lower()\n",
        "print(\"변환:\", b)"
      ],
      "metadata": {
        "colab": {
          "base_uri": "https://localhost:8080/"
        },
        "id": "zu_nAIPq_gt-",
        "outputId": "308a694e-6a5e-4be4-f129-4019283f855c"
      },
      "execution_count": 19,
      "outputs": [
        {
          "output_type": "stream",
          "name": "stdout",
          "text": [
            "변환: a\n",
            "변환: b\n",
            "변환: c\n"
          ]
        }
      ]
    },
    {
      "cell_type": "code",
      "source": [
        "# 136\n",
        "#변수 = 10\n",
        "#print(변수)\n",
        "#변수 = 20\n",
        "#print(변수)\n",
        "#변수 = 30\n",
        "#print(변수)\n",
        "\n",
        "for 변수 in [10, 20, 30]:\n",
        "  print(변수)"
      ],
      "metadata": {
        "colab": {
          "base_uri": "https://localhost:8080/"
        },
        "id": "ZCO8AcCxAFN5",
        "outputId": "4553806e-5d52-4727-9360-9e424a00ffc2"
      },
      "execution_count": 14,
      "outputs": [
        {
          "output_type": "stream",
          "name": "stdout",
          "text": [
            "10\n",
            "20\n",
            "30\n"
          ]
        }
      ]
    },
    {
      "cell_type": "code",
      "source": [
        "# 137\n",
        "#print(10)\n",
        "#print(20)\n",
        "#print(30)\n",
        "\n",
        "for i in [10, 20, 30]:\n",
        "  print(i)"
      ],
      "metadata": {
        "colab": {
          "base_uri": "https://localhost:8080/"
        },
        "id": "mfyizNYiCsqa",
        "outputId": "b6d3d07a-e6f7-4402-af63-803631515de9"
      },
      "execution_count": 23,
      "outputs": [
        {
          "output_type": "stream",
          "name": "stdout",
          "text": [
            "10\n",
            "20\n",
            "30\n"
          ]
        }
      ]
    },
    {
      "cell_type": "code",
      "source": [
        "# 138\n",
        "#print(10)\n",
        "#print(\"-------\")\n",
        "#print(20)\n",
        "#print(\"-------\")\n",
        "#print(30)\n",
        "#print(\"-------\")\n",
        "\n",
        "for i in [10, \"-------\", 20, \"-------\", 30, \"-------\"]:\n",
        "  print(i)"
      ],
      "metadata": {
        "colab": {
          "base_uri": "https://localhost:8080/"
        },
        "id": "Y8nQNw32EQDl",
        "outputId": "0fdde23c-870a-4bc7-85c7-cfad58a98920"
      },
      "execution_count": 25,
      "outputs": [
        {
          "output_type": "stream",
          "name": "stdout",
          "text": [
            "10\n",
            "-------\n",
            "20\n",
            "-------\n",
            "30\n",
            "-------\n"
          ]
        }
      ]
    },
    {
      "cell_type": "code",
      "source": [
        "# 139\n",
        "#print(\"++++\")\n",
        "#print(10)\n",
        "#print(20)\n",
        "#print(30)\n",
        "\n",
        "for i in [\"++++\", 10, 20, 30]:\n",
        "  print(i)"
      ],
      "metadata": {
        "colab": {
          "base_uri": "https://localhost:8080/"
        },
        "id": "jOxGoJViE-j5",
        "outputId": "4b26cfda-1c7c-427a-b0e5-14a4ea081f99"
      },
      "execution_count": 27,
      "outputs": [
        {
          "output_type": "stream",
          "name": "stdout",
          "text": [
            "++++\n",
            "10\n",
            "20\n",
            "30\n"
          ]
        }
      ]
    },
    {
      "cell_type": "code",
      "source": [
        "# 140\n",
        "#print(\"-------\")\n",
        "#print(\"-------\")\n",
        "#print(\"-------\")\n",
        "#print(\"-------\")\n",
        "\n",
        "for i in [\"-------\", \"-------\", \"-------\", \"-------\"]:\n",
        "  print(i)"
      ],
      "metadata": {
        "colab": {
          "base_uri": "https://localhost:8080/"
        },
        "id": "op-HNaPnFTJA",
        "outputId": "43ddfdfe-f803-4bbc-d9a2-a02c58b1780e"
      },
      "execution_count": 30,
      "outputs": [
        {
          "output_type": "stream",
          "name": "stdout",
          "text": [
            "-------\n",
            "-------\n",
            "-------\n",
            "-------\n"
          ]
        }
      ]
    },
    {
      "cell_type": "code",
      "source": [
        "# 141\n",
        "리스트 = [100, 200, 300]\n",
        "for i in 리스트:\n",
        "  print(i + 10) "
      ],
      "metadata": {
        "colab": {
          "base_uri": "https://localhost:8080/"
        },
        "id": "ZAu_gKt3FsMq",
        "outputId": "06ab2cd6-aad0-4b57-96f2-6d3b8dfc7d06"
      },
      "execution_count": 31,
      "outputs": [
        {
          "output_type": "stream",
          "name": "stdout",
          "text": [
            "110\n",
            "210\n",
            "310\n"
          ]
        }
      ]
    },
    {
      "cell_type": "code",
      "source": [
        "# 142\n",
        "리스트 = [\"김밥\", \"라면\", \"튀김\"]\n",
        "for i in 리스트:\n",
        "  print(\"오늘의 메뉴:\", i)"
      ],
      "metadata": {
        "colab": {
          "base_uri": "https://localhost:8080/"
        },
        "id": "7YBx8WktGHiL",
        "outputId": "126a6d7c-ea4a-4bc0-bd78-8b96f6d136ce"
      },
      "execution_count": 32,
      "outputs": [
        {
          "output_type": "stream",
          "name": "stdout",
          "text": [
            "오늘의 메뉴: 김밥\n",
            "오늘의 메뉴: 라면\n",
            "오늘의 메뉴: 튀김\n"
          ]
        }
      ]
    },
    {
      "cell_type": "code",
      "source": [
        "# 143\n",
        "리스트 = [\"SK하이닉스\", \"삼성전자\", \"LG전자\"]\n",
        "for i in 리스트:\n",
        "  print(len(i))"
      ],
      "metadata": {
        "colab": {
          "base_uri": "https://localhost:8080/"
        },
        "id": "mfftkWa5GbcV",
        "outputId": "a9612778-3e48-4f71-dd00-0a1b1575b736"
      },
      "execution_count": 33,
      "outputs": [
        {
          "output_type": "stream",
          "name": "stdout",
          "text": [
            "6\n",
            "4\n",
            "4\n"
          ]
        }
      ]
    },
    {
      "cell_type": "code",
      "source": [
        "# 144\n",
        "리스트 = ['dog', 'cat', 'parrot']\n",
        "for i in 리스트:\n",
        "  print(i, len(i))"
      ],
      "metadata": {
        "colab": {
          "base_uri": "https://localhost:8080/"
        },
        "id": "N6gRZV9JGrwR",
        "outputId": "14d5b10f-c132-4b00-d129-9920a151b607"
      },
      "execution_count": 34,
      "outputs": [
        {
          "output_type": "stream",
          "name": "stdout",
          "text": [
            "dog 3\n",
            "cat 3\n",
            "parrot 6\n"
          ]
        }
      ]
    },
    {
      "cell_type": "code",
      "source": [
        "# 145\n",
        "리스트 = ['dog', 'cat', 'parrot']\n",
        "for i in 리스트:\n",
        "  print(i[0])"
      ],
      "metadata": {
        "colab": {
          "base_uri": "https://localhost:8080/"
        },
        "id": "gDW9vIwGG6fq",
        "outputId": "02fd4580-423c-4778-f9d8-1b6682b63a8e"
      },
      "execution_count": 35,
      "outputs": [
        {
          "output_type": "stream",
          "name": "stdout",
          "text": [
            "d\n",
            "c\n",
            "p\n"
          ]
        }
      ]
    },
    {
      "cell_type": "code",
      "source": [
        "# 146\n",
        "리스트 = [1, 2, 3]\n",
        "for i in 리스트:\n",
        "  print(3, \"x\", i)"
      ],
      "metadata": {
        "colab": {
          "base_uri": "https://localhost:8080/"
        },
        "id": "JQQYv0SrHGrJ",
        "outputId": "20918a1d-cf08-44a6-b8bc-b753a4e05fee"
      },
      "execution_count": 37,
      "outputs": [
        {
          "output_type": "stream",
          "name": "stdout",
          "text": [
            "3 x 1\n",
            "3 x 2\n",
            "3 x 3\n"
          ]
        }
      ]
    },
    {
      "cell_type": "code",
      "source": [
        "# 147\n",
        "리스트 = [1, 2, 3]\n",
        "for i in 리스트:\n",
        "  print(3, \"x\", i, \"=\", 3*i)"
      ],
      "metadata": {
        "colab": {
          "base_uri": "https://localhost:8080/"
        },
        "id": "W0__0hlfHmRW",
        "outputId": "c9487410-063e-4c63-c5dd-9b6e69079911"
      },
      "execution_count": 38,
      "outputs": [
        {
          "output_type": "stream",
          "name": "stdout",
          "text": [
            "3 x 1 = 3\n",
            "3 x 2 = 6\n",
            "3 x 3 = 9\n"
          ]
        }
      ]
    },
    {
      "cell_type": "code",
      "source": [
        "# 148\n",
        "리스트 = [\"가\", \"나\", \"다\", \"라\"]\n",
        "for i in 리스트[1::]:\n",
        "   print(i)"
      ],
      "metadata": {
        "colab": {
          "base_uri": "https://localhost:8080/"
        },
        "id": "kDPEymEtIBJw",
        "outputId": "53d0ba2a-f652-4767-e2c6-b87c8feb98bb"
      },
      "execution_count": 73,
      "outputs": [
        {
          "output_type": "stream",
          "name": "stdout",
          "text": [
            "나\n",
            "다\n",
            "라\n"
          ]
        }
      ]
    },
    {
      "cell_type": "code",
      "source": [
        "# 149\n",
        "리스트 = [\"가\", \"나\", \"다\", \"라\"]\n",
        "for i in 리스트[0::2]:\n",
        "   print(i)"
      ],
      "metadata": {
        "colab": {
          "base_uri": "https://localhost:8080/"
        },
        "id": "oIm_k4I9KxAl",
        "outputId": "28c4941d-5f71-4c88-f4ae-9d7010689e68"
      },
      "execution_count": 78,
      "outputs": [
        {
          "output_type": "stream",
          "name": "stdout",
          "text": [
            "가\n",
            "다\n"
          ]
        }
      ]
    },
    {
      "cell_type": "code",
      "source": [
        "# 150\n",
        "리스트 = [\"가\", \"나\", \"다\", \"라\"]\n",
        "for i in 리스트[::-1]:\n",
        "  print(i)"
      ],
      "metadata": {
        "colab": {
          "base_uri": "https://localhost:8080/"
        },
        "id": "JZUab2eaK03O",
        "outputId": "19da471d-60c2-4979-afc7-ffc209038c2b"
      },
      "execution_count": 70,
      "outputs": [
        {
          "output_type": "stream",
          "name": "stdout",
          "text": [
            "라\n",
            "다\n",
            "나\n",
            "가\n"
          ]
        }
      ]
    }
  ]
}