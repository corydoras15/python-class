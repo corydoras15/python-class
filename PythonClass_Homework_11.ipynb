{
  "nbformat": 4,
  "nbformat_minor": 0,
  "metadata": {
    "colab": {
      "provenance": [],
      "include_colab_link": true
    },
    "kernelspec": {
      "name": "python3",
      "display_name": "Python 3"
    },
    "language_info": {
      "name": "python"
    }
  },
  "cells": [
    {
      "cell_type": "markdown",
      "metadata": {
        "id": "view-in-github",
        "colab_type": "text"
      },
      "source": [
        "<a href=\"https://colab.research.google.com/github/corydoras15/python-class/blob/main/PythonClass_Homework_11.ipynb\" target=\"_parent\"><img src=\"https://colab.research.google.com/assets/colab-badge.svg\" alt=\"Open In Colab\"/></a>"
      ]
    },
    {
      "cell_type": "code",
      "execution_count": null,
      "metadata": {
        "colab": {
          "base_uri": "https://localhost:8080/"
        },
        "id": "4xz9p4RtA4Yu",
        "outputId": "f9aeafbd-93ca-455b-8da9-cd5b8dd804bb"
      },
      "outputs": [
        {
          "output_type": "stream",
          "name": "stdout",
          "text": [
            "32100\n",
            "32150\n",
            "32000\n",
            "32500\n"
          ]
        }
      ],
      "source": [
        "# 171\n",
        "price_list = [32100, 32150, 32000, 32500]\n",
        "for price in price_list :\n",
        "  print(price)\n",
        "  "
      ]
    },
    {
      "cell_type": "code",
      "source": [
        "# 172\n",
        "price_list = [32100, 32150, 32000, 32500]\n",
        "for i in range(4) :\n",
        "   print(i, price_list[i])\n"
      ],
      "metadata": {
        "colab": {
          "base_uri": "https://localhost:8080/"
        },
        "id": "ffp7zAIDBV4k",
        "outputId": "bbab7cd8-fe0d-4678-d9c6-179da54a0052"
      },
      "execution_count": null,
      "outputs": [
        {
          "output_type": "stream",
          "name": "stdout",
          "text": [
            "0 32100\n",
            "1 32150\n",
            "2 32000\n",
            "3 32500\n"
          ]
        }
      ]
    },
    {
      "cell_type": "code",
      "source": [
        "# 173\n",
        "price_list = [32100, 32150, 32000, 32500]\n",
        "for i in range(4) :\n",
        "   print(len(price_list)-(i+1), price_list[i])     # ??"
      ],
      "metadata": {
        "colab": {
          "base_uri": "https://localhost:8080/"
        },
        "id": "yZP-vxLiZsjz",
        "outputId": "345f53c4-793d-4728-b4a0-05ea01767315"
      },
      "execution_count": null,
      "outputs": [
        {
          "output_type": "stream",
          "name": "stdout",
          "text": [
            "3 32100\n",
            "2 32150\n",
            "1 32000\n",
            "0 32500\n"
          ]
        }
      ]
    },
    {
      "cell_type": "code",
      "source": [
        "# 174\n",
        "price_list = [32100, 32150, 32000, 32500]   \n",
        "\n",
        "# 아래와 같이 리스트의 데이터를 출력하라. 단, for 문과 range 문을 사용하라\n",
        "# 100  32150\n",
        "# 110  32000\n",
        "# 120  32500\n",
        "\n",
        "for i in range(1,4):\n",
        "  print(100+i*10,price_list[i])"
      ],
      "metadata": {
        "colab": {
          "base_uri": "https://localhost:8080/"
        },
        "id": "lqRtsvVbaxdf",
        "outputId": "aa58afdc-78ab-4342-9c7e-e074362908d9"
      },
      "execution_count": null,
      "outputs": [
        {
          "output_type": "stream",
          "name": "stdout",
          "text": [
            "110 32150\n",
            "120 32000\n",
            "130 32500\n"
          ]
        }
      ]
    },
    {
      "cell_type": "code",
      "source": [
        "# 175\n",
        "my_list = [\"가\", \"나\", \"다\", \"라\"]\n",
        "for i in range(len(my_list)-1) :\n",
        "  print(my_list[i], my_list[i+1])\n"
      ],
      "metadata": {
        "colab": {
          "base_uri": "https://localhost:8080/"
        },
        "id": "NNE9IcUvbjHM",
        "outputId": "52f67d0a-c1de-460e-a17f-68fa6f17cce9"
      },
      "execution_count": null,
      "outputs": [
        {
          "output_type": "stream",
          "name": "stdout",
          "text": [
            "가 나\n",
            "나 다\n",
            "다 라\n"
          ]
        }
      ]
    },
    {
      "cell_type": "code",
      "source": [
        "# 176\n",
        "my_list = [\"가\", \"나\", \"다\", \"라\", \"마\"]\n",
        "for i in range(len(my_list)-2) :\n",
        "  print(my_list[i], my_list[i+1], my_list[i+2])"
      ],
      "metadata": {
        "colab": {
          "base_uri": "https://localhost:8080/"
        },
        "id": "-yppW58sdAvI",
        "outputId": "bd6874fc-8c90-4ee5-9dff-39311ce91f71"
      },
      "execution_count": null,
      "outputs": [
        {
          "output_type": "stream",
          "name": "stdout",
          "text": [
            "가 나 다\n",
            "나 다 라\n",
            "다 라 마\n"
          ]
        }
      ]
    },
    {
      "cell_type": "code",
      "source": [
        "# 177\n",
        "my_list = [\"가\", \"나\", \"다\", \"라\"]\n",
        "for i in range(len(my_list)-1) :\n",
        "  print(my_list[3-i], my_list[2-i])"
      ],
      "metadata": {
        "colab": {
          "base_uri": "https://localhost:8080/"
        },
        "id": "Ysl_XaN7dGCO",
        "outputId": "5bfc5be3-8273-4075-b5ff-e7cdbec0a85f"
      },
      "execution_count": null,
      "outputs": [
        {
          "output_type": "stream",
          "name": "stdout",
          "text": [
            "라 다\n",
            "다 나\n",
            "나 가\n"
          ]
        }
      ]
    },
    {
      "cell_type": "code",
      "source": [
        "# 178\n",
        "my_list = [100, 200, 400, 800]\n",
        "\n",
        "for i in range(int(len(my_list)-1)) :\n",
        "  print(int(my_list[i+1])-int(my_list[i]))\n",
        "\n"
      ],
      "metadata": {
        "colab": {
          "base_uri": "https://localhost:8080/"
        },
        "id": "29gbOT1JdNuz",
        "outputId": "7d9ee593-1c1c-4635-bf48-1d9c90b6d889"
      },
      "execution_count": null,
      "outputs": [
        {
          "output_type": "stream",
          "name": "stdout",
          "text": [
            "100\n",
            "200\n",
            "400\n"
          ]
        }
      ]
    },
    {
      "cell_type": "code",
      "source": [
        "# 179\n",
        "my_list = [100, 200, 400, 800, 1000, 1300]\n",
        "for i in range(len(my_list)-2) :\n",
        "  print((my_list[i]+my_list[i+1]+my_list[i+2])/3)\n"
      ],
      "metadata": {
        "colab": {
          "base_uri": "https://localhost:8080/"
        },
        "id": "paxu5eY9gzeH",
        "outputId": "fd222af1-2324-4ac3-d2bb-21ff75c2d644"
      },
      "execution_count": null,
      "outputs": [
        {
          "output_type": "stream",
          "name": "stdout",
          "text": [
            "233.33333333333334\n",
            "466.6666666666667\n",
            "733.3333333333334\n",
            "1033.3333333333333\n"
          ]
        }
      ]
    },
    {
      "cell_type": "code",
      "source": [
        "# 180 -1\n",
        "low_prices  = [100, 200, 400, 800, 1000]\n",
        "high_prices = [150, 300, 430, 880, 1000]\n",
        "\n",
        "volatility = [0,0,0,0,0]\n",
        "\n",
        "for i in range(5) :\n",
        "  volatility[i] = high_prices[i] - low_prices[i]\n",
        "print(volatility)\n"
      ],
      "metadata": {
        "colab": {
          "base_uri": "https://localhost:8080/"
        },
        "id": "eCYILe9giAbz",
        "outputId": "9e0fec29-c55f-4cd6-e0c5-7ff93d25fb8c"
      },
      "execution_count": null,
      "outputs": [
        {
          "output_type": "stream",
          "name": "stdout",
          "text": [
            "[50, 100, 30, 80, 0]\n"
          ]
        }
      ]
    },
    {
      "cell_type": "code",
      "source": [
        "# 180 -2\n",
        "low_prices  = [100, 200, 400, 800, 1000]\n",
        "high_prices = [150, 300, 430, 880, 1000]\n",
        "\n",
        "volatility = []\n",
        "\n",
        "for i in range(len(low_prices)) :\n",
        "  volatility.insert(i, (high_prices[i] - low_prices[i]))\n",
        "\n",
        "print(volatility)"
      ],
      "metadata": {
        "colab": {
          "base_uri": "https://localhost:8080/"
        },
        "id": "5XlxaP0VmpY8",
        "outputId": "b31c15af-9800-4ab0-eb0f-8dc53d15c099"
      },
      "execution_count": null,
      "outputs": [
        {
          "output_type": "stream",
          "name": "stdout",
          "text": [
            "[50, 100, 30, 80, 0]\n"
          ]
        }
      ]
    },
    {
      "cell_type": "code",
      "source": [
        "# 181    이차원 리스트\n",
        "floor1 = [\"101호\", \"102호\"]\n",
        "floor2 = [\"201호\", \"202호\"]\n",
        "floor3 = [\"301호\", \"302호\"]\n",
        "\n",
        "apart = [floor1, floor2, floor3]\n",
        "\n",
        "print(apart)\n"
      ],
      "metadata": {
        "colab": {
          "base_uri": "https://localhost:8080/"
        },
        "id": "0jZXv1ESoFFa",
        "outputId": "94c78a48-9e9a-43b4-cce1-ce1c8ec94e5b"
      },
      "execution_count": null,
      "outputs": [
        {
          "output_type": "stream",
          "name": "stdout",
          "text": [
            "[['101호', '102호'], ['201호', '202호'], ['301호', '302호']]\n"
          ]
        }
      ]
    },
    {
      "cell_type": "code",
      "source": [
        "# 182\n",
        "\n",
        "opening_prices = [100,200,300]\n",
        "closing_prices = [80,210,330]\n",
        "\n",
        "stock = [opening_prices,closing_prices]\n",
        "\n",
        "print(stock)"
      ],
      "metadata": {
        "colab": {
          "base_uri": "https://localhost:8080/"
        },
        "id": "eilsPp2UqzQ9",
        "outputId": "5b6623ca-ed15-4ff5-fe60-b7ffaf53108b"
      },
      "execution_count": null,
      "outputs": [
        {
          "output_type": "stream",
          "name": "stdout",
          "text": [
            "[[100, 200, 300], [80, 210, 330]]\n"
          ]
        }
      ]
    },
    {
      "cell_type": "code",
      "source": [
        "# 183\n",
        "\n",
        "opening_prices = [100, 200, 300]\n",
        "closing_prices = [80, 210, 330]\n",
        "\n",
        "stock = {\"opening_prices\":opening_prices, \"closing_prices\":closing_prices}\n",
        "\n",
        "print(stock)"
      ],
      "metadata": {
        "colab": {
          "base_uri": "https://localhost:8080/"
        },
        "id": "92NSSKZ2ro8H",
        "outputId": "f6d704e7-c62e-4573-e72b-bf14784b7ab8"
      },
      "execution_count": null,
      "outputs": [
        {
          "output_type": "stream",
          "name": "stdout",
          "text": [
            "{'opening_prices': [100, 200, 300], 'closing_prices': [80, 210, 330]}\n"
          ]
        }
      ]
    },
    {
      "cell_type": "code",
      "source": [
        "# 184\n",
        "\n",
        "stock = {\"10/10\":[80, 110, 70, 90], \"10/11\":[210, 230, 190,200]}\n"
      ],
      "metadata": {
        "id": "mzze0bq5tP2W"
      },
      "execution_count": null,
      "outputs": []
    },
    {
      "cell_type": "code",
      "source": [
        "# 185\n",
        "apart = [ [101, 102], [201, 202], [301, 302] ]\n",
        "\n",
        "for floor in apart :\n",
        "  for num in floor :\n",
        "    print(num, \"호\")\n"
      ],
      "metadata": {
        "colab": {
          "base_uri": "https://localhost:8080/"
        },
        "id": "85T5Lp85tpjX",
        "outputId": "30e3e480-6ac1-48c3-e5b7-8a177504cf31"
      },
      "execution_count": null,
      "outputs": [
        {
          "output_type": "stream",
          "name": "stdout",
          "text": [
            "101 호\n",
            "102 호\n",
            "201 호\n",
            "202 호\n",
            "301 호\n",
            "302 호\n"
          ]
        }
      ]
    },
    {
      "cell_type": "code",
      "source": [
        "# 186\n",
        "apart = [ [101, 102], [201, 202], [301, 302] ]\n",
        "\n",
        "for floor in apart[::-1] :\n",
        "  for num in floor :\n",
        "    print(num, \"호\")          "
      ],
      "metadata": {
        "colab": {
          "base_uri": "https://localhost:8080/"
        },
        "id": "EQB1Jiq2wl0i",
        "outputId": "af5b3e7f-131d-466d-fcb3-3b110b02c48d"
      },
      "execution_count": null,
      "outputs": [
        {
          "output_type": "stream",
          "name": "stdout",
          "text": [
            "301 호\n",
            "302 호\n",
            "201 호\n",
            "202 호\n",
            "101 호\n",
            "102 호\n"
          ]
        }
      ]
    },
    {
      "cell_type": "code",
      "source": [
        "# 187\n",
        "apart = [ [101, 102], [201, 202], [301, 302] ]\n",
        "\n",
        "for floor in apart[::-1] :\n",
        "  for num in floor[::-1] :\n",
        "    print(num, \"호\")    "
      ],
      "metadata": {
        "colab": {
          "base_uri": "https://localhost:8080/"
        },
        "id": "RfvOkIR4xJMr",
        "outputId": "54c78215-d389-4bb8-ee7e-21e9df5b671a"
      },
      "execution_count": null,
      "outputs": [
        {
          "output_type": "stream",
          "name": "stdout",
          "text": [
            "302 호\n",
            "301 호\n",
            "202 호\n",
            "201 호\n",
            "102 호\n",
            "101 호\n"
          ]
        }
      ]
    },
    {
      "cell_type": "code",
      "source": [
        "# 188\n",
        "apart = [ [101, 102], [201, 202], [301, 302] ]\n",
        "\n",
        "for floor in apart :\n",
        "  for num in floor :\n",
        "    print(num, \"호\")\n",
        "    print(\"- - - - \", end = \"\")  "
      ],
      "metadata": {
        "colab": {
          "base_uri": "https://localhost:8080/"
        },
        "id": "4JNWZBoA0x4P",
        "outputId": "47b88240-9483-4247-e523-1126ed526127"
      },
      "execution_count": null,
      "outputs": [
        {
          "output_type": "stream",
          "name": "stdout",
          "text": [
            "101 호\n",
            "- - - - 102 호\n",
            "- - - - 201 호\n",
            "- - - - 202 호\n",
            "- - - - 301 호\n",
            "- - - - 302 호\n",
            "- - - - "
          ]
        }
      ]
    },
    {
      "cell_type": "code",
      "source": [
        "# 189\n",
        "apart = [ [101, 102], [201, 202], [301, 302] ]\n",
        "\n",
        "for floor in apart :\n",
        "  for num in floor :\n",
        "    print(num, \"호\")\n",
        "  print(\"- - - - \")  "
      ],
      "metadata": {
        "colab": {
          "base_uri": "https://localhost:8080/"
        },
        "id": "WvzFu-uQ1tw-",
        "outputId": "521f0ea2-5f70-4f33-ce4b-0168ef1e41d8"
      },
      "execution_count": null,
      "outputs": [
        {
          "output_type": "stream",
          "name": "stdout",
          "text": [
            "101 호\n",
            "102 호\n",
            "- - - - \n",
            "201 호\n",
            "202 호\n",
            "- - - - \n",
            "301 호\n",
            "302 호\n",
            "- - - - \n"
          ]
        }
      ]
    },
    {
      "cell_type": "code",
      "source": [
        "# 190\n",
        "apart = [ [101, 102], [201, 202], [301, 302] ]\n",
        "\n",
        "for floor in apart :\n",
        "  for num in floor :\n",
        "    print(num, \"호\")\n",
        "print(\"- - - - \")  "
      ],
      "metadata": {
        "colab": {
          "base_uri": "https://localhost:8080/"
        },
        "id": "fE-1cxfY22lj",
        "outputId": "88a3ba86-078f-4c96-a1e1-980df6fcfe6c"
      },
      "execution_count": null,
      "outputs": [
        {
          "output_type": "stream",
          "name": "stdout",
          "text": [
            "101 호\n",
            "102 호\n",
            "201 호\n",
            "202 호\n",
            "301 호\n",
            "302 호\n",
            "- - - - \n"
          ]
        }
      ]
    }
  ]
}