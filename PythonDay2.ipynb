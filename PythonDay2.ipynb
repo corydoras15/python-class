{
  "nbformat": 4,
  "nbformat_minor": 0,
  "metadata": {
    "colab": {
      "provenance": [],
      "authorship_tag": "ABX9TyNGCFjRSplDlCAVZvLUqstl",
      "include_colab_link": true
    },
    "kernelspec": {
      "name": "python3",
      "display_name": "Python 3"
    },
    "language_info": {
      "name": "python"
    }
  },
  "cells": [
    {
      "cell_type": "markdown",
      "metadata": {
        "id": "view-in-github",
        "colab_type": "text"
      },
      "source": [
        "<a href=\"https://colab.research.google.com/github/corydoras15/python-class/blob/main/PythonDay2.ipynb\" target=\"_parent\"><img src=\"https://colab.research.google.com/assets/colab-badge.svg\" alt=\"Open In Colab\"/></a>"
      ]
    },
    {
      "cell_type": "markdown",
      "source": [
        "# 제어문 \n",
        "\n",
        "if문\n",
        "- 조건을 판단하여 참열 경우와 거짓말 경우의 실행이 달라지게 흐름을 구성할 수 있다.\n",
        "-if 조건식:\n",
        " - 조건이 참일 경우\n",
        "-else:\n",
        "  - 조건이 거짓일 경우\n",
        "\n",
        "  만약에 가진 돈이 있으면 택시를 타고 만약 없으면 걸어가는 상황을 코드로 표현해보자.\n",
        " \n",
        "  - if 돈이 있으면 \n",
        "   print(\"택시를 타자\")\n",
        "  -else\n",
        "   print(\"걸어 가자\")\n",
        "   \n",
        "#if조건식1:\n",
        "  조건1이 참일 경우\n",
        "elif조건식2:\n",
        " 조건2가 참일 경우\n",
        "else:\n",
        "조건이 거짓일 경우 \n",
        " \n",
        "  \n",
        "\n"
      ],
      "metadata": {
        "id": "WxmnAqEObQBO"
      }
    },
    {
      "cell_type": "code",
      "execution_count": 9,
      "metadata": {
        "colab": {
          "base_uri": "https://localhost:8080/"
        },
        "id": "79wij7c2ZUON",
        "outputId": "9b0cfb7f-924d-466d-ce91-defebadcee2e"
      },
      "outputs": [
        {
          "output_type": "stream",
          "name": "stdout",
          "text": [
            "택시를 타자\n"
          ]
        }
      ],
      "source": [
        "money = True\n",
        "\n",
        "if money == True:\n",
        "    print(\"택시를 타자\")\n",
        "else:\n",
        "    print(\"걸어 가자\")"
      ]
    },
    {
      "cell_type": "code",
      "source": [
        "money = 500\n",
        "\n",
        "if money >= 5000:\n",
        "    print(\"택시를 타자\")\n",
        "elif money >= 1000:\n",
        "    print(\"버스를 타자\")\n",
        "else:\n",
        "    print(\"걸어 가자\")"
      ],
      "metadata": {
        "colab": {
          "base_uri": "https://localhost:8080/"
        },
        "id": "uuF9YgCMzFP_",
        "outputId": "fae04671-33a2-4196-a2bc-57b9a1ba90e5"
      },
      "execution_count": 2,
      "outputs": [
        {
          "output_type": "stream",
          "name": "stdout",
          "text": [
            "걸어 가자\n"
          ]
        }
      ]
    },
    {
      "cell_type": "code",
      "source": [
        "# 학생의 성적을 입력 받아서 \n",
        "#점수가 90 이상이면 'A학점 입니다.'\n",
        "#점수가 80 이상이면 'B학점 입니다.'\n",
        "#점수가 70 이상이면 'C학점 입니다.'\n",
        "#점수가 60 이상이면 'D학점 입니다.'\n",
        "#나머지는 모두 \"F학점입니다.\"\n",
        "\n",
        "score = 90\n",
        "\n",
        "if score >= 90:\n",
        "    print(\"A학점 입니다.\")\n",
        "elif score >= 80:\n",
        "    print(\"B학점 입니다.\")\n",
        "elif score >= 70:\n",
        "    print(\"C학점 입니다.\")\n",
        "elif score >= 60:\n",
        "    print(\"D학점 입니다.\")\n",
        "else:\n",
        "    print(\"F학점 입니다.\")"
      ],
      "metadata": {
        "colab": {
          "base_uri": "https://localhost:8080/"
        },
        "id": "x6QFquqLzImX",
        "outputId": "4892c045-26fc-47a1-ba0f-b89f9a55343c"
      },
      "execution_count": 3,
      "outputs": [
        {
          "output_type": "stream",
          "name": "stdout",
          "text": [
            "A학점 입니다.\n"
          ]
        }
      ]
    },
    {
      "cell_type": "markdown",
      "source": [
        "# 반복문 while, for\n",
        "\n",
        "파이썬에서의 반복문의 while for 두가지로 사용할 수 있다.\n",
        "while로 구현할 수 있는 모든 반복문은 for로도 구현할 수 있고 그 반대의 경우에도 100% 가능하다.\n",
        "\n",
        "하지만 while은 반복 횟수가 정확하지 않을 경우 주로 사용되고 for문은 반복횟수가 명확할 때 주로 사용된다.\n",
        "\n",
        "- while 조건:\n",
        " - 조건을 만족할 경우 수행할 구문 "
      ],
      "metadata": {
        "id": "e6OFXGwdzPWn"
      }
    },
    {
      "cell_type": "code",
      "source": [
        "# while\n",
        "\n",
        "no = 10\n",
        "\n",
        "while no >= 0:\n",
        "    print(no)\n",
        "    no = no - 1"
      ],
      "metadata": {
        "colab": {
          "base_uri": "https://localhost:8080/"
        },
        "id": "43a6ifiV1RLO",
        "outputId": "79361c43-f87b-4801-8701-79a69b32a367"
      },
      "execution_count": 4,
      "outputs": [
        {
          "output_type": "stream",
          "name": "stdout",
          "text": [
            "10\n",
            "9\n",
            "8\n",
            "7\n",
            "6\n",
            "5\n",
            "4\n",
            "3\n",
            "2\n",
            "1\n",
            "0\n"
          ]
        }
      ]
    },
    {
      "cell_type": "markdown",
      "source": [
        "아래와 같은 경우 5 종료를 선택할 때 까지 반복 횟수가 정확하지 않"
      ],
      "metadata": {
        "id": "BTlNvhsN2n30"
      }
    },
    {
      "cell_type": "code",
      "source": [
        "prompt = \"1. 덧셈 / 2. 뺄셈 / 3. 곱셈 / 4. 나눗셈 / 5. 종료\"\n",
        "no = 0\n",
        "\n",
        "while no <= 4:\n",
        "    print(prompt)\n",
        "    no = int(input())"
      ],
      "metadata": {
        "colab": {
          "base_uri": "https://localhost:8080/"
        },
        "id": "g8ujNS8-2mLl",
        "outputId": "9fae1b84-00d6-4eae-f91d-c3abae323d3e"
      },
      "execution_count": 5,
      "outputs": [
        {
          "name": "stdout",
          "output_type": "stream",
          "text": [
            "1. 덧셈 / 2. 뺄셈 / 3. 곱셈 / 4. 나눗셈 / 5. 종료\n",
            "5\n"
          ]
        }
      ]
    },
    {
      "cell_type": "markdown",
      "source": [
        "while 문의 경우에는 반복 횟수가 정확하지 않을 경우가 많기 때문에 조건에서 뿐만이 아니라 중간에 반복을 종료 시키는 방법도 필요하다."
      ],
      "metadata": {
        "id": "YhAl_8mW27rk"
      }
    },
    {
      "cell_type": "code",
      "source": [
        "no = 0\n",
        "\n",
        "while no <= 10:\n",
        "    print(no)\n",
        "    no = no + 1"
      ],
      "metadata": {
        "colab": {
          "base_uri": "https://localhost:8080/"
        },
        "id": "OQQL9AtG4N_8",
        "outputId": "69d97d15-4f26-4206-9009-78451fd7cc62"
      },
      "execution_count": 6,
      "outputs": [
        {
          "output_type": "stream",
          "name": "stdout",
          "text": [
            "0\n",
            "1\n",
            "2\n",
            "3\n",
            "4\n",
            "5\n",
            "6\n",
            "7\n",
            "8\n",
            "9\n",
            "10\n"
          ]
        }
      ]
    },
    {
      "cell_type": "code",
      "source": [
        "no = 0\n",
        "\n",
        "while True:\n",
        "    print(no)\n",
        "    no = no + 1\n",
        "    \n",
        "    if no > 10:\n",
        "        break"
      ],
      "metadata": {
        "colab": {
          "base_uri": "https://localhost:8080/"
        },
        "id": "Z51EMyJu4Ofk",
        "outputId": "e23206c8-bf87-4451-96c1-013dd3a1d461"
      },
      "execution_count": 7,
      "outputs": [
        {
          "output_type": "stream",
          "name": "stdout",
          "text": [
            "0\n",
            "1\n",
            "2\n",
            "3\n",
            "4\n",
            "5\n",
            "6\n",
            "7\n",
            "8\n",
            "9\n",
            "10\n"
          ]
        }
      ]
    },
    {
      "cell_type": "markdown",
      "source": [
        "while 문을 사용하여 1부터 100까지의 수 중 3의 배수만의 합을 구하시오."
      ],
      "metadata": {
        "id": "2K-S3zxe6yER"
      }
    },
    {
      "cell_type": "code",
      "source": [
        "no = 1\n",
        "sum = 0\n",
        "\n",
        "while True:\n",
        "    if no % 3 == 0:\n",
        "        sum = sum + no\n",
        "        no = no + 3\n",
        "    else:\n",
        "        no = no + 1\n",
        "        \n",
        "    if no > 100:\n",
        "        break\n",
        "        \n",
        "print(sum)"
      ],
      "metadata": {
        "colab": {
          "base_uri": "https://localhost:8080/"
        },
        "id": "U4dGBkc6BfBl",
        "outputId": "9b5721ae-1dfe-4e20-a3f8-5940419a0e73"
      },
      "execution_count": 13,
      "outputs": [
        {
          "output_type": "stream",
          "name": "stdout",
          "text": [
            "1683\n"
          ]
        }
      ]
    },
    {
      "cell_type": "code",
      "source": [
        "no = 1\n",
        "sum = 0\n",
        "\n",
        "while no <= 100:\n",
        "    if no % 3 == 0:\n",
        "        sum = sum + no\n",
        "        \n",
        "    no = no + 1 # no += 1    java no++:\n",
        "    \n",
        "print(sum)"
      ],
      "metadata": {
        "colab": {
          "base_uri": "https://localhost:8080/"
        },
        "id": "0_mwa40QSHxT",
        "outputId": "b9c86616-9653-4d57-ffb4-2a37dc30a03f"
      },
      "execution_count": 12,
      "outputs": [
        {
          "output_type": "stream",
          "name": "stdout",
          "text": [
            "1683\n"
          ]
        }
      ]
    },
    {
      "cell_type": "markdown",
      "source": [
        " # For문\n",
        " \n",
        " while은 반복 횟수가 정확하지 않을 경우 주로 사용되고 for문은 반복횟수가 명확할 때 주로 사용된다.\n",
        "\n",
        " for 변수명 in 리스트()\n",
        "     수행구문"
      ],
      "metadata": {
        "id": "SBqrKmP-SNf7"
      }
    },
    {
      "cell_type": "code",
      "source": [
        "# for 구문\n",
        "\n",
        "for i in [1,2,3,4,5,6,7,8,9,10]:\n",
        "  print(i)"
      ],
      "metadata": {
        "colab": {
          "base_uri": "https://localhost:8080/"
        },
        "id": "HB7WD1fTStZZ",
        "outputId": "cbdbf227-db40-4ebf-8d38-f4c7cb079295"
      },
      "execution_count": 14,
      "outputs": [
        {
          "output_type": "stream",
          "name": "stdout",
          "text": [
            "1\n",
            "2\n",
            "3\n",
            "4\n",
            "5\n",
            "6\n",
            "7\n",
            "8\n",
            "9\n",
            "10\n"
          ]
        }
      ]
    },
    {
      "cell_type": "code",
      "source": [
        "math = [80, 90, 70, 70, 100]\n",
        "\n",
        "j = 1\n",
        "for i in math:\n",
        "  \n",
        "  if i >= 90:\n",
        "    print(j, \"번째 학생은 합격입니다.\")\n",
        "  else:\n",
        "    print(j, \"번째 학생은 불합격입니다.\")  \n",
        "  j += 1"
      ],
      "metadata": {
        "colab": {
          "base_uri": "https://localhost:8080/"
        },
        "id": "4-3QCCUETQVT",
        "outputId": "fa7db2e9-1dcb-4531-cb92-40af899b4a69"
      },
      "execution_count": 15,
      "outputs": [
        {
          "output_type": "stream",
          "name": "stdout",
          "text": [
            "1 번째 학생은 불합격입니다.\n",
            "2 번째 학생은 합격입니다.\n",
            "3 번째 학생은 불합격입니다.\n",
            "4 번째 학생은 불합격입니다.\n",
            "5 번째 학생은 합격입니다.\n"
          ]
        }
      ]
    },
    {
      "cell_type": "code",
      "source": [
        "for i in [1,2,3,4,5,6,7,8,9,10]:\n",
        "    if i % 2 == 0:\n",
        "     print(i)"
      ],
      "metadata": {
        "colab": {
          "base_uri": "https://localhost:8080/"
        },
        "id": "S81R_vMsUkSa",
        "outputId": "3a55076e-731b-42f3-b118-ffeba77fb0fb"
      },
      "execution_count": 21,
      "outputs": [
        {
          "output_type": "stream",
          "name": "stdout",
          "text": [
            "2\n",
            "4\n",
            "6\n",
            "8\n",
            "10\n"
          ]
        }
      ]
    },
    {
      "cell_type": "code",
      "source": [
        "for i in [1,2,3,4,5,6,7,8,9,10]:\n",
        "    if i % 2 == 0:\n",
        "     continue\n",
        "\n",
        "print(i)      "
      ],
      "metadata": {
        "colab": {
          "base_uri": "https://localhost:8080/"
        },
        "id": "VzOVMMavVJ_q",
        "outputId": "d913147f-8324-4a20-de2c-7d7631670a57"
      },
      "execution_count": 30,
      "outputs": [
        {
          "output_type": "stream",
          "name": "stdout",
          "text": [
            "10\n"
          ]
        }
      ]
    },
    {
      "cell_type": "code",
      "source": [
        "# range 함수\n",
        "\n",
        "#숫자를 자동으로 생성해준다. for문과 함께 사용되는 경우가 아주 많다.\n",
        "\n",
        "for i in range(1,11):  #두번째 수는 미만\n",
        "  print(i)"
      ],
      "metadata": {
        "colab": {
          "base_uri": "https://localhost:8080/"
        },
        "id": "dpWN-9WiVpN5",
        "outputId": "ef94a7bd-d0d3-4199-e0fd-1f67ebadf1fa"
      },
      "execution_count": 51,
      "outputs": [
        {
          "output_type": "stream",
          "name": "stdout",
          "text": [
            "1\n",
            "2\n",
            "3\n",
            "4\n",
            "5\n",
            "6\n",
            "7\n",
            "8\n",
            "9\n",
            "10\n",
            "\n"
          ]
        }
      ]
    },
    {
      "cell_type": "code",
      "source": [
        "# for문 으로 구구단 출력하기\n",
        "\n",
        "for i in range(2,10):  # i는 단을 표현\n",
        "    for j in range(1,10):\n",
        "      print(i, \"*\",j, \"=\", i*j, end=\"\\t\")\n",
        "    print()  "
      ],
      "metadata": {
        "colab": {
          "base_uri": "https://localhost:8080/"
        },
        "id": "K-5XjzKZWhow",
        "outputId": "7bfa57b5-db0c-4f7f-ca55-e35f19e61672"
      },
      "execution_count": 48,
      "outputs": [
        {
          "output_type": "stream",
          "name": "stdout",
          "text": [
            "2 * 1 = 2\t2 * 2 = 4\t2 * 3 = 6\t2 * 4 = 8\t2 * 5 = 10\t2 * 6 = 12\t2 * 7 = 14\t2 * 8 = 16\t2 * 9 = 18\t\n",
            "3 * 1 = 3\t3 * 2 = 6\t3 * 3 = 9\t3 * 4 = 12\t3 * 5 = 15\t3 * 6 = 18\t3 * 7 = 21\t3 * 8 = 24\t3 * 9 = 27\t\n",
            "4 * 1 = 4\t4 * 2 = 8\t4 * 3 = 12\t4 * 4 = 16\t4 * 5 = 20\t4 * 6 = 24\t4 * 7 = 28\t4 * 8 = 32\t4 * 9 = 36\t\n",
            "5 * 1 = 5\t5 * 2 = 10\t5 * 3 = 15\t5 * 4 = 20\t5 * 5 = 25\t5 * 6 = 30\t5 * 7 = 35\t5 * 8 = 40\t5 * 9 = 45\t\n",
            "6 * 1 = 6\t6 * 2 = 12\t6 * 3 = 18\t6 * 4 = 24\t6 * 5 = 30\t6 * 6 = 36\t6 * 7 = 42\t6 * 8 = 48\t6 * 9 = 54\t\n",
            "7 * 1 = 7\t7 * 2 = 14\t7 * 3 = 21\t7 * 4 = 28\t7 * 5 = 35\t7 * 6 = 42\t7 * 7 = 49\t7 * 8 = 56\t7 * 9 = 63\t\n",
            "8 * 1 = 8\t8 * 2 = 16\t8 * 3 = 24\t8 * 4 = 32\t8 * 5 = 40\t8 * 6 = 48\t8 * 7 = 56\t8 * 8 = 64\t8 * 9 = 72\t\n",
            "9 * 1 = 9\t9 * 2 = 18\t9 * 3 = 27\t9 * 4 = 36\t9 * 5 = 45\t9 * 6 = 54\t9 * 7 = 63\t9 * 8 = 72\t9 * 9 = 81\t\n"
          ]
        }
      ]
    },
    {
      "cell_type": "code",
      "source": [
        "for i in range(1,10):\n",
        "    for j in range(2,10):\n",
        "    \n",
        "      print(j, \"*\",i, \"=\", i*j, end=\"\\t\")\n",
        "    print() "
      ],
      "metadata": {
        "colab": {
          "base_uri": "https://localhost:8080/"
        },
        "id": "rQRorwYqYS4I",
        "outputId": "83f0166e-ab8f-4534-c475-2175ecbf7ae9"
      },
      "execution_count": 46,
      "outputs": [
        {
          "output_type": "stream",
          "name": "stdout",
          "text": [
            "2 * 1 = 2\t3 * 1 = 3\t4 * 1 = 4\t5 * 1 = 5\t6 * 1 = 6\t7 * 1 = 7\t8 * 1 = 8\t9 * 1 = 9\t\n",
            "2 * 2 = 4\t3 * 2 = 6\t4 * 2 = 8\t5 * 2 = 10\t6 * 2 = 12\t7 * 2 = 14\t8 * 2 = 16\t9 * 2 = 18\t\n",
            "2 * 3 = 6\t3 * 3 = 9\t4 * 3 = 12\t5 * 3 = 15\t6 * 3 = 18\t7 * 3 = 21\t8 * 3 = 24\t9 * 3 = 27\t\n",
            "2 * 4 = 8\t3 * 4 = 12\t4 * 4 = 16\t5 * 4 = 20\t6 * 4 = 24\t7 * 4 = 28\t8 * 4 = 32\t9 * 4 = 36\t\n",
            "2 * 5 = 10\t3 * 5 = 15\t4 * 5 = 20\t5 * 5 = 25\t6 * 5 = 30\t7 * 5 = 35\t8 * 5 = 40\t9 * 5 = 45\t\n",
            "2 * 6 = 12\t3 * 6 = 18\t4 * 6 = 24\t5 * 6 = 30\t6 * 6 = 36\t7 * 6 = 42\t8 * 6 = 48\t9 * 6 = 54\t\n",
            "2 * 7 = 14\t3 * 7 = 21\t4 * 7 = 28\t5 * 7 = 35\t6 * 7 = 42\t7 * 7 = 49\t8 * 7 = 56\t9 * 7 = 63\t\n",
            "2 * 8 = 16\t3 * 8 = 24\t4 * 8 = 32\t5 * 8 = 40\t6 * 8 = 48\t7 * 8 = 56\t8 * 8 = 64\t9 * 8 = 72\t\n",
            "2 * 9 = 18\t3 * 9 = 27\t4 * 9 = 36\t5 * 9 = 45\t6 * 9 = 54\t7 * 9 = 63\t8 * 9 = 72\t9 * 9 = 81\t\n"
          ]
        }
      ]
    },
    {
      "cell_type": "code",
      "source": [
        "# range를 사용하여 100이하의 수중 짝수들만의 합계를 구하세요\n",
        "sum = 0\n",
        "\n",
        "for i in range(1,101):\n",
        "  if i % 2 == 0:\n",
        "    sum += i\n",
        "    \n",
        "print(sum)\n",
        "\n",
        "# range(start, stop, step)\n",
        "\n",
        "# for i in range(11):  # start를 생략하면 0에서 시작\n",
        "#     print(i)\n",
        "\n",
        "for i in range(0,11,2):   # stop 을 생략하면 1씩 증가\n",
        "    print(i)"
      ],
      "metadata": {
        "colab": {
          "base_uri": "https://localhost:8080/"
        },
        "id": "6VPnprq7bg42",
        "outputId": "c1cbc7a8-19c5-4f1f-8b43-3a6c9956f0f5"
      },
      "execution_count": 57,
      "outputs": [
        {
          "output_type": "stream",
          "name": "stdout",
          "text": [
            "2550\n",
            "0\n",
            "2\n",
            "4\n",
            "6\n",
            "8\n",
            "10\n"
          ]
        }
      ]
    },
    {
      "cell_type": "code",
      "source": [
        "# 리스트 축약/내포 List Comprehension\n",
        "# 라스트를 좀더 편리하고 직관적으로 만드는 방법이다.\n",
        "\n",
        "list1 = [1,2,3,4]\n",
        "print(list1)\n",
        "\n",
        "list2 = [a for a in list1]\n",
        "print(list2)\n",
        "\n",
        "list3 = [num*2 for num in list1]\n",
        "print(list3)\n",
        "\n",
        "list4 = [num for num in list1 if num % 2 == 0]\n",
        "print(list4)"
      ],
      "metadata": {
        "colab": {
          "base_uri": "https://localhost:8080/"
        },
        "id": "ky_hfkj1eWuk",
        "outputId": "3bac5a7e-51c6-422c-a8f0-36cc11c06372"
      },
      "execution_count": 63,
      "outputs": [
        {
          "output_type": "stream",
          "name": "stdout",
          "text": [
            "[1, 2, 3, 4]\n",
            "[1, 2, 3, 4]\n",
            "[2, 4, 6, 8]\n",
            "[2, 4]\n"
          ]
        }
      ]
    },
    {
      "cell_type": "code",
      "source": [
        "no = 70\n",
        "\n",
        "if no >= 70:\n",
        "  print(\"합격입니다.\")\n",
        "else:\n",
        "   print(\"불합격입니다.\") \n",
        "\n",
        "print(\"합격입니다.\" if no >=80 else \"불합격입니다.\") "
      ],
      "metadata": {
        "colab": {
          "base_uri": "https://localhost:8080/"
        },
        "id": "gjiXETDSgcAM",
        "outputId": "d5e85356-fc55-4ec3-eb78-7fece5655a2d"
      },
      "execution_count": 69,
      "outputs": [
        {
          "output_type": "stream",
          "name": "stdout",
          "text": [
            "합격입니다.\n",
            "불합격입니다.\n"
          ]
        }
      ]
    }
  ]
}