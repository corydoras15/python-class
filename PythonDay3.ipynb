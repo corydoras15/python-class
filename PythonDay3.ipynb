{
  "nbformat": 4,
  "nbformat_minor": 0,
  "metadata": {
    "colab": {
      "provenance": [],
      "authorship_tag": "ABX9TyOKU+Tb7m435W56K+jnST9t",
      "include_colab_link": true
    },
    "kernelspec": {
      "name": "python3",
      "display_name": "Python 3"
    },
    "language_info": {
      "name": "python"
    }
  },
  "cells": [
    {
      "cell_type": "markdown",
      "metadata": {
        "id": "view-in-github",
        "colab_type": "text"
      },
      "source": [
        "<a href=\"https://colab.research.google.com/github/corydoras15/python-class/blob/main/PythonDay3.ipynb\" target=\"_parent\"><img src=\"https://colab.research.google.com/assets/colab-badge.svg\" alt=\"Open In Colab\"/></a>"
      ]
    },
    {
      "cell_type": "code",
      "execution_count": null,
      "metadata": {
        "id": "NY0QnmTaHzoN"
      },
      "outputs": [],
      "source": []
    },
    {
      "cell_type": "markdown",
      "source": [
        "## 함수 Fuction\n",
        "수학에서의 함수와 개념이 거의 같다. 2x + 1 = y\n",
        "\n",
        "믹서기를 생각해보자. 바나나 → 바나나주스, 딸기 → 딸기주스\n",
        "\n",
        "프로그래밍을 하다보면 반복하여 비슷한 작업을 할 경우가 무지무지 많다.  이럴때 함수를 사용하게 되면 불필요한 반복적은 코드의 사용을 줄일수 있다. \n",
        "\n",
        "한번 작성한 코드를 다음에 나중에 다른 프로그램을 작성할때 그대로 가져다가 사용할수 있기 때문에 효율성을 높이는 방법으로 함수를 사용하여 다른 프로젝트에서도 재사용할수 있다."
      ],
      "metadata": {
        "id": "e-Q0_o6WIG-2"
      }
    },
    {
      "cell_type": "code",
      "source": [
        "# 함수의 기본형\n",
        "\n",
        "#def 함수이름(변수):\n",
        "#  수행구문\n",
        "\n",
        "def add(a, b):\n",
        "  return a + b\n",
        "print(add(1,3))"
      ],
      "metadata": {
        "colab": {
          "base_uri": "https://localhost:8080/"
        },
        "id": "kscYNi-AIUWj",
        "outputId": "f57fcfb0-c1d8-4fb1-8b1c-bea39b6e1f2d"
      },
      "execution_count": null,
      "outputs": [
        {
          "output_type": "stream",
          "name": "stdout",
          "text": [
            "4\n"
          ]
        }
      ]
    },
    {
      "cell_type": "code",
      "source": [
        "#isodd(3)\n",
        "#홀수입니다.\n",
        "\n",
        "#isodd(4)\n",
        "#짝수입니다.\n",
        "\n",
        "def isodd(no):\n",
        "  if no % 2 == 0:\n",
        "    print(\"짝수입니다.\")\n",
        "  else:\n",
        "    print(\"홀수입니다.\")\n",
        "isodd(3)\n",
        "isodd(4)"
      ],
      "metadata": {
        "colab": {
          "base_uri": "https://localhost:8080/"
        },
        "id": "4QINdgXHI8vR",
        "outputId": "ab21580e-9c15-42f4-9ca0-677b27abd779"
      },
      "execution_count": null,
      "outputs": [
        {
          "output_type": "stream",
          "name": "stdout",
          "text": [
            "홀수입니다.\n",
            "짝수입니다.\n"
          ]
        }
      ]
    },
    {
      "cell_type": "code",
      "source": [
        "#avgnum(1,2,3)\n",
        "#2\n",
        "\n",
        "#avgnum(1,2,3,4,5)\n",
        "#3\n",
        "\n",
        "\n",
        "def avgnum(*no):\n",
        "  a = 0\n",
        "  for i in no:\n",
        "    a = a + i\n",
        "  return a / len(no)\n",
        "print(avgnum(1,2))\n",
        "print(avgnum(1, 2, 3, 4, 5))"
      ],
      "metadata": {
        "colab": {
          "base_uri": "https://localhost:8080/"
        },
        "id": "SyaDxVEiJkuU",
        "outputId": "10a403b2-3139-4a99-8f59-6bda8da4197e"
      },
      "execution_count": null,
      "outputs": [
        {
          "output_type": "stream",
          "name": "stdout",
          "text": [
            "1.5\n",
            "3.0\n"
          ]
        }
      ]
    },
    {
      "cell_type": "markdown",
      "source": [
        "## 파일 읽고 / 쓰기\n",
        "\n",
        ".csv  .xlsx"
      ],
      "metadata": {
        "id": "-Vps6aa4MEdc"
      }
    },
    {
      "cell_type": "code",
      "source": [
        "# 파일을 새로 만들어서 내용 넣기\n",
        "\n",
        "f = open(\"newfile2.txt\",\"w\")  # 새 파일 만들어서 열고\n",
        " \n",
        "for i in range(1,11):         # 파일에 여러 데이터 넣기\n",
        "    data = \"%d line \\n\" % i\n",
        "    f.write(data)\n",
        "\n",
        "f.close()"
      ],
      "metadata": {
        "id": "jrKCkpDkMDpc"
      },
      "execution_count": null,
      "outputs": []
    },
    {
      "cell_type": "code",
      "source": [
        "# 파일 읽어오기\n",
        "\n",
        "f = open(\"newfile2.txt\",\"r\")\n",
        "\n",
        "while True:\n",
        "    line = f.readline()\n",
        "    if not line: break\n",
        "    print(line)\n",
        "\n",
        "f.close()"
      ],
      "metadata": {
        "colab": {
          "base_uri": "https://localhost:8080/"
        },
        "id": "9w8zYpItMeS2",
        "outputId": "a776d802-9311-4046-84fd-1cecde442082"
      },
      "execution_count": null,
      "outputs": [
        {
          "output_type": "stream",
          "name": "stdout",
          "text": [
            "1 line \n",
            "\n",
            "2 line \n",
            "\n",
            "3 line \n",
            "\n",
            "4 line \n",
            "\n",
            "5 line \n",
            "\n",
            "6 line \n",
            "\n",
            "7 line \n",
            "\n",
            "8 line \n",
            "\n",
            "9 line \n",
            "\n",
            "10 line \n",
            "\n"
          ]
        }
      ]
    },
    {
      "cell_type": "markdown",
      "source": [
        "# **객체지향프로그래밍 OOP**\n",
        "object oriented programming  \n",
        "\n",
        "클래스 class \n",
        "\n",
        "클래스로 객체를 생성한다. \n",
        "\n",
        "C언어는 객체지향 언어가 아니어도 충분히 오랜시간동안 사랑을 받아온 언어이다. 따라서 객체지향이 프로그래밍에서의 필수 조건은 아니다. 즉 반드시 필요한 개념은 아니다. \n",
        "\n",
        "하지만…..객체지향을 사용하면 상당히 얻을 수 있는 유익이 크다."
      ],
      "metadata": {
        "id": "su_hmDLTMihE"
      }
    },
    {
      "cell_type": "code",
      "source": [
        "result1 = 0\n",
        "result2 = 0\n",
        "\n",
        "def add1(num):\n",
        "    global result1\n",
        "    result1 += num\n",
        "    return result1\n",
        "\n",
        "def add2(num):\n",
        "    global result2\n",
        "    result2 += num\n",
        "    return result2\n",
        "\n",
        "print(add1(3))\n",
        "print(add1(2))\n",
        "print(add2(1))\n",
        "print(add2(2))"
      ],
      "metadata": {
        "colab": {
          "base_uri": "https://localhost:8080/"
        },
        "id": "dvcA9uQqMwK0",
        "outputId": "59c8f151-5ab3-48f2-d1a4-601c4124a27a"
      },
      "execution_count": null,
      "outputs": [
        {
          "output_type": "stream",
          "name": "stdout",
          "text": [
            "3\n",
            "5\n",
            "1\n",
            "3\n"
          ]
        }
      ]
    },
    {
      "cell_type": "markdown",
      "source": [
        "위와 같은 방식으로 계산기가 필요할때 마다 새로운 코드로 생성을 하게 된다면 상당한 코드의 중복 사용은 물론 유지보수면에서도 불편함이 배가된다. "
      ],
      "metadata": {
        "id": "PTdtNpqLMz5m"
      }
    },
    {
      "cell_type": "code",
      "source": [
        "class Cal:\n",
        "\n",
        "    def __init__(self):  # 생성자\n",
        "        self.result = 0\n",
        "\n",
        "    def add(self,num):   # 매서드 (함수가 아닌 매서드)\n",
        "        self.result += num\n",
        "        return self.result\n",
        "\n",
        "cal1 = Cal()\n",
        "cal2 = Cal()\n",
        "cal3 = Cal()\n",
        "\n",
        "print(cal1.add(3))\n",
        "print(cal1.add(2))\n",
        "print()\n",
        "print(cal2.add(1))\n",
        "print(cal2.add(2))\n",
        "print()\n",
        "print(cal3.add(1))\n",
        "print(cal3.add(2))\n",
        "print(cal3.add(3))"
      ],
      "metadata": {
        "colab": {
          "base_uri": "https://localhost:8080/"
        },
        "id": "mf7hiQnUM2Y4",
        "outputId": "84263730-0a1a-4eee-8b58-0331ffe0ca4f"
      },
      "execution_count": null,
      "outputs": [
        {
          "output_type": "stream",
          "name": "stdout",
          "text": [
            "3\n",
            "5\n",
            "\n",
            "1\n",
            "3\n",
            "\n",
            "1\n",
            "3\n",
            "6\n"
          ]
        }
      ]
    },
    {
      "cell_type": "markdown",
      "source": [
        "# 1 함수(function)가 클래스 안에서 구현될때는 매서드(method)라고 부른다.\n",
        "\n",
        "# 2 매서드의 매개변수 자리의 맨 앞에 self는 그 매서드를 호출한 객체의 이름이 온다."
      ],
      "metadata": {
        "id": "TnB7ebCSNKED"
      }
    },
    {
      "cell_type": "code",
      "source": [
        "class Cal:\n",
        "    def setdata(self, first, second):\n",
        "        self.first = first\n",
        "        self.second = second\n",
        "\n",
        "    def add(self):\n",
        "        result = self.first + self.second\n",
        "        return result\n",
        "\n",
        "    def mul(self):\n",
        "        result = self.first * self.second\n",
        "        return result\n",
        "\n",
        "cal1 = Cal() \n",
        "cal1.setdata(1,2)\n",
        "print(cal1.add())\n",
        "print(cal1.mul())\n",
        "cal2 = Cal() \n",
        "cal2.setdata(3,4)\n",
        "print(cal2.add())\n",
        "print(cal2.mul())"
      ],
      "metadata": {
        "colab": {
          "base_uri": "https://localhost:8080/"
        },
        "id": "GNGRfUcHNNii",
        "outputId": "fab54f30-5bec-4449-9019-263902aca1b1"
      },
      "execution_count": null,
      "outputs": [
        {
          "output_type": "stream",
          "name": "stdout",
          "text": [
            "3\n",
            "2\n",
            "7\n",
            "12\n"
          ]
        }
      ]
    },
    {
      "cell_type": "markdown",
      "source": [
        "생성자는 클래스로 객체를 생성할때 자동으로 호출되는 매서드로 파이썬에서는 _ _ init _ _ 으로 생성자를 만든다. "
      ],
      "metadata": {
        "id": "H7KQR74ENb4_"
      }
    },
    {
      "cell_type": "code",
      "source": [
        "class Cal:\n",
        "    def __init__(self, first, second):\n",
        "        self.first = first\n",
        "        self.second = second\n",
        "    # def setdata(self, first, second):\n",
        "    #     self.first = first\n",
        "    #     self.second = second\n",
        "\n",
        "    def add(self):\n",
        "        result = self.first + self.second\n",
        "        return result\n",
        "\n",
        "    def mul(self):\n",
        "        result = self.first * self.second\n",
        "        return result\n",
        "\n",
        "cal1 = Cal(1,2) \n",
        "# cal1.setdata(1,2)\n",
        "print(cal1.add())\n",
        "print(cal1.mul())\n",
        "cal2 = Cal(3,4) \n",
        "# cal2.setdata(3,4)\n",
        "print(cal2.add())\n",
        "print(cal2.mul())"
      ],
      "metadata": {
        "colab": {
          "base_uri": "https://localhost:8080/"
        },
        "id": "kTYK18BTNiiA",
        "outputId": "b17444df-a9bc-4454-b270-21b1dd25ad59"
      },
      "execution_count": null,
      "outputs": [
        {
          "output_type": "stream",
          "name": "stdout",
          "text": [
            "3\n",
            "2\n",
            "7\n",
            "12\n"
          ]
        }
      ]
    },
    {
      "cell_type": "markdown",
      "source": [
        "상속 inheritance\n",
        "\n",
        "상속은 물려받는다는 뜻으로 현실세계의 상속과 비슷한 개념이다. 상속은 객체지향 프로그래밍에서 아주 중요한 요소이다. 특히 파이썬은 여러 클래스에서 한번에 상속(다중상속)을 받을수 있는 특징이 있다. \n",
        "\n",
        "일반적으로 상속을 받은 자식 클래스가 부모 클래스보다 많은 기능을 구현하게 된다. (부모기능+본인기능)"
      ],
      "metadata": {
        "id": "6GKUYKwiNxVv"
      }
    },
    {
      "cell_type": "code",
      "source": [
        "# 상속 \n",
        "class Cal:\n",
        "    def __init__(self, first, second):\n",
        "        self.first = first\n",
        "        self.second = second\n",
        "\n",
        "    def add(self):\n",
        "        result = self.first + self.second\n",
        "        return result\n",
        "\n",
        "    def mul(self):\n",
        "        result = self.first * self.second\n",
        "        return result\n",
        "\n",
        "\n",
        "class MoreCal(Cal):\n",
        "    def sub(self):\n",
        "        result = self.first - self.second\n",
        "        return result\n",
        "\n",
        "cal3 = MoreCal(3,2)\n",
        "#cal3.add()\n",
        "cal3.sub()\n",
        "\n",
        "cal4 = Cal(2,1)\n",
        "cal4.add()\n",
        "#cal4.sub()"
      ],
      "metadata": {
        "colab": {
          "base_uri": "https://localhost:8080/"
        },
        "id": "Uu9KsWn4N0V8",
        "outputId": "9f7f229a-55f4-4d5e-dfe7-0a2632376c18"
      },
      "execution_count": null,
      "outputs": [
        {
          "output_type": "execute_result",
          "data": {
            "text/plain": [
              "3"
            ]
          },
          "metadata": {},
          "execution_count": 37
        }
      ]
    },
    {
      "cell_type": "markdown",
      "source": [
        "매서드 오버라이딩 method overriding\n",
        "\n",
        "부모가 가진 매서드명과 동일한 이름으로 자식 클래스에 구현을 하게되면 부모의 매서드가 실행되지 않고 자식에 구현된 매서드가 동작을 하게 된다. \n",
        "\n",
        "보통 부모 매서드의 기능을 보완거나 확장하는 용도로 많이 사용 된다."
      ],
      "metadata": {
        "id": "8IU4De-SODjl"
      }
    },
    {
      "cell_type": "code",
      "source": [
        "# 상속 \n",
        "class Cal:\n",
        "    def __init__(self, first, second):\n",
        "        self.first = first\n",
        "        self.second = second\n",
        "\n",
        "    def add(self):\n",
        "        result = self.first + self.second\n",
        "        return result\n",
        "\n",
        "    def mul(self):\n",
        "        result = self.first * self.second\n",
        "        return result\n",
        "\n",
        "    def div(self):\n",
        "        result = self.first / self.second\n",
        "        return result\n",
        "\n",
        "\n",
        "class MoreCal(Cal):\n",
        "    def sub(self):\n",
        "        result = self.first - self.second\n",
        "        return result\n",
        "\n",
        "    def div(self):\n",
        "        if self.second == 0:\n",
        "            return \"계산 불가입니다.\"\n",
        "        else:\n",
        "            result = self.first / self.second\n",
        "            return result\n",
        "\n",
        "cal5 = MoreCal(2,0)\n",
        "# cal3.add()\n",
        "cal5.div()"
      ],
      "metadata": {
        "colab": {
          "base_uri": "https://localhost:8080/",
          "height": 36
        },
        "id": "iX85vRokOF-v",
        "outputId": "a4cb4ed5-c330-4b3f-cfb6-44ec312071c7"
      },
      "execution_count": null,
      "outputs": [
        {
          "output_type": "execute_result",
          "data": {
            "text/plain": [
              "'계산 불가입니다.'"
            ],
            "application/vnd.google.colaboratory.intrinsic+json": {
              "type": "string"
            }
          },
          "metadata": {},
          "execution_count": 9
        }
      ]
    },
    {
      "cell_type": "markdown",
      "source": [
        "# 예외 처리 exception\n",
        "\n",
        "오류….에러…가 발생했을 때 적절하게 상황에 따라 처리해 주는 것을 예외 처리 라고 한다. \n",
        "\n",
        "**try:**\n",
        "\n",
        "**에러가 발생할수도 있을것 같은 구문**"
      ],
      "metadata": {
        "id": "_8_FxG5nOjmc"
      }
    },
    {
      "cell_type": "code",
      "source": [
        "result1 = 0\n",
        "def add1(num):\n",
        "  global result1\n",
        "  result1 += num\n",
        "  return result1\n",
        "\n",
        "print(add1(2))\n",
        "print(add1(2))"
      ],
      "metadata": {
        "colab": {
          "base_uri": "https://localhost:8080/"
        },
        "id": "OyqrY7veOitx",
        "outputId": "0295b77a-2ae6-4513-aaeb-a5b17c8ace4d"
      },
      "execution_count": null,
      "outputs": [
        {
          "output_type": "stream",
          "name": "stdout",
          "text": [
            "2\n",
            "4\n"
          ]
        }
      ]
    }
  ]
}